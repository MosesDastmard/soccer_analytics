{
 "cells": [
  {
   "cell_type": "code",
   "execution_count": 108,
   "metadata": {},
   "outputs": [],
   "source": [
    "import pandas as pd\n",
    "import zipfile # it is used for reading the zip file without extrating\n",
    "import numpy as np\n",
    "import matplotlib.pyplot as plt"
   ]
  },
  {
   "cell_type": "markdown",
   "metadata": {},
   "source": [
    "## RQ1"
   ]
  },
  {
   "cell_type": "code",
   "execution_count": 2,
   "metadata": {},
   "outputs": [],
   "source": [
    "with zipfile.ZipFile(\"Soccer Data\\matches.zip\") as Z:\n",
    "    with Z.open(\"matches_England.json\") as f:\n",
    "        matches_df = pd.read_json(f)"
   ]
  },
  {
   "cell_type": "markdown",
   "metadata": {},
   "source": [
    "## Matche Data Frame"
   ]
  },
  {
   "cell_type": "code",
   "execution_count": 3,
   "metadata": {
    "scrolled": true
   },
   "outputs": [
    {
     "data": {
      "text/html": [
       "<div>\n",
       "<style scoped>\n",
       "    .dataframe tbody tr th:only-of-type {\n",
       "        vertical-align: middle;\n",
       "    }\n",
       "\n",
       "    .dataframe tbody tr th {\n",
       "        vertical-align: top;\n",
       "    }\n",
       "\n",
       "    .dataframe thead th {\n",
       "        text-align: right;\n",
       "    }\n",
       "</style>\n",
       "<table border=\"1\" class=\"dataframe\">\n",
       "  <thead>\n",
       "    <tr style=\"text-align: right;\">\n",
       "      <th></th>\n",
       "      <th>competitionId</th>\n",
       "      <th>date</th>\n",
       "      <th>dateutc</th>\n",
       "      <th>duration</th>\n",
       "      <th>gameweek</th>\n",
       "      <th>label</th>\n",
       "      <th>referees</th>\n",
       "      <th>roundId</th>\n",
       "      <th>seasonId</th>\n",
       "      <th>status</th>\n",
       "      <th>teamsData</th>\n",
       "      <th>venue</th>\n",
       "      <th>winner</th>\n",
       "      <th>wyId</th>\n",
       "    </tr>\n",
       "  </thead>\n",
       "  <tbody>\n",
       "    <tr>\n",
       "      <th>0</th>\n",
       "      <td>364</td>\n",
       "      <td>May 13, 2018 at 4:00:00 PM GMT+2</td>\n",
       "      <td>2018-05-13 14:00:00</td>\n",
       "      <td>Regular</td>\n",
       "      <td>38</td>\n",
       "      <td>Burnley - AFC Bournemouth, 1 - 2</td>\n",
       "      <td>[{'refereeId': 385705, 'role': 'referee'}, {'r...</td>\n",
       "      <td>4405654</td>\n",
       "      <td>181150</td>\n",
       "      <td>Played</td>\n",
       "      <td>{'1646': {'scoreET': 0, 'coachId': 8880, 'side...</td>\n",
       "      <td>Turf Moor</td>\n",
       "      <td>1659</td>\n",
       "      <td>2500089</td>\n",
       "    </tr>\n",
       "    <tr>\n",
       "      <th>1</th>\n",
       "      <td>364</td>\n",
       "      <td>May 13, 2018 at 4:00:00 PM GMT+2</td>\n",
       "      <td>2018-05-13 14:00:00</td>\n",
       "      <td>Regular</td>\n",
       "      <td>38</td>\n",
       "      <td>Crystal Palace - West Bromwich Albion, 2 - 0</td>\n",
       "      <td>[{'refereeId': 381851, 'role': 'referee'}, {'r...</td>\n",
       "      <td>4405654</td>\n",
       "      <td>181150</td>\n",
       "      <td>Played</td>\n",
       "      <td>{'1628': {'scoreET': 0, 'coachId': 8357, 'side...</td>\n",
       "      <td>Selhurst Park</td>\n",
       "      <td>1628</td>\n",
       "      <td>2500090</td>\n",
       "    </tr>\n",
       "  </tbody>\n",
       "</table>\n",
       "</div>"
      ],
      "text/plain": [
       "   competitionId                              date              dateutc  \\\n",
       "0            364  May 13, 2018 at 4:00:00 PM GMT+2  2018-05-13 14:00:00   \n",
       "1            364  May 13, 2018 at 4:00:00 PM GMT+2  2018-05-13 14:00:00   \n",
       "\n",
       "  duration  gameweek                                         label  \\\n",
       "0  Regular        38              Burnley - AFC Bournemouth, 1 - 2   \n",
       "1  Regular        38  Crystal Palace - West Bromwich Albion, 2 - 0   \n",
       "\n",
       "                                            referees  roundId  seasonId  \\\n",
       "0  [{'refereeId': 385705, 'role': 'referee'}, {'r...  4405654    181150   \n",
       "1  [{'refereeId': 381851, 'role': 'referee'}, {'r...  4405654    181150   \n",
       "\n",
       "   status                                          teamsData          venue  \\\n",
       "0  Played  {'1646': {'scoreET': 0, 'coachId': 8880, 'side...      Turf Moor   \n",
       "1  Played  {'1628': {'scoreET': 0, 'coachId': 8357, 'side...  Selhurst Park   \n",
       "\n",
       "   winner     wyId  \n",
       "0    1659  2500089  \n",
       "1    1628  2500090  "
      ]
     },
     "execution_count": 3,
     "metadata": {},
     "output_type": "execute_result"
    }
   ],
   "source": [
    "matches_df.head(2)"
   ]
  },
  {
   "cell_type": "code",
   "execution_count": 4,
   "metadata": {},
   "outputs": [],
   "source": [
    "point_data = list()\n",
    "for i in range(len(matches_df)):\n",
    "    gameweek = matches_df.iloc[i].gameweek# iloc is used for the locating data in a data frame\n",
    "    label = matches_df.iloc[i].label\n",
    "    [[home_team, away_team], [home_score, away_score]] = [[o.strip() for o in s.split('-')] for s in label.split(',')]# here we have converted the label column into a nested list, od home team/away team . HOme score and Away score \n",
    "    home_score = int(home_score)\n",
    "    away_score = int(away_score)\n",
    "    if home_score > away_score:# we have identified the winner /looser and Draw\n",
    "        home_point = 3\n",
    "        away_point = 0\n",
    "    if away_score > home_score:\n",
    "        away_point = 3\n",
    "        home_point = 0\n",
    "    if away_score == home_score:\n",
    "        home_point = 1\n",
    "        away_point = 1\n",
    "    point_data.append([gameweek, home_team, home_point]) #here we have summarize the team with week and point all together\n",
    "    point_data.append([gameweek, away_team, away_point])\n",
    "point_df = pd.DataFrame(point_data, columns=['gameweek', 'team', 'point']) #setup a datafram"
   ]
  },
  {
   "cell_type": "markdown",
   "metadata": {},
   "source": [
    "## Summarize Dataframe on the terms of Teams and Point in the weeks"
   ]
  },
  {
   "cell_type": "code",
   "execution_count": 5,
   "metadata": {},
   "outputs": [
    {
     "data": {
      "text/html": [
       "<div>\n",
       "<style scoped>\n",
       "    .dataframe tbody tr th:only-of-type {\n",
       "        vertical-align: middle;\n",
       "    }\n",
       "\n",
       "    .dataframe tbody tr th {\n",
       "        vertical-align: top;\n",
       "    }\n",
       "\n",
       "    .dataframe thead th {\n",
       "        text-align: right;\n",
       "    }\n",
       "</style>\n",
       "<table border=\"1\" class=\"dataframe\">\n",
       "  <thead>\n",
       "    <tr style=\"text-align: right;\">\n",
       "      <th></th>\n",
       "      <th>gameweek</th>\n",
       "      <th>team</th>\n",
       "      <th>point</th>\n",
       "    </tr>\n",
       "  </thead>\n",
       "  <tbody>\n",
       "    <tr>\n",
       "      <th>0</th>\n",
       "      <td>38</td>\n",
       "      <td>Burnley</td>\n",
       "      <td>0</td>\n",
       "    </tr>\n",
       "    <tr>\n",
       "      <th>1</th>\n",
       "      <td>38</td>\n",
       "      <td>AFC Bournemouth</td>\n",
       "      <td>3</td>\n",
       "    </tr>\n",
       "    <tr>\n",
       "      <th>2</th>\n",
       "      <td>38</td>\n",
       "      <td>Crystal Palace</td>\n",
       "      <td>3</td>\n",
       "    </tr>\n",
       "    <tr>\n",
       "      <th>3</th>\n",
       "      <td>38</td>\n",
       "      <td>West Bromwich Albion</td>\n",
       "      <td>0</td>\n",
       "    </tr>\n",
       "    <tr>\n",
       "      <th>4</th>\n",
       "      <td>38</td>\n",
       "      <td>Huddersfield Town</td>\n",
       "      <td>0</td>\n",
       "    </tr>\n",
       "  </tbody>\n",
       "</table>\n",
       "</div>"
      ],
      "text/plain": [
       "   gameweek                  team  point\n",
       "0        38               Burnley      0\n",
       "1        38       AFC Bournemouth      3\n",
       "2        38        Crystal Palace      3\n",
       "3        38  West Bromwich Albion      0\n",
       "4        38     Huddersfield Town      0"
      ]
     },
     "execution_count": 5,
     "metadata": {},
     "output_type": "execute_result"
    }
   ],
   "source": [
    "point_df.head(5)"
   ]
  },
  {
   "cell_type": "markdown",
   "metadata": {},
   "source": [
    "## Final Plotting of Data"
   ]
  },
  {
   "cell_type": "code",
   "execution_count": 6,
   "metadata": {},
   "outputs": [
    {
     "data": {
      "text/plain": [
       "Text(0, 0.5, 'Points')"
      ]
     },
     "execution_count": 6,
     "metadata": {},
     "output_type": "execute_result"
    },
    {
     "data": {
      "image/png": "[encoded data removed]",
      "text/plain": [
       "<Figure size 1440x864 with 1 Axes>"
      ]
     },
     "metadata": {
      "needs_background": "light"
     },
     "output_type": "display_data"
    }
   ],
   "source": [
    "colormap = plt.cm.gist_ncar #gist_ncar is a tool for pick colour based of the float numbers\n",
    "\n",
    "team_table = point_df.pivot(index= 'gameweek', columns='team', values=['point']).cumsum().fillna(method = 'backfill').fillna(method='ffill')\n",
    "plt.figure(figsize=[20,12])\n",
    "color = [colormap(i) for i in np.linspace(0, 0.9, len(team_table.columns))]\n",
    "[plt.plot(team_table.iloc[:,i], color = color[i]) for i in range(len(team_table.columns))]\n",
    "plt.legend([team_table.columns[i][1] for i in range(len(team_table.columns))], fontsize=12)\n",
    "plt.xticks(team_table.index)\n",
    "plt.xlabel(\"Weeks\", fontsize=16)\n",
    "plt.ylabel(\"Points\", fontsize=16)"
   ]
  },
  {
   "cell_type": "markdown",
   "metadata": {},
   "source": [
    "The Manchester City has the longest winning streak from week 2 till week 20, followed by the runner-up team in longest winning streak is Tottenham Hotspur from week 25 to week 32.\n",
    "\n",
    "The team West Bromwich Albion has the longest lossing streak from week 24 till 32, followed by second longest lossing streak by Crystal Palace with effect from week 1 till week 7.\n"
   ]
  },
  {
   "cell_type": "markdown",
   "metadata": {},
   "source": [
    "## RQ2"
   ]
  },
  {
   "cell_type": "markdown",
   "metadata": {},
   "source": [
    "null hypothesis : if a team is playing in Home or away it will not effect their performance ;\n",
    "Alternative Hypo: if team is playing in their home it effects performance;\n",
    "we considered ALPHA as 5% "
   ]
  },
  {
   "cell_type": "code",
   "execution_count": 7,
   "metadata": {},
   "outputs": [],
   "source": [
    "point_data = list()\n",
    "result = {1 : \"draw\", 0 : \"lost\", 3: \"win\"}\n",
    "for i in range(len(matches_df)):\n",
    "    gameweek = matches_df.iloc[i].gameweek\n",
    "    label = matches_df.iloc[i].label\n",
    "    [[home_team, away_team], [home_score, away_score]] = [[o.strip() for o in s.split('-')] for s in label.split(',')]\n",
    "    home_score = int(home_score)\n",
    "    away_score = int(away_score)\n",
    "    if home_score > away_score:## setting up the Scoring Mechanism\n",
    "        home_point = 3\n",
    "        away_point = 0\n",
    "    if away_score > home_score:\n",
    "        away_point = 3\n",
    "        home_point = 0\n",
    "    if away_score == home_score:\n",
    "        home_point = 1\n",
    "        away_point = 1\n",
    "    point_data.append([gameweek, home_team, home_point, 'home', result[home_point]])\n",
    "    point_data.append([gameweek, away_team, away_point, 'away', result[away_point]])"
   ]
  },
  {
   "cell_type": "code",
   "execution_count": 8,
   "metadata": {},
   "outputs": [
    {
     "data": {
      "text/html": [
       "<div>\n",
       "<style scoped>\n",
       "    .dataframe tbody tr th:only-of-type {\n",
       "        vertical-align: middle;\n",
       "    }\n",
       "\n",
       "    .dataframe tbody tr th {\n",
       "        vertical-align: top;\n",
       "    }\n",
       "\n",
       "    .dataframe thead th {\n",
       "        text-align: right;\n",
       "    }\n",
       "</style>\n",
       "<table border=\"1\" class=\"dataframe\">\n",
       "  <thead>\n",
       "    <tr style=\"text-align: right;\">\n",
       "      <th></th>\n",
       "      <th>gameweek</th>\n",
       "      <th>team</th>\n",
       "      <th>point</th>\n",
       "      <th>home_away</th>\n",
       "      <th>result</th>\n",
       "    </tr>\n",
       "  </thead>\n",
       "  <tbody>\n",
       "    <tr>\n",
       "      <th>0</th>\n",
       "      <td>38</td>\n",
       "      <td>Burnley</td>\n",
       "      <td>0</td>\n",
       "      <td>home</td>\n",
       "      <td>lost</td>\n",
       "    </tr>\n",
       "    <tr>\n",
       "      <th>1</th>\n",
       "      <td>38</td>\n",
       "      <td>AFC Bournemouth</td>\n",
       "      <td>3</td>\n",
       "      <td>away</td>\n",
       "      <td>win</td>\n",
       "    </tr>\n",
       "    <tr>\n",
       "      <th>2</th>\n",
       "      <td>38</td>\n",
       "      <td>Crystal Palace</td>\n",
       "      <td>3</td>\n",
       "      <td>home</td>\n",
       "      <td>win</td>\n",
       "    </tr>\n",
       "    <tr>\n",
       "      <th>3</th>\n",
       "      <td>38</td>\n",
       "      <td>West Bromwich Albion</td>\n",
       "      <td>0</td>\n",
       "      <td>away</td>\n",
       "      <td>lost</td>\n",
       "    </tr>\n",
       "    <tr>\n",
       "      <th>4</th>\n",
       "      <td>38</td>\n",
       "      <td>Huddersfield Town</td>\n",
       "      <td>0</td>\n",
       "      <td>home</td>\n",
       "      <td>lost</td>\n",
       "    </tr>\n",
       "  </tbody>\n",
       "</table>\n",
       "</div>"
      ],
      "text/plain": [
       "   gameweek                  team  point home_away result\n",
       "0        38               Burnley      0      home   lost\n",
       "1        38       AFC Bournemouth      3      away    win\n",
       "2        38        Crystal Palace      3      home    win\n",
       "3        38  West Bromwich Albion      0      away   lost\n",
       "4        38     Huddersfield Town      0      home   lost"
      ]
     },
     "execution_count": 8,
     "metadata": {},
     "output_type": "execute_result"
    }
   ],
   "source": [
    "point_df = pd.DataFrame(point_data, columns=['gameweek', 'team', 'point', 'home_away', 'result'])\n",
    "point_df.head(5)"
   ]
  },
  {
   "cell_type": "markdown",
   "metadata": {},
   "source": [
    "## Final Dataset:Filtered and Selected 5 Teams"
   ]
  },
  {
   "cell_type": "code",
   "execution_count": 9,
   "metadata": {},
   "outputs": [],
   "source": [
    "teams = ['Arsenal', 'Chelsea', 'Liverpool', 'Manchester United', 'Manchester City']\n",
    "point_df_selected = point_df[[t in teams for t in point_df['team']]]\n",
    "tab = pd.crosstab(index=[point_df_selected['team'],point_df_selected['home_away']], columns=point_df_selected['result'])"
   ]
  },
  {
   "cell_type": "markdown",
   "metadata": {},
   "source": [
    "## Final Dataset"
   ]
  },
  {
   "cell_type": "code",
   "execution_count": 10,
   "metadata": {},
   "outputs": [
    {
     "data": {
      "text/html": [
       "<div>\n",
       "<style scoped>\n",
       "    .dataframe tbody tr th:only-of-type {\n",
       "        vertical-align: middle;\n",
       "    }\n",
       "\n",
       "    .dataframe tbody tr th {\n",
       "        vertical-align: top;\n",
       "    }\n",
       "\n",
       "    .dataframe thead th {\n",
       "        text-align: right;\n",
       "    }\n",
       "</style>\n",
       "<table border=\"1\" class=\"dataframe\">\n",
       "  <thead>\n",
       "    <tr style=\"text-align: right;\">\n",
       "      <th></th>\n",
       "      <th>result</th>\n",
       "      <th>draw</th>\n",
       "      <th>lost</th>\n",
       "      <th>win</th>\n",
       "    </tr>\n",
       "    <tr>\n",
       "      <th>team</th>\n",
       "      <th>home_away</th>\n",
       "      <th></th>\n",
       "      <th></th>\n",
       "      <th></th>\n",
       "    </tr>\n",
       "  </thead>\n",
       "  <tbody>\n",
       "    <tr>\n",
       "      <th rowspan=\"2\" valign=\"top\">Arsenal</th>\n",
       "      <th>away</th>\n",
       "      <td>4</td>\n",
       "      <td>11</td>\n",
       "      <td>4</td>\n",
       "    </tr>\n",
       "    <tr>\n",
       "      <th>home</th>\n",
       "      <td>2</td>\n",
       "      <td>2</td>\n",
       "      <td>15</td>\n",
       "    </tr>\n",
       "    <tr>\n",
       "      <th rowspan=\"2\" valign=\"top\">Chelsea</th>\n",
       "      <th>away</th>\n",
       "      <td>3</td>\n",
       "      <td>6</td>\n",
       "      <td>10</td>\n",
       "    </tr>\n",
       "    <tr>\n",
       "      <th>home</th>\n",
       "      <td>4</td>\n",
       "      <td>4</td>\n",
       "      <td>11</td>\n",
       "    </tr>\n",
       "    <tr>\n",
       "      <th rowspan=\"2\" valign=\"top\">Liverpool</th>\n",
       "      <th>away</th>\n",
       "      <td>5</td>\n",
       "      <td>5</td>\n",
       "      <td>9</td>\n",
       "    </tr>\n",
       "    <tr>\n",
       "      <th>home</th>\n",
       "      <td>7</td>\n",
       "      <td>0</td>\n",
       "      <td>12</td>\n",
       "    </tr>\n",
       "    <tr>\n",
       "      <th rowspan=\"2\" valign=\"top\">Manchester City</th>\n",
       "      <th>away</th>\n",
       "      <td>2</td>\n",
       "      <td>1</td>\n",
       "      <td>16</td>\n",
       "    </tr>\n",
       "    <tr>\n",
       "      <th>home</th>\n",
       "      <td>2</td>\n",
       "      <td>1</td>\n",
       "      <td>16</td>\n",
       "    </tr>\n",
       "    <tr>\n",
       "      <th rowspan=\"2\" valign=\"top\">Manchester United</th>\n",
       "      <th>away</th>\n",
       "      <td>4</td>\n",
       "      <td>5</td>\n",
       "      <td>10</td>\n",
       "    </tr>\n",
       "    <tr>\n",
       "      <th>home</th>\n",
       "      <td>2</td>\n",
       "      <td>2</td>\n",
       "      <td>15</td>\n",
       "    </tr>\n",
       "  </tbody>\n",
       "</table>\n",
       "</div>"
      ],
      "text/plain": [
       "result                       draw  lost  win\n",
       "team              home_away                 \n",
       "Arsenal           away          4    11    4\n",
       "                  home          2     2   15\n",
       "Chelsea           away          3     6   10\n",
       "                  home          4     4   11\n",
       "Liverpool         away          5     5    9\n",
       "                  home          7     0   12\n",
       "Manchester City   away          2     1   16\n",
       "                  home          2     1   16\n",
       "Manchester United away          4     5   10\n",
       "                  home          2     2   15"
      ]
     },
     "execution_count": 10,
     "metadata": {},
     "output_type": "execute_result"
    }
   ],
   "source": [
    "tab"
   ]
  },
  {
   "cell_type": "markdown",
   "metadata": {},
   "source": [
    "## Results"
   ]
  },
  {
   "cell_type": "code",
   "execution_count": 11,
   "metadata": {},
   "outputs": [],
   "source": [
    "from scipy.stats import chi2_contingency"
   ]
  },
  {
   "cell_type": "code",
   "execution_count": 12,
   "metadata": {},
   "outputs": [
    {
     "data": {
      "text/html": [
       "<div>\n",
       "<style scoped>\n",
       "    .dataframe tbody tr th:only-of-type {\n",
       "        vertical-align: middle;\n",
       "    }\n",
       "\n",
       "    .dataframe tbody tr th {\n",
       "        vertical-align: top;\n",
       "    }\n",
       "\n",
       "    .dataframe thead th {\n",
       "        text-align: right;\n",
       "    }\n",
       "</style>\n",
       "<table border=\"1\" class=\"dataframe\">\n",
       "  <thead>\n",
       "    <tr style=\"text-align: right;\">\n",
       "      <th></th>\n",
       "      <th>result</th>\n",
       "      <th>draw</th>\n",
       "      <th>lost</th>\n",
       "      <th>win</th>\n",
       "    </tr>\n",
       "    <tr>\n",
       "      <th>team</th>\n",
       "      <th>home_away</th>\n",
       "      <th></th>\n",
       "      <th></th>\n",
       "      <th></th>\n",
       "    </tr>\n",
       "  </thead>\n",
       "  <tbody>\n",
       "    <tr>\n",
       "      <th rowspan=\"2\" valign=\"top\">Arsenal</th>\n",
       "      <th>away</th>\n",
       "      <td>4</td>\n",
       "      <td>11</td>\n",
       "      <td>4</td>\n",
       "    </tr>\n",
       "    <tr>\n",
       "      <th>home</th>\n",
       "      <td>2</td>\n",
       "      <td>2</td>\n",
       "      <td>15</td>\n",
       "    </tr>\n",
       "  </tbody>\n",
       "</table>\n",
       "</div>"
      ],
      "text/plain": [
       "result             draw  lost  win\n",
       "team    home_away                 \n",
       "Arsenal away          4    11    4\n",
       "        home          2     2   15"
      ]
     },
     "execution_count": 12,
     "metadata": {},
     "output_type": "execute_result"
    }
   ],
   "source": [
    "tab.iloc[:2,:]## the result table"
   ]
  },
  {
   "cell_type": "code",
   "execution_count": 13,
   "metadata": {},
   "outputs": [
    {
     "data": {
      "text/plain": [
       "(13.265856950067477, 0.001316302676697684, 2, array([[3. , 6.5, 9.5],\n",
       "        [3. , 6.5, 9.5]]))"
      ]
     },
     "execution_count": 13,
     "metadata": {},
     "output_type": "execute_result"
    }
   ],
   "source": [
    "chi2_contingency(tab.iloc[:2,:].values) ## the NULL hypothesis is rejected"
   ]
  },
  {
   "cell_type": "code",
   "execution_count": 14,
   "metadata": {},
   "outputs": [
    {
     "data": {
      "text/html": [
       "<div>\n",
       "<style scoped>\n",
       "    .dataframe tbody tr th:only-of-type {\n",
       "        vertical-align: middle;\n",
       "    }\n",
       "\n",
       "    .dataframe tbody tr th {\n",
       "        vertical-align: top;\n",
       "    }\n",
       "\n",
       "    .dataframe thead th {\n",
       "        text-align: right;\n",
       "    }\n",
       "</style>\n",
       "<table border=\"1\" class=\"dataframe\">\n",
       "  <thead>\n",
       "    <tr style=\"text-align: right;\">\n",
       "      <th></th>\n",
       "      <th>result</th>\n",
       "      <th>draw</th>\n",
       "      <th>lost</th>\n",
       "      <th>win</th>\n",
       "    </tr>\n",
       "    <tr>\n",
       "      <th>team</th>\n",
       "      <th>home_away</th>\n",
       "      <th></th>\n",
       "      <th></th>\n",
       "      <th></th>\n",
       "    </tr>\n",
       "  </thead>\n",
       "  <tbody>\n",
       "    <tr>\n",
       "      <th rowspan=\"2\" valign=\"top\">Chelsea</th>\n",
       "      <th>away</th>\n",
       "      <td>3</td>\n",
       "      <td>6</td>\n",
       "      <td>10</td>\n",
       "    </tr>\n",
       "    <tr>\n",
       "      <th>home</th>\n",
       "      <td>4</td>\n",
       "      <td>4</td>\n",
       "      <td>11</td>\n",
       "    </tr>\n",
       "  </tbody>\n",
       "</table>\n",
       "</div>"
      ],
      "text/plain": [
       "result             draw  lost  win\n",
       "team    home_away                 \n",
       "Chelsea away          3     6   10\n",
       "        home          4     4   11"
      ]
     },
     "execution_count": 14,
     "metadata": {},
     "output_type": "execute_result"
    }
   ],
   "source": [
    "tab.iloc[2:4,:]"
   ]
  },
  {
   "cell_type": "code",
   "execution_count": 15,
   "metadata": {},
   "outputs": [
    {
     "data": {
      "text/plain": [
       "(0.5904761904761905, 0.7443543391421505, 2, array([[ 3.5,  5. , 10.5],\n",
       "        [ 3.5,  5. , 10.5]]))"
      ]
     },
     "execution_count": 15,
     "metadata": {},
     "output_type": "execute_result"
    }
   ],
   "source": [
    "chi2_contingency(tab.iloc[2:4,:].values)## the NULL hypothesis is not rejected"
   ]
  },
  {
   "cell_type": "code",
   "execution_count": 16,
   "metadata": {},
   "outputs": [
    {
     "data": {
      "text/html": [
       "<div>\n",
       "<style scoped>\n",
       "    .dataframe tbody tr th:only-of-type {\n",
       "        vertical-align: middle;\n",
       "    }\n",
       "\n",
       "    .dataframe tbody tr th {\n",
       "        vertical-align: top;\n",
       "    }\n",
       "\n",
       "    .dataframe thead th {\n",
       "        text-align: right;\n",
       "    }\n",
       "</style>\n",
       "<table border=\"1\" class=\"dataframe\">\n",
       "  <thead>\n",
       "    <tr style=\"text-align: right;\">\n",
       "      <th></th>\n",
       "      <th>result</th>\n",
       "      <th>draw</th>\n",
       "      <th>lost</th>\n",
       "      <th>win</th>\n",
       "    </tr>\n",
       "    <tr>\n",
       "      <th>team</th>\n",
       "      <th>home_away</th>\n",
       "      <th></th>\n",
       "      <th></th>\n",
       "      <th></th>\n",
       "    </tr>\n",
       "  </thead>\n",
       "  <tbody>\n",
       "    <tr>\n",
       "      <th rowspan=\"2\" valign=\"top\">Liverpool</th>\n",
       "      <th>away</th>\n",
       "      <td>5</td>\n",
       "      <td>5</td>\n",
       "      <td>9</td>\n",
       "    </tr>\n",
       "    <tr>\n",
       "      <th>home</th>\n",
       "      <td>7</td>\n",
       "      <td>0</td>\n",
       "      <td>12</td>\n",
       "    </tr>\n",
       "  </tbody>\n",
       "</table>\n",
       "</div>"
      ],
      "text/plain": [
       "result               draw  lost  win\n",
       "team      home_away                 \n",
       "Liverpool away          5     5    9\n",
       "          home          7     0   12"
      ]
     },
     "execution_count": 16,
     "metadata": {},
     "output_type": "execute_result"
    }
   ],
   "source": [
    "tab.iloc[4:6,:]"
   ]
  },
  {
   "cell_type": "code",
   "execution_count": 17,
   "metadata": {},
   "outputs": [
    {
     "data": {
      "text/plain": [
       "(5.761904761904762, 0.05608132660510643, 2, array([[ 6. ,  2.5, 10.5],\n",
       "        [ 6. ,  2.5, 10.5]]))"
      ]
     },
     "execution_count": 17,
     "metadata": {},
     "output_type": "execute_result"
    }
   ],
   "source": [
    "chi2_contingency(tab.iloc[4:6,:].values)## the NULL hypothesis is not rejected"
   ]
  },
  {
   "cell_type": "code",
   "execution_count": 18,
   "metadata": {},
   "outputs": [
    {
     "data": {
      "text/html": [
       "<div>\n",
       "<style scoped>\n",
       "    .dataframe tbody tr th:only-of-type {\n",
       "        vertical-align: middle;\n",
       "    }\n",
       "\n",
       "    .dataframe tbody tr th {\n",
       "        vertical-align: top;\n",
       "    }\n",
       "\n",
       "    .dataframe thead th {\n",
       "        text-align: right;\n",
       "    }\n",
       "</style>\n",
       "<table border=\"1\" class=\"dataframe\">\n",
       "  <thead>\n",
       "    <tr style=\"text-align: right;\">\n",
       "      <th></th>\n",
       "      <th>result</th>\n",
       "      <th>draw</th>\n",
       "      <th>lost</th>\n",
       "      <th>win</th>\n",
       "    </tr>\n",
       "    <tr>\n",
       "      <th>team</th>\n",
       "      <th>home_away</th>\n",
       "      <th></th>\n",
       "      <th></th>\n",
       "      <th></th>\n",
       "    </tr>\n",
       "  </thead>\n",
       "  <tbody>\n",
       "    <tr>\n",
       "      <th rowspan=\"2\" valign=\"top\">Manchester City</th>\n",
       "      <th>away</th>\n",
       "      <td>2</td>\n",
       "      <td>1</td>\n",
       "      <td>16</td>\n",
       "    </tr>\n",
       "    <tr>\n",
       "      <th>home</th>\n",
       "      <td>2</td>\n",
       "      <td>1</td>\n",
       "      <td>16</td>\n",
       "    </tr>\n",
       "  </tbody>\n",
       "</table>\n",
       "</div>"
      ],
      "text/plain": [
       "result                     draw  lost  win\n",
       "team            home_away                 \n",
       "Manchester City away          2     1   16\n",
       "                home          2     1   16"
      ]
     },
     "execution_count": 18,
     "metadata": {},
     "output_type": "execute_result"
    }
   ],
   "source": [
    "tab.iloc[6:8,:]"
   ]
  },
  {
   "cell_type": "code",
   "execution_count": 19,
   "metadata": {},
   "outputs": [
    {
     "data": {
      "text/plain": [
       "(0.0, 1.0, 2, array([[ 2.,  1., 16.],\n",
       "        [ 2.,  1., 16.]]))"
      ]
     },
     "execution_count": 19,
     "metadata": {},
     "output_type": "execute_result"
    }
   ],
   "source": [
    "chi2_contingency(tab.iloc[6:8,:].values)## the NULL hypothesis is not rejected"
   ]
  },
  {
   "cell_type": "code",
   "execution_count": 20,
   "metadata": {},
   "outputs": [
    {
     "data": {
      "text/html": [
       "<div>\n",
       "<style scoped>\n",
       "    .dataframe tbody tr th:only-of-type {\n",
       "        vertical-align: middle;\n",
       "    }\n",
       "\n",
       "    .dataframe tbody tr th {\n",
       "        vertical-align: top;\n",
       "    }\n",
       "\n",
       "    .dataframe thead th {\n",
       "        text-align: right;\n",
       "    }\n",
       "</style>\n",
       "<table border=\"1\" class=\"dataframe\">\n",
       "  <thead>\n",
       "    <tr style=\"text-align: right;\">\n",
       "      <th></th>\n",
       "      <th>result</th>\n",
       "      <th>draw</th>\n",
       "      <th>lost</th>\n",
       "      <th>win</th>\n",
       "    </tr>\n",
       "    <tr>\n",
       "      <th>team</th>\n",
       "      <th>home_away</th>\n",
       "      <th></th>\n",
       "      <th></th>\n",
       "      <th></th>\n",
       "    </tr>\n",
       "  </thead>\n",
       "  <tbody>\n",
       "    <tr>\n",
       "      <th rowspan=\"2\" valign=\"top\">Manchester United</th>\n",
       "      <th>away</th>\n",
       "      <td>4</td>\n",
       "      <td>5</td>\n",
       "      <td>10</td>\n",
       "    </tr>\n",
       "    <tr>\n",
       "      <th>home</th>\n",
       "      <td>2</td>\n",
       "      <td>2</td>\n",
       "      <td>15</td>\n",
       "    </tr>\n",
       "  </tbody>\n",
       "</table>\n",
       "</div>"
      ],
      "text/plain": [
       "result                       draw  lost  win\n",
       "team              home_away                 \n",
       "Manchester United away          4     5   10\n",
       "                  home          2     2   15"
      ]
     },
     "execution_count": 20,
     "metadata": {},
     "output_type": "execute_result"
    }
   ],
   "source": [
    "tab.iloc[8:10,:]"
   ]
  },
  {
   "cell_type": "code",
   "execution_count": 21,
   "metadata": {},
   "outputs": [
    {
     "data": {
      "text/plain": [
       "(2.9523809523809526, 0.22850653346991975, 2, array([[ 3. ,  3.5, 12.5],\n",
       "        [ 3. ,  3.5, 12.5]]))"
      ]
     },
     "execution_count": 21,
     "metadata": {},
     "output_type": "execute_result"
    }
   ],
   "source": [
    "chi2_contingency(tab.iloc[8:10,:].values)## the NULL hypothesis is not rejected"
   ]
  },
  {
   "cell_type": "markdown",
   "metadata": {},
   "source": [
    "Arsenal is the only team with p-value less than 5%"
   ]
  },
  {
   "cell_type": "markdown",
   "metadata": {},
   "source": [
    "## RQ3"
   ]
  },
  {
   "cell_type": "markdown",
   "metadata": {},
   "source": [
    "## Import Teams Data"
   ]
  },
  {
   "cell_type": "code",
   "execution_count": 22,
   "metadata": {},
   "outputs": [
    {
     "data": {
      "text/html": [
       "<div>\n",
       "<style scoped>\n",
       "    .dataframe tbody tr th:only-of-type {\n",
       "        vertical-align: middle;\n",
       "    }\n",
       "\n",
       "    .dataframe tbody tr th {\n",
       "        vertical-align: top;\n",
       "    }\n",
       "\n",
       "    .dataframe thead th {\n",
       "        text-align: right;\n",
       "    }\n",
       "</style>\n",
       "<table border=\"1\" class=\"dataframe\">\n",
       "  <thead>\n",
       "    <tr style=\"text-align: right;\">\n",
       "      <th></th>\n",
       "      <th>area</th>\n",
       "      <th>city</th>\n",
       "      <th>name</th>\n",
       "      <th>officialName</th>\n",
       "      <th>type</th>\n",
       "      <th>wyId</th>\n",
       "    </tr>\n",
       "  </thead>\n",
       "  <tbody>\n",
       "    <tr>\n",
       "      <th>0</th>\n",
       "      <td>{'name': 'England', 'id': '0', 'alpha3code': '...</td>\n",
       "      <td>Newcastle upon Tyne</td>\n",
       "      <td>Newcastle United</td>\n",
       "      <td>Newcastle United FC</td>\n",
       "      <td>club</td>\n",
       "      <td>1613</td>\n",
       "    </tr>\n",
       "    <tr>\n",
       "      <th>1</th>\n",
       "      <td>{'name': 'Spain', 'id': '724', 'alpha3code': '...</td>\n",
       "      <td>Vigo</td>\n",
       "      <td>Celta de Vigo</td>\n",
       "      <td>Real Club Celta de Vigo</td>\n",
       "      <td>club</td>\n",
       "      <td>692</td>\n",
       "    </tr>\n",
       "    <tr>\n",
       "      <th>2</th>\n",
       "      <td>{'name': 'Spain', 'id': '724', 'alpha3code': '...</td>\n",
       "      <td>Barcelona</td>\n",
       "      <td>Espanyol</td>\n",
       "      <td>Reial Club Deportiu Espanyol</td>\n",
       "      <td>club</td>\n",
       "      <td>691</td>\n",
       "    </tr>\n",
       "    <tr>\n",
       "      <th>3</th>\n",
       "      <td>{'name': 'Spain', 'id': '724', 'alpha3code': '...</td>\n",
       "      <td>Vitoria-Gasteiz</td>\n",
       "      <td>Deportivo Alav\\u00e9s</td>\n",
       "      <td>Deportivo Alav\\u00e9s</td>\n",
       "      <td>club</td>\n",
       "      <td>696</td>\n",
       "    </tr>\n",
       "    <tr>\n",
       "      <th>4</th>\n",
       "      <td>{'name': 'Spain', 'id': '724', 'alpha3code': '...</td>\n",
       "      <td>Valencia</td>\n",
       "      <td>Levante</td>\n",
       "      <td>Levante UD</td>\n",
       "      <td>club</td>\n",
       "      <td>695</td>\n",
       "    </tr>\n",
       "  </tbody>\n",
       "</table>\n",
       "</div>"
      ],
      "text/plain": [
       "                                                area                 city  \\\n",
       "0  {'name': 'England', 'id': '0', 'alpha3code': '...  Newcastle upon Tyne   \n",
       "1  {'name': 'Spain', 'id': '724', 'alpha3code': '...                 Vigo   \n",
       "2  {'name': 'Spain', 'id': '724', 'alpha3code': '...            Barcelona   \n",
       "3  {'name': 'Spain', 'id': '724', 'alpha3code': '...      Vitoria-Gasteiz   \n",
       "4  {'name': 'Spain', 'id': '724', 'alpha3code': '...             Valencia   \n",
       "\n",
       "                    name                  officialName  type  wyId  \n",
       "0       Newcastle United           Newcastle United FC  club  1613  \n",
       "1          Celta de Vigo       Real Club Celta de Vigo  club   692  \n",
       "2               Espanyol  Reial Club Deportiu Espanyol  club   691  \n",
       "3  Deportivo Alav\\u00e9s         Deportivo Alav\\u00e9s  club   696  \n",
       "4                Levante                    Levante UD  club   695  "
      ]
     },
     "execution_count": 22,
     "metadata": {},
     "output_type": "execute_result"
    }
   ],
   "source": [
    "teams_df = pd.read_json('soccer data/teams.json', orient = 'values')\n",
    "teams_df.head()"
   ]
  },
  {
   "cell_type": "markdown",
   "metadata": {
    "scrolled": true
   },
   "source": [
    "## Filtering the Teams Data for RQ3"
   ]
  },
  {
   "cell_type": "code",
   "execution_count": 23,
   "metadata": {},
   "outputs": [],
   "source": [
    "teams_df = teams_df.loc[[str(t).find('England') != -1 for t in teams_df.area]]# fileted only 'England' from AREA for Premiere league\n",
    "teams_df = teams_df.loc[[str(t).find('club') != -1 for t in teams_df.type]]# filtered for TYPE 'club' Only"
   ]
  },
  {
   "cell_type": "code",
   "execution_count": 24,
   "metadata": {},
   "outputs": [
    {
     "data": {
      "text/html": [
       "<div>\n",
       "<style scoped>\n",
       "    .dataframe tbody tr th:only-of-type {\n",
       "        vertical-align: middle;\n",
       "    }\n",
       "\n",
       "    .dataframe tbody tr th {\n",
       "        vertical-align: top;\n",
       "    }\n",
       "\n",
       "    .dataframe thead th {\n",
       "        text-align: right;\n",
       "    }\n",
       "</style>\n",
       "<table border=\"1\" class=\"dataframe\">\n",
       "  <thead>\n",
       "    <tr style=\"text-align: right;\">\n",
       "      <th></th>\n",
       "      <th>area</th>\n",
       "      <th>city</th>\n",
       "      <th>name</th>\n",
       "      <th>officialName</th>\n",
       "      <th>type</th>\n",
       "      <th>wyId</th>\n",
       "    </tr>\n",
       "  </thead>\n",
       "  <tbody>\n",
       "    <tr>\n",
       "      <th>0</th>\n",
       "      <td>{'name': 'England', 'id': '0', 'alpha3code': '...</td>\n",
       "      <td>Newcastle upon Tyne</td>\n",
       "      <td>Newcastle United</td>\n",
       "      <td>Newcastle United FC</td>\n",
       "      <td>club</td>\n",
       "      <td>1613</td>\n",
       "    </tr>\n",
       "    <tr>\n",
       "      <th>8</th>\n",
       "      <td>{'name': 'England', 'id': '0', 'alpha3code': '...</td>\n",
       "      <td>Huddersfield, West Yorkshire</td>\n",
       "      <td>Huddersfield Town</td>\n",
       "      <td>Huddersfield Town FC</td>\n",
       "      <td>club</td>\n",
       "      <td>1673</td>\n",
       "    </tr>\n",
       "    <tr>\n",
       "      <th>26</th>\n",
       "      <td>{'name': 'England', 'id': '0', 'alpha3code': '...</td>\n",
       "      <td>Bournemouth, Dorset</td>\n",
       "      <td>AFC Bournemouth</td>\n",
       "      <td>AFC Bournemouth</td>\n",
       "      <td>club</td>\n",
       "      <td>1659</td>\n",
       "    </tr>\n",
       "    <tr>\n",
       "      <th>27</th>\n",
       "      <td>{'name': 'England', 'id': '0', 'alpha3code': '...</td>\n",
       "      <td>Brighton, East Sussex</td>\n",
       "      <td>Brighton &amp; Hove Albion</td>\n",
       "      <td>Brighton &amp; Hove Albion FC</td>\n",
       "      <td>club</td>\n",
       "      <td>1651</td>\n",
       "    </tr>\n",
       "    <tr>\n",
       "      <th>39</th>\n",
       "      <td>{'name': 'England', 'id': '0', 'alpha3code': '...</td>\n",
       "      <td>Burnley, Lancashire</td>\n",
       "      <td>Burnley</td>\n",
       "      <td>Burnley FC</td>\n",
       "      <td>club</td>\n",
       "      <td>1646</td>\n",
       "    </tr>\n",
       "  </tbody>\n",
       "</table>\n",
       "</div>"
      ],
      "text/plain": [
       "                                                 area  \\\n",
       "0   {'name': 'England', 'id': '0', 'alpha3code': '...   \n",
       "8   {'name': 'England', 'id': '0', 'alpha3code': '...   \n",
       "26  {'name': 'England', 'id': '0', 'alpha3code': '...   \n",
       "27  {'name': 'England', 'id': '0', 'alpha3code': '...   \n",
       "39  {'name': 'England', 'id': '0', 'alpha3code': '...   \n",
       "\n",
       "                            city                    name  \\\n",
       "0            Newcastle upon Tyne        Newcastle United   \n",
       "8   Huddersfield, West Yorkshire       Huddersfield Town   \n",
       "26           Bournemouth, Dorset         AFC Bournemouth   \n",
       "27         Brighton, East Sussex  Brighton & Hove Albion   \n",
       "39           Burnley, Lancashire                 Burnley   \n",
       "\n",
       "                 officialName  type  wyId  \n",
       "0         Newcastle United FC  club  1613  \n",
       "8        Huddersfield Town FC  club  1673  \n",
       "26            AFC Bournemouth  club  1659  \n",
       "27  Brighton & Hove Albion FC  club  1651  \n",
       "39                 Burnley FC  club  1646  "
      ]
     },
     "execution_count": 24,
     "metadata": {},
     "output_type": "execute_result"
    }
   ],
   "source": [
    "teams_df.head()"
   ]
  },
  {
   "cell_type": "markdown",
   "metadata": {},
   "source": [
    "## Import Coach Data"
   ]
  },
  {
   "cell_type": "code",
   "execution_count": 25,
   "metadata": {},
   "outputs": [
    {
     "data": {
      "text/html": [
       "<div>\n",
       "<style scoped>\n",
       "    .dataframe tbody tr th:only-of-type {\n",
       "        vertical-align: middle;\n",
       "    }\n",
       "\n",
       "    .dataframe tbody tr th {\n",
       "        vertical-align: top;\n",
       "    }\n",
       "\n",
       "    .dataframe thead th {\n",
       "        text-align: right;\n",
       "    }\n",
       "</style>\n",
       "<table border=\"1\" class=\"dataframe\">\n",
       "  <thead>\n",
       "    <tr style=\"text-align: right;\">\n",
       "      <th></th>\n",
       "      <th>birthArea</th>\n",
       "      <th>birthDate</th>\n",
       "      <th>currentTeamId</th>\n",
       "      <th>firstName</th>\n",
       "      <th>lastName</th>\n",
       "      <th>middleName</th>\n",
       "      <th>passportArea</th>\n",
       "      <th>shortName</th>\n",
       "      <th>wyId</th>\n",
       "    </tr>\n",
       "  </thead>\n",
       "  <tbody>\n",
       "    <tr>\n",
       "      <th>0</th>\n",
       "      <td>{'id': 76, 'alpha2code': 'BR', 'alpha3code': '...</td>\n",
       "      <td>None</td>\n",
       "      <td>0</td>\n",
       "      <td>César Domingo</td>\n",
       "      <td>Mendiondo López</td>\n",
       "      <td></td>\n",
       "      <td>{'id': 76, 'alpha2code': 'BR', 'alpha3code': '...</td>\n",
       "      <td>Cesar Domingo</td>\n",
       "      <td>275580</td>\n",
       "    </tr>\n",
       "    <tr>\n",
       "      <th>1</th>\n",
       "      <td>{'id': 276, 'alpha2code': 'DE', 'alpha3code': ...</td>\n",
       "      <td>1945-05-09</td>\n",
       "      <td>0</td>\n",
       "      <td>Josef</td>\n",
       "      <td>Heynckes</td>\n",
       "      <td></td>\n",
       "      <td>{'id': 276, 'alpha2code': 'DE', 'alpha3code': ...</td>\n",
       "      <td>J. Heynckes</td>\n",
       "      <td>14710</td>\n",
       "    </tr>\n",
       "    <tr>\n",
       "      <th>2</th>\n",
       "      <td>{'id': 380, 'alpha2code': 'IT', 'alpha3code': ...</td>\n",
       "      <td>1956-06-16</td>\n",
       "      <td>0</td>\n",
       "      <td>Giovanni</td>\n",
       "      <td>De Biasi</td>\n",
       "      <td></td>\n",
       "      <td>{'id': 380, 'alpha2code': 'IT', 'alpha3code': ...</td>\n",
       "      <td>G. De Biasi</td>\n",
       "      <td>135480</td>\n",
       "    </tr>\n",
       "    <tr>\n",
       "      <th>3</th>\n",
       "      <td>{'id': 724, 'alpha2code': 'ES', 'alpha3code': ...</td>\n",
       "      <td>1965-08-14</td>\n",
       "      <td>674</td>\n",
       "      <td>Marcelino</td>\n",
       "      <td>García Toral</td>\n",
       "      <td></td>\n",
       "      <td>{'id': 724, 'alpha2code': 'ES', 'alpha3code': ...</td>\n",
       "      <td>Marcelino</td>\n",
       "      <td>210074</td>\n",
       "    </tr>\n",
       "    <tr>\n",
       "      <th>4</th>\n",
       "      <td>{'id': 276, 'alpha2code': 'DE', 'alpha3code': ...</td>\n",
       "      <td>1974-04-02</td>\n",
       "      <td>0</td>\n",
       "      <td>Tayfun</td>\n",
       "      <td>Korkut</td>\n",
       "      <td></td>\n",
       "      <td>{'id': 792, 'alpha2code': 'TR', 'alpha3code': ...</td>\n",
       "      <td>T. Korkut</td>\n",
       "      <td>293398</td>\n",
       "    </tr>\n",
       "  </tbody>\n",
       "</table>\n",
       "</div>"
      ],
      "text/plain": [
       "                                           birthArea   birthDate  \\\n",
       "0  {'id': 76, 'alpha2code': 'BR', 'alpha3code': '...        None   \n",
       "1  {'id': 276, 'alpha2code': 'DE', 'alpha3code': ...  1945-05-09   \n",
       "2  {'id': 380, 'alpha2code': 'IT', 'alpha3code': ...  1956-06-16   \n",
       "3  {'id': 724, 'alpha2code': 'ES', 'alpha3code': ...  1965-08-14   \n",
       "4  {'id': 276, 'alpha2code': 'DE', 'alpha3code': ...  1974-04-02   \n",
       "\n",
       "   currentTeamId      firstName         lastName middleName  \\\n",
       "0              0  César Domingo  Mendiondo López              \n",
       "1              0          Josef         Heynckes              \n",
       "2              0       Giovanni         De Biasi              \n",
       "3            674      Marcelino     García Toral              \n",
       "4              0         Tayfun           Korkut              \n",
       "\n",
       "                                        passportArea      shortName    wyId  \n",
       "0  {'id': 76, 'alpha2code': 'BR', 'alpha3code': '...  Cesar Domingo  275580  \n",
       "1  {'id': 276, 'alpha2code': 'DE', 'alpha3code': ...    J. Heynckes   14710  \n",
       "2  {'id': 380, 'alpha2code': 'IT', 'alpha3code': ...    G. De Biasi  135480  \n",
       "3  {'id': 724, 'alpha2code': 'ES', 'alpha3code': ...      Marcelino  210074  \n",
       "4  {'id': 792, 'alpha2code': 'TR', 'alpha3code': ...      T. Korkut  293398  "
      ]
     },
     "execution_count": 25,
     "metadata": {},
     "output_type": "execute_result"
    }
   ],
   "source": [
    "coaches_df = pd.read_json('soccer data/coaches.json', orient = 'values')\n",
    "coaches_df.head()"
   ]
  },
  {
   "cell_type": "markdown",
   "metadata": {},
   "source": [
    "## Joining the two data frame with a key"
   ]
  },
  {
   "cell_type": "code",
   "execution_count": 26,
   "metadata": {},
   "outputs": [],
   "source": [
    "coaches_teams_df = pd.merge(left=teams_df, right=coaches_df,\n",
    "                            left_on='wyId', right_on='currentTeamId',\n",
    "                            how='inner')[['name', 'birthDate', 'shortName']].groupby('name').agg('max', on = 'birthDate').sort_values(by='birthDate', ascending = False)\n",
    "now = pd.Timestamp('now')## for current time\n",
    "age = (now - pd.to_datetime(coaches_teams_df['birthDate'], yearfirst=True)).astype('<m8[Y]')## to calculate the age of coaches\n",
    "coaches_teams_df['age'] = age"
   ]
  },
  {
   "cell_type": "markdown",
   "metadata": {},
   "source": [
    "## Result 1 : The Ranking"
   ]
  },
  {
   "cell_type": "code",
   "execution_count": 27,
   "metadata": {},
   "outputs": [
    {
     "name": "stdout",
     "output_type": "stream",
     "text": [
      "                    birthDate       shortName   age\n",
      "name                                               \n",
      "AFC Bournemouth    1977-11-29         E. Howe  41.0\n",
      "Everton            1977-07-12     Marco Silva  42.0\n",
      "Newcastle United   1973-02-19  Rafael Benítez  46.0\n",
      "Tottenham Hotspur  1972-03-02   M. Pochettino  47.0\n",
      "Arsenal            1971-11-03      Unai Emery  47.0\n",
      "Burnley            1971-06-28        S. Dyche  48.0\n",
      "Manchester City    1971-01-18       Guardiola  48.0\n",
      "Watford            1970-05-01     Javi Gracia  49.0\n",
      "Southampton        1967-08-09   R. Hasenhüttl  52.0\n",
      "Liverpool          1967-06-16        J. Klopp  52.0\n"
     ]
    }
   ],
   "source": [
    "print(coaches_teams_df.head(10))"
   ]
  },
  {
   "cell_type": "markdown",
   "metadata": {},
   "source": [
    "## Result 2: The distribution (Boxplot)"
   ]
  },
  {
   "cell_type": "markdown",
   "metadata": {},
   "source": [
    "The coloured line in the box is the average of ages, upper and lower edges of the box reflects Q3 and Q1.\n",
    "The two Circles on the top are the outliers ageing more that 60 years.\n",
    "We observed that ages are centered around 47 to 52 Years."
   ]
  },
  {
   "cell_type": "code",
   "execution_count": 28,
   "metadata": {},
   "outputs": [
    {
     "data": {
      "text/plain": [
       "Text(0.5, 1.0, 'Boxplot of Coaches Ages')"
      ]
     },
     "execution_count": 28,
     "metadata": {},
     "output_type": "execute_result"
    },
    {
     "data": {
      "image/png": "[encoded data removed]",
      "text/plain": [
       "<Figure size 432x288 with 1 Axes>"
      ]
     },
     "metadata": {
      "needs_background": "light"
     },
     "output_type": "display_data"
    }
   ],
   "source": [
    "plt.boxplot(age)\n",
    "plt.ylabel('Age(year)', fontsize=16)\n",
    "plt.xticks([1], [''])\n",
    "plt.title('Boxplot of Coaches Ages', fontsize=18)"
   ]
  },
  {
   "cell_type": "markdown",
   "metadata": {},
   "source": [
    "## RQ4"
   ]
  },
  {
   "cell_type": "markdown",
   "metadata": {},
   "source": [
    "## Importing the Event File"
   ]
  },
  {
   "cell_type": "code",
   "execution_count": 29,
   "metadata": {},
   "outputs": [],
   "source": [
    "with zipfile.ZipFile(\"Soccer Data\\events.zip\") as Z:\n",
    "    with Z.open('events_England.json') as f:\n",
    "        events_df = pd.read_json(f)"
   ]
  },
  {
   "cell_type": "code",
   "execution_count": 30,
   "metadata": {},
   "outputs": [
    {
     "data": {
      "text/html": [
       "<div>\n",
       "<style scoped>\n",
       "    .dataframe tbody tr th:only-of-type {\n",
       "        vertical-align: middle;\n",
       "    }\n",
       "\n",
       "    .dataframe tbody tr th {\n",
       "        vertical-align: top;\n",
       "    }\n",
       "\n",
       "    .dataframe thead th {\n",
       "        text-align: right;\n",
       "    }\n",
       "</style>\n",
       "<table border=\"1\" class=\"dataframe\">\n",
       "  <thead>\n",
       "    <tr style=\"text-align: right;\">\n",
       "      <th></th>\n",
       "      <th>eventId</th>\n",
       "      <th>eventName</th>\n",
       "      <th>eventSec</th>\n",
       "      <th>id</th>\n",
       "      <th>matchId</th>\n",
       "      <th>matchPeriod</th>\n",
       "      <th>playerId</th>\n",
       "      <th>positions</th>\n",
       "      <th>subEventId</th>\n",
       "      <th>subEventName</th>\n",
       "      <th>tags</th>\n",
       "      <th>teamId</th>\n",
       "    </tr>\n",
       "  </thead>\n",
       "  <tbody>\n",
       "    <tr>\n",
       "      <th>0</th>\n",
       "      <td>8</td>\n",
       "      <td>Pass</td>\n",
       "      <td>2.758649</td>\n",
       "      <td>177959171</td>\n",
       "      <td>2499719</td>\n",
       "      <td>1H</td>\n",
       "      <td>25413</td>\n",
       "      <td>[{'y': 49, 'x': 49}, {'y': 78, 'x': 31}]</td>\n",
       "      <td>85</td>\n",
       "      <td>Simple pass</td>\n",
       "      <td>[{'id': 1801}]</td>\n",
       "      <td>1609</td>\n",
       "    </tr>\n",
       "    <tr>\n",
       "      <th>1</th>\n",
       "      <td>8</td>\n",
       "      <td>Pass</td>\n",
       "      <td>4.946850</td>\n",
       "      <td>177959172</td>\n",
       "      <td>2499719</td>\n",
       "      <td>1H</td>\n",
       "      <td>370224</td>\n",
       "      <td>[{'y': 78, 'x': 31}, {'y': 75, 'x': 51}]</td>\n",
       "      <td>83</td>\n",
       "      <td>High pass</td>\n",
       "      <td>[{'id': 1801}]</td>\n",
       "      <td>1609</td>\n",
       "    </tr>\n",
       "    <tr>\n",
       "      <th>2</th>\n",
       "      <td>8</td>\n",
       "      <td>Pass</td>\n",
       "      <td>6.542188</td>\n",
       "      <td>177959173</td>\n",
       "      <td>2499719</td>\n",
       "      <td>1H</td>\n",
       "      <td>3319</td>\n",
       "      <td>[{'y': 75, 'x': 51}, {'y': 71, 'x': 35}]</td>\n",
       "      <td>82</td>\n",
       "      <td>Head pass</td>\n",
       "      <td>[{'id': 1801}]</td>\n",
       "      <td>1609</td>\n",
       "    </tr>\n",
       "    <tr>\n",
       "      <th>3</th>\n",
       "      <td>8</td>\n",
       "      <td>Pass</td>\n",
       "      <td>8.143395</td>\n",
       "      <td>177959174</td>\n",
       "      <td>2499719</td>\n",
       "      <td>1H</td>\n",
       "      <td>120339</td>\n",
       "      <td>[{'y': 71, 'x': 35}, {'y': 95, 'x': 41}]</td>\n",
       "      <td>82</td>\n",
       "      <td>Head pass</td>\n",
       "      <td>[{'id': 1801}]</td>\n",
       "      <td>1609</td>\n",
       "    </tr>\n",
       "    <tr>\n",
       "      <th>4</th>\n",
       "      <td>8</td>\n",
       "      <td>Pass</td>\n",
       "      <td>10.302366</td>\n",
       "      <td>177959175</td>\n",
       "      <td>2499719</td>\n",
       "      <td>1H</td>\n",
       "      <td>167145</td>\n",
       "      <td>[{'y': 95, 'x': 41}, {'y': 88, 'x': 72}]</td>\n",
       "      <td>85</td>\n",
       "      <td>Simple pass</td>\n",
       "      <td>[{'id': 1801}]</td>\n",
       "      <td>1609</td>\n",
       "    </tr>\n",
       "  </tbody>\n",
       "</table>\n",
       "</div>"
      ],
      "text/plain": [
       "   eventId eventName   eventSec         id  matchId matchPeriod  playerId  \\\n",
       "0        8      Pass   2.758649  177959171  2499719          1H     25413   \n",
       "1        8      Pass   4.946850  177959172  2499719          1H    370224   \n",
       "2        8      Pass   6.542188  177959173  2499719          1H      3319   \n",
       "3        8      Pass   8.143395  177959174  2499719          1H    120339   \n",
       "4        8      Pass  10.302366  177959175  2499719          1H    167145   \n",
       "\n",
       "                                  positions subEventId subEventName  \\\n",
       "0  [{'y': 49, 'x': 49}, {'y': 78, 'x': 31}]         85  Simple pass   \n",
       "1  [{'y': 78, 'x': 31}, {'y': 75, 'x': 51}]         83    High pass   \n",
       "2  [{'y': 75, 'x': 51}, {'y': 71, 'x': 35}]         82    Head pass   \n",
       "3  [{'y': 71, 'x': 35}, {'y': 95, 'x': 41}]         82    Head pass   \n",
       "4  [{'y': 95, 'x': 41}, {'y': 88, 'x': 72}]         85  Simple pass   \n",
       "\n",
       "             tags  teamId  \n",
       "0  [{'id': 1801}]    1609  \n",
       "1  [{'id': 1801}]    1609  \n",
       "2  [{'id': 1801}]    1609  \n",
       "3  [{'id': 1801}]    1609  \n",
       "4  [{'id': 1801}]    1609  "
      ]
     },
     "execution_count": 30,
     "metadata": {},
     "output_type": "execute_result"
    }
   ],
   "source": [
    "events_df.head()"
   ]
  },
  {
   "cell_type": "markdown",
   "metadata": {},
   "source": [
    "## Driving the Desired Column"
   ]
  },
  {
   "cell_type": "code",
   "execution_count": 31,
   "metadata": {},
   "outputs": [
    {
     "data": {
      "text/html": [
       "<div>\n",
       "<style scoped>\n",
       "    .dataframe tbody tr th:only-of-type {\n",
       "        vertical-align: middle;\n",
       "    }\n",
       "\n",
       "    .dataframe tbody tr th {\n",
       "        vertical-align: top;\n",
       "    }\n",
       "\n",
       "    .dataframe thead th {\n",
       "        text-align: right;\n",
       "    }\n",
       "</style>\n",
       "<table border=\"1\" class=\"dataframe\">\n",
       "  <thead>\n",
       "    <tr style=\"text-align: right;\">\n",
       "      <th></th>\n",
       "      <th>playerId</th>\n",
       "      <th>matchId</th>\n",
       "      <th>eventName</th>\n",
       "      <th>tags</th>\n",
       "    </tr>\n",
       "  </thead>\n",
       "  <tbody>\n",
       "    <tr>\n",
       "      <th>0</th>\n",
       "      <td>25413</td>\n",
       "      <td>2499719</td>\n",
       "      <td>Pass</td>\n",
       "      <td>[{'id': 1801}]</td>\n",
       "    </tr>\n",
       "    <tr>\n",
       "      <th>1</th>\n",
       "      <td>370224</td>\n",
       "      <td>2499719</td>\n",
       "      <td>Pass</td>\n",
       "      <td>[{'id': 1801}]</td>\n",
       "    </tr>\n",
       "    <tr>\n",
       "      <th>2</th>\n",
       "      <td>3319</td>\n",
       "      <td>2499719</td>\n",
       "      <td>Pass</td>\n",
       "      <td>[{'id': 1801}]</td>\n",
       "    </tr>\n",
       "    <tr>\n",
       "      <th>3</th>\n",
       "      <td>120339</td>\n",
       "      <td>2499719</td>\n",
       "      <td>Pass</td>\n",
       "      <td>[{'id': 1801}]</td>\n",
       "    </tr>\n",
       "    <tr>\n",
       "      <th>4</th>\n",
       "      <td>167145</td>\n",
       "      <td>2499719</td>\n",
       "      <td>Pass</td>\n",
       "      <td>[{'id': 1801}]</td>\n",
       "    </tr>\n",
       "  </tbody>\n",
       "</table>\n",
       "</div>"
      ],
      "text/plain": [
       "   playerId  matchId eventName            tags\n",
       "0     25413  2499719      Pass  [{'id': 1801}]\n",
       "1    370224  2499719      Pass  [{'id': 1801}]\n",
       "2      3319  2499719      Pass  [{'id': 1801}]\n",
       "3    120339  2499719      Pass  [{'id': 1801}]\n",
       "4    167145  2499719      Pass  [{'id': 1801}]"
      ]
     },
     "execution_count": 31,
     "metadata": {},
     "output_type": "execute_result"
    }
   ],
   "source": [
    "passes_df = events_df[['playerId', 'matchId', 'eventName', 'tags']]\n",
    "passes_df.head()"
   ]
  },
  {
   "cell_type": "markdown",
   "metadata": {},
   "source": [
    "## Passes Assesment"
   ]
  },
  {
   "cell_type": "code",
   "execution_count": 32,
   "metadata": {},
   "outputs": [
    {
     "data": {
      "text/html": [
       "<div>\n",
       "<style scoped>\n",
       "    .dataframe tbody tr th:only-of-type {\n",
       "        vertical-align: middle;\n",
       "    }\n",
       "\n",
       "    .dataframe tbody tr th {\n",
       "        vertical-align: top;\n",
       "    }\n",
       "\n",
       "    .dataframe thead th {\n",
       "        text-align: right;\n",
       "    }\n",
       "</style>\n",
       "<table border=\"1\" class=\"dataframe\">\n",
       "  <thead>\n",
       "    <tr style=\"text-align: right;\">\n",
       "      <th></th>\n",
       "      <th>playerId</th>\n",
       "      <th>matchId</th>\n",
       "      <th>pass_success</th>\n",
       "    </tr>\n",
       "  </thead>\n",
       "  <tbody>\n",
       "    <tr>\n",
       "      <th>0</th>\n",
       "      <td>25413</td>\n",
       "      <td>2499719</td>\n",
       "      <td>True</td>\n",
       "    </tr>\n",
       "    <tr>\n",
       "      <th>1</th>\n",
       "      <td>370224</td>\n",
       "      <td>2499719</td>\n",
       "      <td>True</td>\n",
       "    </tr>\n",
       "    <tr>\n",
       "      <th>2</th>\n",
       "      <td>3319</td>\n",
       "      <td>2499719</td>\n",
       "      <td>True</td>\n",
       "    </tr>\n",
       "    <tr>\n",
       "      <th>3</th>\n",
       "      <td>120339</td>\n",
       "      <td>2499719</td>\n",
       "      <td>True</td>\n",
       "    </tr>\n",
       "    <tr>\n",
       "      <th>4</th>\n",
       "      <td>167145</td>\n",
       "      <td>2499719</td>\n",
       "      <td>True</td>\n",
       "    </tr>\n",
       "  </tbody>\n",
       "</table>\n",
       "</div>"
      ],
      "text/plain": [
       "   playerId  matchId  pass_success\n",
       "0     25413  2499719          True\n",
       "1    370224  2499719          True\n",
       "2      3319  2499719          True\n",
       "3    120339  2499719          True\n",
       "4    167145  2499719          True"
      ]
     },
     "execution_count": 32,
     "metadata": {},
     "output_type": "execute_result"
    }
   ],
   "source": [
    "passes_df = passes_df.loc[passes_df.eventName == 'Pass']\n",
    "passes_df['pass_success'] = [str(t).find('1801') != -1 for t in passes_df.tags] #only passes with id = 1801 are successful\n",
    "passes_df.drop(columns=['tags','eventName'], inplace = True) #dropping the extra columns\n",
    "passes_df.head()"
   ]
  },
  {
   "cell_type": "markdown",
   "metadata": {},
   "source": [
    "## Summarizing the Count of Passes"
   ]
  },
  {
   "cell_type": "code",
   "execution_count": 33,
   "metadata": {},
   "outputs": [
    {
     "data": {
      "text/html": [
       "<div>\n",
       "<style scoped>\n",
       "    .dataframe tbody tr th:only-of-type {\n",
       "        vertical-align: middle;\n",
       "    }\n",
       "\n",
       "    .dataframe tbody tr th {\n",
       "        vertical-align: top;\n",
       "    }\n",
       "\n",
       "    .dataframe thead th {\n",
       "        text-align: right;\n",
       "    }\n",
       "</style>\n",
       "<table border=\"1\" class=\"dataframe\">\n",
       "  <thead>\n",
       "    <tr style=\"text-align: right;\">\n",
       "      <th></th>\n",
       "      <th>playerId</th>\n",
       "      <th>matchId</th>\n",
       "      <th>successive_pass</th>\n",
       "      <th>total_pass</th>\n",
       "    </tr>\n",
       "  </thead>\n",
       "  <tbody>\n",
       "    <tr>\n",
       "      <th>6</th>\n",
       "      <td>36</td>\n",
       "      <td>2499725</td>\n",
       "      <td>90.0</td>\n",
       "      <td>99</td>\n",
       "    </tr>\n",
       "    <tr>\n",
       "      <th>7</th>\n",
       "      <td>36</td>\n",
       "      <td>2499737</td>\n",
       "      <td>68.0</td>\n",
       "      <td>74</td>\n",
       "    </tr>\n",
       "    <tr>\n",
       "      <th>8</th>\n",
       "      <td>36</td>\n",
       "      <td>2499746</td>\n",
       "      <td>66.0</td>\n",
       "      <td>72</td>\n",
       "    </tr>\n",
       "    <tr>\n",
       "      <th>9</th>\n",
       "      <td>36</td>\n",
       "      <td>2499752</td>\n",
       "      <td>41.0</td>\n",
       "      <td>49</td>\n",
       "    </tr>\n",
       "    <tr>\n",
       "      <th>10</th>\n",
       "      <td>36</td>\n",
       "      <td>2499766</td>\n",
       "      <td>81.0</td>\n",
       "      <td>91</td>\n",
       "    </tr>\n",
       "  </tbody>\n",
       "</table>\n",
       "</div>"
      ],
      "text/plain": [
       "    playerId  matchId  successive_pass  total_pass\n",
       "6         36  2499725             90.0          99\n",
       "7         36  2499737             68.0          74\n",
       "8         36  2499746             66.0          72\n",
       "9         36  2499752             41.0          49\n",
       "10        36  2499766             81.0          91"
      ]
     },
     "execution_count": 33,
     "metadata": {},
     "output_type": "execute_result"
    }
   ],
   "source": [
    "passes_df = passes_df.groupby(['playerId', 'matchId'], as_index = False, group_keys = False).agg(['sum','count'] , on='pass_success').reset_index()\n",
    "passes_df.columns = ['playerId', 'matchId', 'successive_pass', 'total_pass']\n",
    "passes_df = passes_df.loc[passes_df['playerId'] != 0]\n",
    "passes_df.head()"
   ]
  },
  {
   "cell_type": "markdown",
   "metadata": {},
   "source": [
    "## Identifying relation for Threshold "
   ]
  },
  {
   "cell_type": "code",
   "execution_count": 34,
   "metadata": {},
   "outputs": [
    {
     "data": {
      "text/plain": [
       "(array([3057., 3287., 2201., 1082.,  408.,  197.,   60.,   22.,    5.,\n",
       "           4.]),\n",
       " array([  1. ,  17.9,  34.8,  51.7,  68.6,  85.5, 102.4, 119.3, 136.2,\n",
       "        153.1, 170. ]),\n",
       " <a list of 10 Patch objects>)"
      ]
     },
     "execution_count": 34,
     "metadata": {},
     "output_type": "execute_result"
    },
    {
     "data": {
      "image/png": "[encoded data removed]",
      "text/plain": [
       "<Figure size 432x288 with 1 Axes>"
      ]
     },
     "metadata": {
      "needs_background": "light"
     },
     "output_type": "display_data"
    }
   ],
   "source": [
    "plt.hist(passes_df['total_pass'])"
   ]
  },
  {
   "cell_type": "markdown",
   "metadata": {},
   "source": [
    "Assumption is that a player in a match less than 25 Passes, so he has not played enough time in a game. 25 means the data in 10% percentile avoided."
   ]
  },
  {
   "cell_type": "code",
   "execution_count": 35,
   "metadata": {},
   "outputs": [
    {
     "data": {
      "text/html": [
       "<div>\n",
       "<style scoped>\n",
       "    .dataframe tbody tr th:only-of-type {\n",
       "        vertical-align: middle;\n",
       "    }\n",
       "\n",
       "    .dataframe tbody tr th {\n",
       "        vertical-align: top;\n",
       "    }\n",
       "\n",
       "    .dataframe thead th {\n",
       "        text-align: right;\n",
       "    }\n",
       "</style>\n",
       "<table border=\"1\" class=\"dataframe\">\n",
       "  <thead>\n",
       "    <tr style=\"text-align: right;\">\n",
       "      <th></th>\n",
       "      <th>playerId</th>\n",
       "      <th>matchId</th>\n",
       "      <th>successive_pass</th>\n",
       "      <th>total_pass</th>\n",
       "    </tr>\n",
       "  </thead>\n",
       "  <tbody>\n",
       "    <tr>\n",
       "      <th>6</th>\n",
       "      <td>36</td>\n",
       "      <td>2499725</td>\n",
       "      <td>90.0</td>\n",
       "      <td>99</td>\n",
       "    </tr>\n",
       "    <tr>\n",
       "      <th>7</th>\n",
       "      <td>36</td>\n",
       "      <td>2499737</td>\n",
       "      <td>68.0</td>\n",
       "      <td>74</td>\n",
       "    </tr>\n",
       "    <tr>\n",
       "      <th>8</th>\n",
       "      <td>36</td>\n",
       "      <td>2499746</td>\n",
       "      <td>66.0</td>\n",
       "      <td>72</td>\n",
       "    </tr>\n",
       "    <tr>\n",
       "      <th>9</th>\n",
       "      <td>36</td>\n",
       "      <td>2499752</td>\n",
       "      <td>41.0</td>\n",
       "      <td>49</td>\n",
       "    </tr>\n",
       "    <tr>\n",
       "      <th>10</th>\n",
       "      <td>36</td>\n",
       "      <td>2499766</td>\n",
       "      <td>81.0</td>\n",
       "      <td>91</td>\n",
       "    </tr>\n",
       "  </tbody>\n",
       "</table>\n",
       "</div>"
      ],
      "text/plain": [
       "    playerId  matchId  successive_pass  total_pass\n",
       "6         36  2499725             90.0          99\n",
       "7         36  2499737             68.0          74\n",
       "8         36  2499746             66.0          72\n",
       "9         36  2499752             41.0          49\n",
       "10        36  2499766             81.0          91"
      ]
     },
     "execution_count": 35,
     "metadata": {},
     "output_type": "execute_result"
    }
   ],
   "source": [
    "passes_df = passes_df.loc[passes_df['total_pass'] > 25]\n",
    "passes_df.head()"
   ]
  },
  {
   "cell_type": "code",
   "execution_count": 36,
   "metadata": {},
   "outputs": [],
   "source": [
    "passes_df.drop(columns = ['matchId'], inplace = True) #dropping extra column"
   ]
  },
  {
   "cell_type": "markdown",
   "metadata": {},
   "source": [
    "## Creating an Success rate"
   ]
  },
  {
   "cell_type": "code",
   "execution_count": 37,
   "metadata": {},
   "outputs": [
    {
     "data": {
      "text/html": [
       "<div>\n",
       "<style scoped>\n",
       "    .dataframe tbody tr th:only-of-type {\n",
       "        vertical-align: middle;\n",
       "    }\n",
       "\n",
       "    .dataframe tbody tr th {\n",
       "        vertical-align: top;\n",
       "    }\n",
       "\n",
       "    .dataframe thead th {\n",
       "        text-align: right;\n",
       "    }\n",
       "</style>\n",
       "<table border=\"1\" class=\"dataframe\">\n",
       "  <thead>\n",
       "    <tr style=\"text-align: right;\">\n",
       "      <th></th>\n",
       "      <th>playerId</th>\n",
       "      <th>successive_pass</th>\n",
       "      <th>total_pass</th>\n",
       "    </tr>\n",
       "  </thead>\n",
       "  <tbody>\n",
       "    <tr>\n",
       "      <th>0</th>\n",
       "      <td>36</td>\n",
       "      <td>789.0</td>\n",
       "      <td>897</td>\n",
       "    </tr>\n",
       "    <tr>\n",
       "      <th>1</th>\n",
       "      <td>38</td>\n",
       "      <td>190.0</td>\n",
       "      <td>219</td>\n",
       "    </tr>\n",
       "    <tr>\n",
       "      <th>2</th>\n",
       "      <td>48</td>\n",
       "      <td>2113.0</td>\n",
       "      <td>2370</td>\n",
       "    </tr>\n",
       "    <tr>\n",
       "      <th>3</th>\n",
       "      <td>54</td>\n",
       "      <td>1803.0</td>\n",
       "      <td>2196</td>\n",
       "    </tr>\n",
       "    <tr>\n",
       "      <th>4</th>\n",
       "      <td>74</td>\n",
       "      <td>1047.0</td>\n",
       "      <td>1125</td>\n",
       "    </tr>\n",
       "  </tbody>\n",
       "</table>\n",
       "</div>"
      ],
      "text/plain": [
       "   playerId  successive_pass  total_pass\n",
       "0        36            789.0         897\n",
       "1        38            190.0         219\n",
       "2        48           2113.0        2370\n",
       "3        54           1803.0        2196\n",
       "4        74           1047.0        1125"
      ]
     },
     "execution_count": 37,
     "metadata": {},
     "output_type": "execute_result"
    }
   ],
   "source": [
    "passes_df = passes_df.groupby('playerId').agg('sum', level = 0, on = ['Successive_pass', 'total_pass']).reset_index()\n",
    "passes_df.head()"
   ]
  },
  {
   "cell_type": "code",
   "execution_count": 38,
   "metadata": {},
   "outputs": [
    {
     "data": {
      "text/html": [
       "<div>\n",
       "<style scoped>\n",
       "    .dataframe tbody tr th:only-of-type {\n",
       "        vertical-align: middle;\n",
       "    }\n",
       "\n",
       "    .dataframe tbody tr th {\n",
       "        vertical-align: top;\n",
       "    }\n",
       "\n",
       "    .dataframe thead th {\n",
       "        text-align: right;\n",
       "    }\n",
       "</style>\n",
       "<table border=\"1\" class=\"dataframe\">\n",
       "  <thead>\n",
       "    <tr style=\"text-align: right;\">\n",
       "      <th></th>\n",
       "      <th>playerId</th>\n",
       "      <th>successive_pass</th>\n",
       "      <th>total_pass</th>\n",
       "      <th>pass_success_rate %</th>\n",
       "    </tr>\n",
       "  </thead>\n",
       "  <tbody>\n",
       "    <tr>\n",
       "      <th>0</th>\n",
       "      <td>36</td>\n",
       "      <td>789.0</td>\n",
       "      <td>897</td>\n",
       "      <td>87.959866</td>\n",
       "    </tr>\n",
       "    <tr>\n",
       "      <th>1</th>\n",
       "      <td>38</td>\n",
       "      <td>190.0</td>\n",
       "      <td>219</td>\n",
       "      <td>86.757991</td>\n",
       "    </tr>\n",
       "    <tr>\n",
       "      <th>2</th>\n",
       "      <td>48</td>\n",
       "      <td>2113.0</td>\n",
       "      <td>2370</td>\n",
       "      <td>89.156118</td>\n",
       "    </tr>\n",
       "    <tr>\n",
       "      <th>3</th>\n",
       "      <td>54</td>\n",
       "      <td>1803.0</td>\n",
       "      <td>2196</td>\n",
       "      <td>82.103825</td>\n",
       "    </tr>\n",
       "    <tr>\n",
       "      <th>4</th>\n",
       "      <td>74</td>\n",
       "      <td>1047.0</td>\n",
       "      <td>1125</td>\n",
       "      <td>93.066667</td>\n",
       "    </tr>\n",
       "  </tbody>\n",
       "</table>\n",
       "</div>"
      ],
      "text/plain": [
       "   playerId  successive_pass  total_pass  pass_success_rate %\n",
       "0        36            789.0         897            87.959866\n",
       "1        38            190.0         219            86.757991\n",
       "2        48           2113.0        2370            89.156118\n",
       "3        54           1803.0        2196            82.103825\n",
       "4        74           1047.0        1125            93.066667"
      ]
     },
     "execution_count": 38,
     "metadata": {},
     "output_type": "execute_result"
    }
   ],
   "source": [
    "passes_df['pass_success_rate %'] = passes_df['successive_pass']/passes_df['total_pass']*100\n",
    "passes_df.head()"
   ]
  },
  {
   "cell_type": "markdown",
   "metadata": {},
   "source": [
    "## Outcome"
   ]
  },
  {
   "cell_type": "code",
   "execution_count": 39,
   "metadata": {},
   "outputs": [
    {
     "data": {
      "text/html": [
       "<div>\n",
       "<style scoped>\n",
       "    .dataframe tbody tr th:only-of-type {\n",
       "        vertical-align: middle;\n",
       "    }\n",
       "\n",
       "    .dataframe tbody tr th {\n",
       "        vertical-align: top;\n",
       "    }\n",
       "\n",
       "    .dataframe thead th {\n",
       "        text-align: right;\n",
       "    }\n",
       "</style>\n",
       "<table border=\"1\" class=\"dataframe\">\n",
       "  <thead>\n",
       "    <tr style=\"text-align: right;\">\n",
       "      <th></th>\n",
       "      <th>playerId</th>\n",
       "      <th>successive_pass</th>\n",
       "      <th>total_pass</th>\n",
       "      <th>pass_success_rate %</th>\n",
       "    </tr>\n",
       "  </thead>\n",
       "  <tbody>\n",
       "    <tr>\n",
       "      <th>51</th>\n",
       "      <td>7864</td>\n",
       "      <td>30.0</td>\n",
       "      <td>30</td>\n",
       "      <td>100.000000</td>\n",
       "    </tr>\n",
       "    <tr>\n",
       "      <th>199</th>\n",
       "      <td>9380</td>\n",
       "      <td>1164.0</td>\n",
       "      <td>1193</td>\n",
       "      <td>97.569153</td>\n",
       "    </tr>\n",
       "    <tr>\n",
       "      <th>335</th>\n",
       "      <td>104851</td>\n",
       "      <td>28.0</td>\n",
       "      <td>29</td>\n",
       "      <td>96.551724</td>\n",
       "    </tr>\n",
       "    <tr>\n",
       "      <th>27</th>\n",
       "      <td>3343</td>\n",
       "      <td>37.0</td>\n",
       "      <td>39</td>\n",
       "      <td>94.871795</td>\n",
       "    </tr>\n",
       "    <tr>\n",
       "      <th>129</th>\n",
       "      <td>8324</td>\n",
       "      <td>365.0</td>\n",
       "      <td>386</td>\n",
       "      <td>94.559585</td>\n",
       "    </tr>\n",
       "    <tr>\n",
       "      <th>145</th>\n",
       "      <td>8464</td>\n",
       "      <td>1463.0</td>\n",
       "      <td>1548</td>\n",
       "      <td>94.509044</td>\n",
       "    </tr>\n",
       "    <tr>\n",
       "      <th>325</th>\n",
       "      <td>77550</td>\n",
       "      <td>84.0</td>\n",
       "      <td>89</td>\n",
       "      <td>94.382022</td>\n",
       "    </tr>\n",
       "    <tr>\n",
       "      <th>124</th>\n",
       "      <td>8307</td>\n",
       "      <td>1301.0</td>\n",
       "      <td>1380</td>\n",
       "      <td>94.275362</td>\n",
       "    </tr>\n",
       "    <tr>\n",
       "      <th>349</th>\n",
       "      <td>135103</td>\n",
       "      <td>1177.0</td>\n",
       "      <td>1249</td>\n",
       "      <td>94.235388</td>\n",
       "    </tr>\n",
       "    <tr>\n",
       "      <th>50</th>\n",
       "      <td>7856</td>\n",
       "      <td>196.0</td>\n",
       "      <td>208</td>\n",
       "      <td>94.230769</td>\n",
       "    </tr>\n",
       "    <tr>\n",
       "      <th>68</th>\n",
       "      <td>7918</td>\n",
       "      <td>933.0</td>\n",
       "      <td>992</td>\n",
       "      <td>94.052419</td>\n",
       "    </tr>\n",
       "    <tr>\n",
       "      <th>321</th>\n",
       "      <td>71703</td>\n",
       "      <td>673.0</td>\n",
       "      <td>717</td>\n",
       "      <td>93.863319</td>\n",
       "    </tr>\n",
       "    <tr>\n",
       "      <th>231</th>\n",
       "      <td>15175</td>\n",
       "      <td>181.0</td>\n",
       "      <td>193</td>\n",
       "      <td>93.782383</td>\n",
       "    </tr>\n",
       "    <tr>\n",
       "      <th>312</th>\n",
       "      <td>70086</td>\n",
       "      <td>2763.0</td>\n",
       "      <td>2948</td>\n",
       "      <td>93.724559</td>\n",
       "    </tr>\n",
       "    <tr>\n",
       "      <th>341</th>\n",
       "      <td>120339</td>\n",
       "      <td>766.0</td>\n",
       "      <td>818</td>\n",
       "      <td>93.643032</td>\n",
       "    </tr>\n",
       "    <tr>\n",
       "      <th>225</th>\n",
       "      <td>14808</td>\n",
       "      <td>1121.0</td>\n",
       "      <td>1198</td>\n",
       "      <td>93.572621</td>\n",
       "    </tr>\n",
       "    <tr>\n",
       "      <th>171</th>\n",
       "      <td>8745</td>\n",
       "      <td>28.0</td>\n",
       "      <td>30</td>\n",
       "      <td>93.333333</td>\n",
       "    </tr>\n",
       "    <tr>\n",
       "      <th>213</th>\n",
       "      <td>11152</td>\n",
       "      <td>1205.0</td>\n",
       "      <td>1293</td>\n",
       "      <td>93.194122</td>\n",
       "    </tr>\n",
       "    <tr>\n",
       "      <th>4</th>\n",
       "      <td>74</td>\n",
       "      <td>1047.0</td>\n",
       "      <td>1125</td>\n",
       "      <td>93.066667</td>\n",
       "    </tr>\n",
       "    <tr>\n",
       "      <th>371</th>\n",
       "      <td>241564</td>\n",
       "      <td>610.0</td>\n",
       "      <td>656</td>\n",
       "      <td>92.987805</td>\n",
       "    </tr>\n",
       "  </tbody>\n",
       "</table>\n",
       "</div>"
      ],
      "text/plain": [
       "     playerId  successive_pass  total_pass  pass_success_rate %\n",
       "51       7864             30.0          30           100.000000\n",
       "199      9380           1164.0        1193            97.569153\n",
       "335    104851             28.0          29            96.551724\n",
       "27       3343             37.0          39            94.871795\n",
       "129      8324            365.0         386            94.559585\n",
       "145      8464           1463.0        1548            94.509044\n",
       "325     77550             84.0          89            94.382022\n",
       "124      8307           1301.0        1380            94.275362\n",
       "349    135103           1177.0        1249            94.235388\n",
       "50       7856            196.0         208            94.230769\n",
       "68       7918            933.0         992            94.052419\n",
       "321     71703            673.0         717            93.863319\n",
       "231     15175            181.0         193            93.782383\n",
       "312     70086           2763.0        2948            93.724559\n",
       "341    120339            766.0         818            93.643032\n",
       "225     14808           1121.0        1198            93.572621\n",
       "171      8745             28.0          30            93.333333\n",
       "213     11152           1205.0        1293            93.194122\n",
       "4          74           1047.0        1125            93.066667\n",
       "371    241564            610.0         656            92.987805"
      ]
     },
     "execution_count": 39,
     "metadata": {},
     "output_type": "execute_result"
    }
   ],
   "source": [
    "passes_top10 = passes_df.sort_values('pass_success_rate %', ascending=False).head(20)\n",
    "passes_top10"
   ]
  },
  {
   "cell_type": "markdown",
   "metadata": {},
   "source": [
    "## Removing the Goal Keeper from Players Data\n",
    "the goal keeper is role in a match that mostly passes to defenders and its ratio will be maximum and biased the results."
   ]
  },
  {
   "cell_type": "code",
   "execution_count": 40,
   "metadata": {},
   "outputs": [
    {
     "data": {
      "text/html": [
       "<div>\n",
       "<style scoped>\n",
       "    .dataframe tbody tr th:only-of-type {\n",
       "        vertical-align: middle;\n",
       "    }\n",
       "\n",
       "    .dataframe tbody tr th {\n",
       "        vertical-align: top;\n",
       "    }\n",
       "\n",
       "    .dataframe thead th {\n",
       "        text-align: right;\n",
       "    }\n",
       "</style>\n",
       "<table border=\"1\" class=\"dataframe\">\n",
       "  <thead>\n",
       "    <tr style=\"text-align: right;\">\n",
       "      <th></th>\n",
       "      <th>birthArea</th>\n",
       "      <th>birthDate</th>\n",
       "      <th>currentNationalTeamId</th>\n",
       "      <th>currentTeamId</th>\n",
       "      <th>firstName</th>\n",
       "      <th>foot</th>\n",
       "      <th>height</th>\n",
       "      <th>lastName</th>\n",
       "      <th>middleName</th>\n",
       "      <th>passportArea</th>\n",
       "      <th>role</th>\n",
       "      <th>shortName</th>\n",
       "      <th>weight</th>\n",
       "      <th>wyId</th>\n",
       "    </tr>\n",
       "  </thead>\n",
       "  <tbody>\n",
       "    <tr>\n",
       "      <th>1</th>\n",
       "      <td>{'name': 'France', 'id': '250', 'alpha3code': ...</td>\n",
       "      <td>1999-01-23</td>\n",
       "      <td>4423</td>\n",
       "      <td>3775</td>\n",
       "      <td>Malang</td>\n",
       "      <td>left</td>\n",
       "      <td>182</td>\n",
       "      <td>Sarr</td>\n",
       "      <td></td>\n",
       "      <td>{'name': 'Senegal', 'id': '686', 'alpha3code':...</td>\n",
       "      <td>{'code2': 'DF', 'code3': 'DEF', 'name': 'Defen...</td>\n",
       "      <td>M. Sarr</td>\n",
       "      <td>73</td>\n",
       "      <td>393228</td>\n",
       "    </tr>\n",
       "    <tr>\n",
       "      <th>3</th>\n",
       "      <td>{'name': 'France', 'id': '250', 'alpha3code': ...</td>\n",
       "      <td>1990-03-06</td>\n",
       "      <td>19314</td>\n",
       "      <td>683</td>\n",
       "      <td>Alfred John Momar</td>\n",
       "      <td>right</td>\n",
       "      <td>187</td>\n",
       "      <td>N'Diaye</td>\n",
       "      <td></td>\n",
       "      <td>{'name': 'Senegal', 'id': '686', 'alpha3code':...</td>\n",
       "      <td>{'code2': 'MD', 'code3': 'MID', 'name': 'Midfi...</td>\n",
       "      <td>A. N'Diaye</td>\n",
       "      <td>82</td>\n",
       "      <td>32793</td>\n",
       "    </tr>\n",
       "    <tr>\n",
       "      <th>4</th>\n",
       "      <td>{'name': 'France', 'id': '250', 'alpha3code': ...</td>\n",
       "      <td>1999-05-25</td>\n",
       "      <td>null</td>\n",
       "      <td>2975</td>\n",
       "      <td>Ibrahima</td>\n",
       "      <td>right</td>\n",
       "      <td>192</td>\n",
       "      <td>Konat\\u00e9</td>\n",
       "      <td></td>\n",
       "      <td>{'name': 'France', 'id': '250', 'alpha3code': ...</td>\n",
       "      <td>{'code2': 'DF', 'code3': 'DEF', 'name': 'Defen...</td>\n",
       "      <td>I. Konat\\u00e9</td>\n",
       "      <td>84</td>\n",
       "      <td>393247</td>\n",
       "    </tr>\n",
       "    <tr>\n",
       "      <th>6</th>\n",
       "      <td>{'name': 'Belgium', 'id': '56', 'alpha3code': ...</td>\n",
       "      <td>1989-03-02</td>\n",
       "      <td>5629</td>\n",
       "      <td>1624</td>\n",
       "      <td>Toby</td>\n",
       "      <td>right</td>\n",
       "      <td>187</td>\n",
       "      <td>Alderweireld</td>\n",
       "      <td></td>\n",
       "      <td>{'name': 'Belgium', 'id': '56', 'alpha3code': ...</td>\n",
       "      <td>{'code2': 'DF', 'code3': 'DEF', 'name': 'Defen...</td>\n",
       "      <td>T. Alderweireld</td>\n",
       "      <td>91</td>\n",
       "      <td>36</td>\n",
       "    </tr>\n",
       "    <tr>\n",
       "      <th>7</th>\n",
       "      <td>{'name': 'Belgium', 'id': '56', 'alpha3code': ...</td>\n",
       "      <td>1987-04-24</td>\n",
       "      <td>5629</td>\n",
       "      <td>1624</td>\n",
       "      <td>Jan</td>\n",
       "      <td>left</td>\n",
       "      <td>189</td>\n",
       "      <td>Vertonghen</td>\n",
       "      <td></td>\n",
       "      <td>{'name': 'Belgium', 'id': '56', 'alpha3code': ...</td>\n",
       "      <td>{'code2': 'DF', 'code3': 'DEF', 'name': 'Defen...</td>\n",
       "      <td>J. Vertonghen</td>\n",
       "      <td>88</td>\n",
       "      <td>48</td>\n",
       "    </tr>\n",
       "  </tbody>\n",
       "</table>\n",
       "</div>"
      ],
      "text/plain": [
       "                                           birthArea   birthDate  \\\n",
       "1  {'name': 'France', 'id': '250', 'alpha3code': ...  1999-01-23   \n",
       "3  {'name': 'France', 'id': '250', 'alpha3code': ...  1990-03-06   \n",
       "4  {'name': 'France', 'id': '250', 'alpha3code': ...  1999-05-25   \n",
       "6  {'name': 'Belgium', 'id': '56', 'alpha3code': ...  1989-03-02   \n",
       "7  {'name': 'Belgium', 'id': '56', 'alpha3code': ...  1987-04-24   \n",
       "\n",
       "  currentNationalTeamId currentTeamId          firstName   foot  height  \\\n",
       "1                  4423          3775             Malang   left     182   \n",
       "3                 19314           683  Alfred John Momar  right     187   \n",
       "4                  null          2975           Ibrahima  right     192   \n",
       "6                  5629          1624               Toby  right     187   \n",
       "7                  5629          1624                Jan   left     189   \n",
       "\n",
       "       lastName middleName                                       passportArea  \\\n",
       "1          Sarr             {'name': 'Senegal', 'id': '686', 'alpha3code':...   \n",
       "3       N'Diaye             {'name': 'Senegal', 'id': '686', 'alpha3code':...   \n",
       "4   Konat\\u00e9             {'name': 'France', 'id': '250', 'alpha3code': ...   \n",
       "6  Alderweireld             {'name': 'Belgium', 'id': '56', 'alpha3code': ...   \n",
       "7    Vertonghen             {'name': 'Belgium', 'id': '56', 'alpha3code': ...   \n",
       "\n",
       "                                                role        shortName  weight  \\\n",
       "1  {'code2': 'DF', 'code3': 'DEF', 'name': 'Defen...          M. Sarr      73   \n",
       "3  {'code2': 'MD', 'code3': 'MID', 'name': 'Midfi...       A. N'Diaye      82   \n",
       "4  {'code2': 'DF', 'code3': 'DEF', 'name': 'Defen...   I. Konat\\u00e9      84   \n",
       "6  {'code2': 'DF', 'code3': 'DEF', 'name': 'Defen...  T. Alderweireld      91   \n",
       "7  {'code2': 'DF', 'code3': 'DEF', 'name': 'Defen...    J. Vertonghen      88   \n",
       "\n",
       "     wyId  \n",
       "1  393228  \n",
       "3   32793  \n",
       "4  393247  \n",
       "6      36  \n",
       "7      48  "
      ]
     },
     "execution_count": 40,
     "metadata": {},
     "output_type": "execute_result"
    }
   ],
   "source": [
    "players_df = pd.read_json(r\"soccer data/players.json\")\n",
    "players_df = players_df.loc[[str(t).find('GK') == -1 for t in players_df.role]]\n",
    "players_df.head()"
   ]
  },
  {
   "cell_type": "markdown",
   "metadata": {},
   "source": [
    "## Joining names"
   ]
  },
  {
   "cell_type": "code",
   "execution_count": 41,
   "metadata": {},
   "outputs": [
    {
     "data": {
      "text/html": [
       "<div>\n",
       "<style scoped>\n",
       "    .dataframe tbody tr th:only-of-type {\n",
       "        vertical-align: middle;\n",
       "    }\n",
       "\n",
       "    .dataframe tbody tr th {\n",
       "        vertical-align: top;\n",
       "    }\n",
       "\n",
       "    .dataframe thead th {\n",
       "        text-align: right;\n",
       "    }\n",
       "</style>\n",
       "<table border=\"1\" class=\"dataframe\">\n",
       "  <thead>\n",
       "    <tr style=\"text-align: right;\">\n",
       "      <th></th>\n",
       "      <th>firstName</th>\n",
       "      <th>middleName</th>\n",
       "      <th>lastName</th>\n",
       "      <th>wyId</th>\n",
       "      <th>fullName</th>\n",
       "    </tr>\n",
       "  </thead>\n",
       "  <tbody>\n",
       "    <tr>\n",
       "      <th>1</th>\n",
       "      <td>Malang</td>\n",
       "      <td></td>\n",
       "      <td>Sarr</td>\n",
       "      <td>393228</td>\n",
       "      <td>Malang  Sarr</td>\n",
       "    </tr>\n",
       "    <tr>\n",
       "      <th>3</th>\n",
       "      <td>Alfred John Momar</td>\n",
       "      <td></td>\n",
       "      <td>N'Diaye</td>\n",
       "      <td>32793</td>\n",
       "      <td>Alfred John Momar  N'Diaye</td>\n",
       "    </tr>\n",
       "    <tr>\n",
       "      <th>4</th>\n",
       "      <td>Ibrahima</td>\n",
       "      <td></td>\n",
       "      <td>Konat\\u00e9</td>\n",
       "      <td>393247</td>\n",
       "      <td>Ibrahima  Konat\\u00e9</td>\n",
       "    </tr>\n",
       "    <tr>\n",
       "      <th>6</th>\n",
       "      <td>Toby</td>\n",
       "      <td></td>\n",
       "      <td>Alderweireld</td>\n",
       "      <td>36</td>\n",
       "      <td>Toby  Alderweireld</td>\n",
       "    </tr>\n",
       "    <tr>\n",
       "      <th>7</th>\n",
       "      <td>Jan</td>\n",
       "      <td></td>\n",
       "      <td>Vertonghen</td>\n",
       "      <td>48</td>\n",
       "      <td>Jan  Vertonghen</td>\n",
       "    </tr>\n",
       "  </tbody>\n",
       "</table>\n",
       "</div>"
      ],
      "text/plain": [
       "           firstName middleName      lastName    wyId  \\\n",
       "1             Malang                     Sarr  393228   \n",
       "3  Alfred John Momar                  N'Diaye   32793   \n",
       "4           Ibrahima              Konat\\u00e9  393247   \n",
       "6               Toby             Alderweireld      36   \n",
       "7                Jan               Vertonghen      48   \n",
       "\n",
       "                     fullName  \n",
       "1                Malang  Sarr  \n",
       "3  Alfred John Momar  N'Diaye  \n",
       "4       Ibrahima  Konat\\u00e9  \n",
       "6          Toby  Alderweireld  \n",
       "7             Jan  Vertonghen  "
      ]
     },
     "execution_count": 41,
     "metadata": {},
     "output_type": "execute_result"
    }
   ],
   "source": [
    "players_name = players_df[['firstName','middleName','lastName', 'wyId']].copy()\n",
    "players_name['fullName'] = players_name['firstName'] + ' ' + players_name['middleName'] + ' ' + players_name['lastName']\n",
    "players_name.head()"
   ]
  },
  {
   "cell_type": "markdown",
   "metadata": {},
   "source": [
    "## Dropping extra columns"
   ]
  },
  {
   "cell_type": "code",
   "execution_count": 42,
   "metadata": {},
   "outputs": [
    {
     "data": {
      "text/html": [
       "<div>\n",
       "<style scoped>\n",
       "    .dataframe tbody tr th:only-of-type {\n",
       "        vertical-align: middle;\n",
       "    }\n",
       "\n",
       "    .dataframe tbody tr th {\n",
       "        vertical-align: top;\n",
       "    }\n",
       "\n",
       "    .dataframe thead th {\n",
       "        text-align: right;\n",
       "    }\n",
       "</style>\n",
       "<table border=\"1\" class=\"dataframe\">\n",
       "  <thead>\n",
       "    <tr style=\"text-align: right;\">\n",
       "      <th></th>\n",
       "      <th>wyId</th>\n",
       "      <th>fullName</th>\n",
       "    </tr>\n",
       "  </thead>\n",
       "  <tbody>\n",
       "    <tr>\n",
       "      <th>1</th>\n",
       "      <td>393228</td>\n",
       "      <td>Malang  Sarr</td>\n",
       "    </tr>\n",
       "    <tr>\n",
       "      <th>3</th>\n",
       "      <td>32793</td>\n",
       "      <td>Alfred John Momar  N'Diaye</td>\n",
       "    </tr>\n",
       "    <tr>\n",
       "      <th>4</th>\n",
       "      <td>393247</td>\n",
       "      <td>Ibrahima  Konat\\u00e9</td>\n",
       "    </tr>\n",
       "    <tr>\n",
       "      <th>6</th>\n",
       "      <td>36</td>\n",
       "      <td>Toby  Alderweireld</td>\n",
       "    </tr>\n",
       "    <tr>\n",
       "      <th>7</th>\n",
       "      <td>48</td>\n",
       "      <td>Jan  Vertonghen</td>\n",
       "    </tr>\n",
       "  </tbody>\n",
       "</table>\n",
       "</div>"
      ],
      "text/plain": [
       "     wyId                    fullName\n",
       "1  393228                Malang  Sarr\n",
       "3   32793  Alfred John Momar  N'Diaye\n",
       "4  393247       Ibrahima  Konat\\u00e9\n",
       "6      36          Toby  Alderweireld\n",
       "7      48             Jan  Vertonghen"
      ]
     },
     "execution_count": 42,
     "metadata": {},
     "output_type": "execute_result"
    }
   ],
   "source": [
    "players_name.drop(columns = ['firstName', 'middleName', 'lastName'], inplace = True)\n",
    "players_name.head()"
   ]
  },
  {
   "cell_type": "markdown",
   "metadata": {},
   "source": [
    "## Joining Names over IDs"
   ]
  },
  {
   "cell_type": "code",
   "execution_count": 43,
   "metadata": {},
   "outputs": [],
   "source": [
    "passes_top10 = pd.merge(left=passes_top10, right=players_name, left_on='playerId', right_on='wyId', how='inner').head(10)"
   ]
  },
  {
   "cell_type": "markdown",
   "metadata": {},
   "source": [
    "## Final Results"
   ]
  },
  {
   "cell_type": "code",
   "execution_count": 44,
   "metadata": {},
   "outputs": [
    {
     "data": {
      "text/html": [
       "<div>\n",
       "<style scoped>\n",
       "    .dataframe tbody tr th:only-of-type {\n",
       "        vertical-align: middle;\n",
       "    }\n",
       "\n",
       "    .dataframe tbody tr th {\n",
       "        vertical-align: top;\n",
       "    }\n",
       "\n",
       "    .dataframe thead th {\n",
       "        text-align: right;\n",
       "    }\n",
       "</style>\n",
       "<table border=\"1\" class=\"dataframe\">\n",
       "  <thead>\n",
       "    <tr style=\"text-align: right;\">\n",
       "      <th></th>\n",
       "      <th>fullName</th>\n",
       "      <th>pass_success_rate %</th>\n",
       "    </tr>\n",
       "  </thead>\n",
       "  <tbody>\n",
       "    <tr>\n",
       "      <th>0</th>\n",
       "      <td>Francis  Coquelin</td>\n",
       "      <td>100.000000</td>\n",
       "    </tr>\n",
       "    <tr>\n",
       "      <th>1</th>\n",
       "      <td>John  Stones</td>\n",
       "      <td>97.569153</td>\n",
       "    </tr>\n",
       "    <tr>\n",
       "      <th>2</th>\n",
       "      <td>Ibrahim  Afellay</td>\n",
       "      <td>94.871795</td>\n",
       "    </tr>\n",
       "    <tr>\n",
       "      <th>3</th>\n",
       "      <td>Gn\\u00e9gn\\u00e9ri Yaya  Tour\\u00e9</td>\n",
       "      <td>94.559585</td>\n",
       "    </tr>\n",
       "    <tr>\n",
       "      <th>4</th>\n",
       "      <td>Fabian  Delph</td>\n",
       "      <td>94.509044</td>\n",
       "    </tr>\n",
       "    <tr>\n",
       "      <th>5</th>\n",
       "      <td>Leon  Britton</td>\n",
       "      <td>94.382022</td>\n",
       "    </tr>\n",
       "    <tr>\n",
       "      <th>6</th>\n",
       "      <td>Vincent  Kompany</td>\n",
       "      <td>94.275362</td>\n",
       "    </tr>\n",
       "    <tr>\n",
       "      <th>7</th>\n",
       "      <td>Andreas  Christensen</td>\n",
       "      <td>94.235388</td>\n",
       "    </tr>\n",
       "    <tr>\n",
       "      <th>8</th>\n",
       "      <td>Per  Mertesacker</td>\n",
       "      <td>94.230769</td>\n",
       "    </tr>\n",
       "    <tr>\n",
       "      <th>9</th>\n",
       "      <td>Phil  Jones</td>\n",
       "      <td>94.052419</td>\n",
       "    </tr>\n",
       "  </tbody>\n",
       "</table>\n",
       "</div>"
      ],
      "text/plain": [
       "                              fullName  pass_success_rate %\n",
       "0                    Francis  Coquelin           100.000000\n",
       "1                         John  Stones            97.569153\n",
       "2                     Ibrahim  Afellay            94.871795\n",
       "3  Gn\\u00e9gn\\u00e9ri Yaya  Tour\\u00e9            94.559585\n",
       "4                        Fabian  Delph            94.509044\n",
       "5                        Leon  Britton            94.382022\n",
       "6                     Vincent  Kompany            94.275362\n",
       "7                 Andreas  Christensen            94.235388\n",
       "8                     Per  Mertesacker            94.230769\n",
       "9                          Phil  Jones            94.052419"
      ]
     },
     "execution_count": 44,
     "metadata": {},
     "output_type": "execute_result"
    }
   ],
   "source": [
    "passes_top10[['fullName','pass_success_rate %']]"
   ]
  },
  {
   "cell_type": "markdown",
   "metadata": {},
   "source": [
    "## RQ 5"
   ]
  },
  {
   "cell_type": "code",
   "execution_count": 45,
   "metadata": {},
   "outputs": [
    {
     "data": {
      "text/html": [
       "<div>\n",
       "<style scoped>\n",
       "    .dataframe tbody tr th:only-of-type {\n",
       "        vertical-align: middle;\n",
       "    }\n",
       "\n",
       "    .dataframe tbody tr th {\n",
       "        vertical-align: top;\n",
       "    }\n",
       "\n",
       "    .dataframe thead th {\n",
       "        text-align: right;\n",
       "    }\n",
       "</style>\n",
       "<table border=\"1\" class=\"dataframe\">\n",
       "  <thead>\n",
       "    <tr style=\"text-align: right;\">\n",
       "      <th></th>\n",
       "      <th>playerId</th>\n",
       "      <th>matchId</th>\n",
       "      <th>eventName</th>\n",
       "      <th>subEventName</th>\n",
       "      <th>tags</th>\n",
       "    </tr>\n",
       "  </thead>\n",
       "  <tbody>\n",
       "    <tr>\n",
       "      <th>0</th>\n",
       "      <td>25413</td>\n",
       "      <td>2499719</td>\n",
       "      <td>Pass</td>\n",
       "      <td>Simple pass</td>\n",
       "      <td>[{'id': 1801}]</td>\n",
       "    </tr>\n",
       "    <tr>\n",
       "      <th>1</th>\n",
       "      <td>370224</td>\n",
       "      <td>2499719</td>\n",
       "      <td>Pass</td>\n",
       "      <td>High pass</td>\n",
       "      <td>[{'id': 1801}]</td>\n",
       "    </tr>\n",
       "    <tr>\n",
       "      <th>2</th>\n",
       "      <td>3319</td>\n",
       "      <td>2499719</td>\n",
       "      <td>Pass</td>\n",
       "      <td>Head pass</td>\n",
       "      <td>[{'id': 1801}]</td>\n",
       "    </tr>\n",
       "    <tr>\n",
       "      <th>3</th>\n",
       "      <td>120339</td>\n",
       "      <td>2499719</td>\n",
       "      <td>Pass</td>\n",
       "      <td>Head pass</td>\n",
       "      <td>[{'id': 1801}]</td>\n",
       "    </tr>\n",
       "    <tr>\n",
       "      <th>4</th>\n",
       "      <td>167145</td>\n",
       "      <td>2499719</td>\n",
       "      <td>Pass</td>\n",
       "      <td>Simple pass</td>\n",
       "      <td>[{'id': 1801}]</td>\n",
       "    </tr>\n",
       "  </tbody>\n",
       "</table>\n",
       "</div>"
      ],
      "text/plain": [
       "   playerId  matchId eventName subEventName            tags\n",
       "0     25413  2499719      Pass  Simple pass  [{'id': 1801}]\n",
       "1    370224  2499719      Pass    High pass  [{'id': 1801}]\n",
       "2      3319  2499719      Pass    Head pass  [{'id': 1801}]\n",
       "3    120339  2499719      Pass    Head pass  [{'id': 1801}]\n",
       "4    167145  2499719      Pass  Simple pass  [{'id': 1801}]"
      ]
     },
     "execution_count": 45,
     "metadata": {},
     "output_type": "execute_result"
    }
   ],
   "source": [
    "airduels_df = events_df[['playerId', 'matchId', 'eventName', 'subEventName', 'tags']] # already Imported data\n",
    "airduels_df.head()"
   ]
  },
  {
   "cell_type": "markdown",
   "metadata": {},
   "source": [
    "## Assessing Duel Success"
   ]
  },
  {
   "cell_type": "code",
   "execution_count": 46,
   "metadata": {},
   "outputs": [
    {
     "data": {
      "text/html": [
       "<div>\n",
       "<style scoped>\n",
       "    .dataframe tbody tr th:only-of-type {\n",
       "        vertical-align: middle;\n",
       "    }\n",
       "\n",
       "    .dataframe tbody tr th {\n",
       "        vertical-align: top;\n",
       "    }\n",
       "\n",
       "    .dataframe thead th {\n",
       "        text-align: right;\n",
       "    }\n",
       "</style>\n",
       "<table border=\"1\" class=\"dataframe\">\n",
       "  <thead>\n",
       "    <tr style=\"text-align: right;\">\n",
       "      <th></th>\n",
       "      <th>playerId</th>\n",
       "      <th>matchId</th>\n",
       "      <th>duel_success</th>\n",
       "    </tr>\n",
       "  </thead>\n",
       "  <tbody>\n",
       "    <tr>\n",
       "      <th>7</th>\n",
       "      <td>8013</td>\n",
       "      <td>2499719</td>\n",
       "      <td>False</td>\n",
       "    </tr>\n",
       "    <tr>\n",
       "      <th>8</th>\n",
       "      <td>0</td>\n",
       "      <td>2499719</td>\n",
       "      <td>True</td>\n",
       "    </tr>\n",
       "    <tr>\n",
       "      <th>12</th>\n",
       "      <td>8653</td>\n",
       "      <td>2499719</td>\n",
       "      <td>True</td>\n",
       "    </tr>\n",
       "    <tr>\n",
       "      <th>13</th>\n",
       "      <td>25413</td>\n",
       "      <td>2499719</td>\n",
       "      <td>False</td>\n",
       "    </tr>\n",
       "    <tr>\n",
       "      <th>27</th>\n",
       "      <td>192748</td>\n",
       "      <td>2499719</td>\n",
       "      <td>True</td>\n",
       "    </tr>\n",
       "  </tbody>\n",
       "</table>\n",
       "</div>"
      ],
      "text/plain": [
       "    playerId  matchId  duel_success\n",
       "7       8013  2499719         False\n",
       "8          0  2499719          True\n",
       "12      8653  2499719          True\n",
       "13     25413  2499719         False\n",
       "27    192748  2499719          True"
      ]
     },
     "execution_count": 46,
     "metadata": {},
     "output_type": "execute_result"
    }
   ],
   "source": [
    "airduels_df = airduels_df.loc[airduels_df.subEventName == 'Air duel']\n",
    "airduels_df = airduels_df.loc[airduels_df.eventName == 'Duel']\n",
    "airduels_df['duel_success'] = [str(t).find('1801') != -1 for t in airduels_df.tags]\n",
    "airduels_df.drop(columns=['tags','eventName', 'subEventName'], inplace = True)\n",
    "airduels_df.head()"
   ]
  },
  {
   "cell_type": "markdown",
   "metadata": {},
   "source": [
    "## Summarize Player and Match wise Air Duels"
   ]
  },
  {
   "cell_type": "code",
   "execution_count": 47,
   "metadata": {},
   "outputs": [
    {
     "data": {
      "text/html": [
       "<div>\n",
       "<style scoped>\n",
       "    .dataframe tbody tr th:only-of-type {\n",
       "        vertical-align: middle;\n",
       "    }\n",
       "\n",
       "    .dataframe tbody tr th {\n",
       "        vertical-align: top;\n",
       "    }\n",
       "\n",
       "    .dataframe thead th {\n",
       "        text-align: right;\n",
       "    }\n",
       "</style>\n",
       "<table border=\"1\" class=\"dataframe\">\n",
       "  <thead>\n",
       "    <tr style=\"text-align: right;\">\n",
       "      <th></th>\n",
       "      <th>playerId</th>\n",
       "      <th>matchId</th>\n",
       "      <th>success_duels</th>\n",
       "      <th>total_duels</th>\n",
       "    </tr>\n",
       "  </thead>\n",
       "  <tbody>\n",
       "    <tr>\n",
       "      <th>339</th>\n",
       "      <td>36</td>\n",
       "      <td>2499725</td>\n",
       "      <td>4.0</td>\n",
       "      <td>6</td>\n",
       "    </tr>\n",
       "    <tr>\n",
       "      <th>340</th>\n",
       "      <td>36</td>\n",
       "      <td>2499737</td>\n",
       "      <td>3.0</td>\n",
       "      <td>7</td>\n",
       "    </tr>\n",
       "    <tr>\n",
       "      <th>341</th>\n",
       "      <td>36</td>\n",
       "      <td>2499746</td>\n",
       "      <td>5.0</td>\n",
       "      <td>11</td>\n",
       "    </tr>\n",
       "    <tr>\n",
       "      <th>342</th>\n",
       "      <td>36</td>\n",
       "      <td>2499752</td>\n",
       "      <td>4.0</td>\n",
       "      <td>5</td>\n",
       "    </tr>\n",
       "    <tr>\n",
       "      <th>343</th>\n",
       "      <td>36</td>\n",
       "      <td>2499766</td>\n",
       "      <td>0.0</td>\n",
       "      <td>3</td>\n",
       "    </tr>\n",
       "  </tbody>\n",
       "</table>\n",
       "</div>"
      ],
      "text/plain": [
       "     playerId  matchId  success_duels  total_duels\n",
       "339        36  2499725            4.0            6\n",
       "340        36  2499737            3.0            7\n",
       "341        36  2499746            5.0           11\n",
       "342        36  2499752            4.0            5\n",
       "343        36  2499766            0.0            3"
      ]
     },
     "execution_count": 47,
     "metadata": {},
     "output_type": "execute_result"
    }
   ],
   "source": [
    "airduels_df = airduels_df.groupby(['playerId', 'matchId'], as_index = False, group_keys = False).agg(['sum','count'] , on='duel_success').reset_index()\n",
    "airduels_df.columns = ['playerId', 'matchId', 'success_duels', 'total_duels']\n",
    "airduels_df = airduels_df.loc[airduels_df['playerId'] != 0]\n",
    "airduels_df.head()"
   ]
  },
  {
   "cell_type": "markdown",
   "metadata": {},
   "source": [
    "Assumption Considering players in each game made greater than 5 Air duels, defines that player has played enough in game"
   ]
  },
  {
   "cell_type": "code",
   "execution_count": 48,
   "metadata": {},
   "outputs": [
    {
     "data": {
      "text/html": [
       "<div>\n",
       "<style scoped>\n",
       "    .dataframe tbody tr th:only-of-type {\n",
       "        vertical-align: middle;\n",
       "    }\n",
       "\n",
       "    .dataframe tbody tr th {\n",
       "        vertical-align: top;\n",
       "    }\n",
       "\n",
       "    .dataframe thead th {\n",
       "        text-align: right;\n",
       "    }\n",
       "</style>\n",
       "<table border=\"1\" class=\"dataframe\">\n",
       "  <thead>\n",
       "    <tr style=\"text-align: right;\">\n",
       "      <th></th>\n",
       "      <th>playerId</th>\n",
       "      <th>matchId</th>\n",
       "      <th>success_duels</th>\n",
       "      <th>total_duels</th>\n",
       "    </tr>\n",
       "  </thead>\n",
       "  <tbody>\n",
       "    <tr>\n",
       "      <th>339</th>\n",
       "      <td>36</td>\n",
       "      <td>2499725</td>\n",
       "      <td>4.0</td>\n",
       "      <td>6</td>\n",
       "    </tr>\n",
       "    <tr>\n",
       "      <th>340</th>\n",
       "      <td>36</td>\n",
       "      <td>2499737</td>\n",
       "      <td>3.0</td>\n",
       "      <td>7</td>\n",
       "    </tr>\n",
       "    <tr>\n",
       "      <th>341</th>\n",
       "      <td>36</td>\n",
       "      <td>2499746</td>\n",
       "      <td>5.0</td>\n",
       "      <td>11</td>\n",
       "    </tr>\n",
       "    <tr>\n",
       "      <th>354</th>\n",
       "      <td>38</td>\n",
       "      <td>2499744</td>\n",
       "      <td>5.0</td>\n",
       "      <td>8</td>\n",
       "    </tr>\n",
       "    <tr>\n",
       "      <th>359</th>\n",
       "      <td>48</td>\n",
       "      <td>2499746</td>\n",
       "      <td>5.0</td>\n",
       "      <td>9</td>\n",
       "    </tr>\n",
       "  </tbody>\n",
       "</table>\n",
       "</div>"
      ],
      "text/plain": [
       "     playerId  matchId  success_duels  total_duels\n",
       "339        36  2499725            4.0            6\n",
       "340        36  2499737            3.0            7\n",
       "341        36  2499746            5.0           11\n",
       "354        38  2499744            5.0            8\n",
       "359        48  2499746            5.0            9"
      ]
     },
     "execution_count": 48,
     "metadata": {},
     "output_type": "execute_result"
    }
   ],
   "source": [
    "airduels_df = airduels_df.loc[airduels_df['total_duels'] > 5]\n",
    "airduels_df.head()"
   ]
  },
  {
   "cell_type": "markdown",
   "metadata": {},
   "source": [
    "## Success Rate"
   ]
  },
  {
   "cell_type": "code",
   "execution_count": 49,
   "metadata": {},
   "outputs": [
    {
     "data": {
      "text/html": [
       "<div>\n",
       "<style scoped>\n",
       "    .dataframe tbody tr th:only-of-type {\n",
       "        vertical-align: middle;\n",
       "    }\n",
       "\n",
       "    .dataframe tbody tr th {\n",
       "        vertical-align: top;\n",
       "    }\n",
       "\n",
       "    .dataframe thead th {\n",
       "        text-align: right;\n",
       "    }\n",
       "</style>\n",
       "<table border=\"1\" class=\"dataframe\">\n",
       "  <thead>\n",
       "    <tr style=\"text-align: right;\">\n",
       "      <th></th>\n",
       "      <th>playerId</th>\n",
       "      <th>success_duels</th>\n",
       "      <th>total_duels</th>\n",
       "      <th>success_ratio</th>\n",
       "    </tr>\n",
       "  </thead>\n",
       "  <tbody>\n",
       "    <tr>\n",
       "      <th>0</th>\n",
       "      <td>36</td>\n",
       "      <td>12.0</td>\n",
       "      <td>24</td>\n",
       "      <td>50.000000</td>\n",
       "    </tr>\n",
       "    <tr>\n",
       "      <th>1</th>\n",
       "      <td>38</td>\n",
       "      <td>5.0</td>\n",
       "      <td>8</td>\n",
       "      <td>62.500000</td>\n",
       "    </tr>\n",
       "    <tr>\n",
       "      <th>2</th>\n",
       "      <td>48</td>\n",
       "      <td>91.0</td>\n",
       "      <td>127</td>\n",
       "      <td>71.653543</td>\n",
       "    </tr>\n",
       "    <tr>\n",
       "      <th>3</th>\n",
       "      <td>74</td>\n",
       "      <td>59.0</td>\n",
       "      <td>99</td>\n",
       "      <td>59.595960</td>\n",
       "    </tr>\n",
       "    <tr>\n",
       "      <th>4</th>\n",
       "      <td>93</td>\n",
       "      <td>20.0</td>\n",
       "      <td>37</td>\n",
       "      <td>54.054054</td>\n",
       "    </tr>\n",
       "  </tbody>\n",
       "</table>\n",
       "</div>"
      ],
      "text/plain": [
       "   playerId  success_duels  total_duels  success_ratio\n",
       "0        36           12.0           24      50.000000\n",
       "1        38            5.0            8      62.500000\n",
       "2        48           91.0          127      71.653543\n",
       "3        74           59.0           99      59.595960\n",
       "4        93           20.0           37      54.054054"
      ]
     },
     "execution_count": 49,
     "metadata": {},
     "output_type": "execute_result"
    }
   ],
   "source": [
    "airduels_df = airduels_df.groupby(airduels_df[\"playerId\"]).sum(on = ['success_duels' , 'total_duels']).reset_index()[['playerId','success_duels','total_duels']]\n",
    "airduels_df['success_ratio'] = airduels_df['success_duels']/airduels_df['total_duels']*100\n",
    "airduels_df.head()"
   ]
  },
  {
   "cell_type": "markdown",
   "metadata": {},
   "source": [
    "## Reffering Player ID with Height"
   ]
  },
  {
   "cell_type": "code",
   "execution_count": 50,
   "metadata": {},
   "outputs": [
    {
     "data": {
      "text/html": [
       "<div>\n",
       "<style scoped>\n",
       "    .dataframe tbody tr th:only-of-type {\n",
       "        vertical-align: middle;\n",
       "    }\n",
       "\n",
       "    .dataframe tbody tr th {\n",
       "        vertical-align: top;\n",
       "    }\n",
       "\n",
       "    .dataframe thead th {\n",
       "        text-align: right;\n",
       "    }\n",
       "</style>\n",
       "<table border=\"1\" class=\"dataframe\">\n",
       "  <thead>\n",
       "    <tr style=\"text-align: right;\">\n",
       "      <th></th>\n",
       "      <th>height</th>\n",
       "      <th>wyId</th>\n",
       "    </tr>\n",
       "  </thead>\n",
       "  <tbody>\n",
       "    <tr>\n",
       "      <th>1</th>\n",
       "      <td>182</td>\n",
       "      <td>393228</td>\n",
       "    </tr>\n",
       "    <tr>\n",
       "      <th>3</th>\n",
       "      <td>187</td>\n",
       "      <td>32793</td>\n",
       "    </tr>\n",
       "    <tr>\n",
       "      <th>4</th>\n",
       "      <td>192</td>\n",
       "      <td>393247</td>\n",
       "    </tr>\n",
       "    <tr>\n",
       "      <th>6</th>\n",
       "      <td>187</td>\n",
       "      <td>36</td>\n",
       "    </tr>\n",
       "    <tr>\n",
       "      <th>7</th>\n",
       "      <td>189</td>\n",
       "      <td>48</td>\n",
       "    </tr>\n",
       "  </tbody>\n",
       "</table>\n",
       "</div>"
      ],
      "text/plain": [
       "   height    wyId\n",
       "1     182  393228\n",
       "3     187   32793\n",
       "4     192  393247\n",
       "6     187      36\n",
       "7     189      48"
      ]
     },
     "execution_count": 50,
     "metadata": {},
     "output_type": "execute_result"
    }
   ],
   "source": [
    "players_height = players_df[['height', 'wyId']].copy()\n",
    "players_height.head()"
   ]
  },
  {
   "cell_type": "markdown",
   "metadata": {},
   "source": [
    "## Joining Height with Player ID"
   ]
  },
  {
   "cell_type": "code",
   "execution_count": 51,
   "metadata": {},
   "outputs": [],
   "source": [
    "airduels_height = pd.merge(left=airduels_df, right=players_height, left_on='playerId', right_on='wyId', how='inner')[['height', 'success_ratio']]"
   ]
  },
  {
   "cell_type": "code",
   "execution_count": 52,
   "metadata": {},
   "outputs": [
    {
     "data": {
      "text/html": [
       "<div>\n",
       "<style scoped>\n",
       "    .dataframe tbody tr th:only-of-type {\n",
       "        vertical-align: middle;\n",
       "    }\n",
       "\n",
       "    .dataframe tbody tr th {\n",
       "        vertical-align: top;\n",
       "    }\n",
       "\n",
       "    .dataframe thead th {\n",
       "        text-align: right;\n",
       "    }\n",
       "</style>\n",
       "<table border=\"1\" class=\"dataframe\">\n",
       "  <thead>\n",
       "    <tr style=\"text-align: right;\">\n",
       "      <th></th>\n",
       "      <th>height</th>\n",
       "      <th>success_ratio</th>\n",
       "    </tr>\n",
       "  </thead>\n",
       "  <tbody>\n",
       "    <tr>\n",
       "      <th>0</th>\n",
       "      <td>187</td>\n",
       "      <td>50.000000</td>\n",
       "    </tr>\n",
       "    <tr>\n",
       "      <th>1</th>\n",
       "      <td>180</td>\n",
       "      <td>62.500000</td>\n",
       "    </tr>\n",
       "    <tr>\n",
       "      <th>2</th>\n",
       "      <td>189</td>\n",
       "      <td>71.653543</td>\n",
       "    </tr>\n",
       "    <tr>\n",
       "      <th>3</th>\n",
       "      <td>187</td>\n",
       "      <td>59.595960</td>\n",
       "    </tr>\n",
       "    <tr>\n",
       "      <th>4</th>\n",
       "      <td>186</td>\n",
       "      <td>54.054054</td>\n",
       "    </tr>\n",
       "  </tbody>\n",
       "</table>\n",
       "</div>"
      ],
      "text/plain": [
       "   height  success_ratio\n",
       "0     187      50.000000\n",
       "1     180      62.500000\n",
       "2     189      71.653543\n",
       "3     187      59.595960\n",
       "4     186      54.054054"
      ]
     },
     "execution_count": 52,
     "metadata": {},
     "output_type": "execute_result"
    }
   ],
   "source": [
    "airduels_height.head()"
   ]
  },
  {
   "cell_type": "markdown",
   "metadata": {},
   "source": [
    "## Creating Range of Heights for a enhanced Visualization of result"
   ]
  },
  {
   "cell_type": "code",
   "execution_count": 53,
   "metadata": {},
   "outputs": [
    {
     "data": {
      "text/html": [
       "<div>\n",
       "<style scoped>\n",
       "    .dataframe tbody tr th:only-of-type {\n",
       "        vertical-align: middle;\n",
       "    }\n",
       "\n",
       "    .dataframe tbody tr th {\n",
       "        vertical-align: top;\n",
       "    }\n",
       "\n",
       "    .dataframe thead th {\n",
       "        text-align: right;\n",
       "    }\n",
       "</style>\n",
       "<table border=\"1\" class=\"dataframe\">\n",
       "  <thead>\n",
       "    <tr style=\"text-align: right;\">\n",
       "      <th></th>\n",
       "      <th>height</th>\n",
       "      <th>success_ratio</th>\n",
       "      <th>height_range</th>\n",
       "    </tr>\n",
       "  </thead>\n",
       "  <tbody>\n",
       "    <tr>\n",
       "      <th>0</th>\n",
       "      <td>187</td>\n",
       "      <td>50.000000</td>\n",
       "      <td>(185, 190]</td>\n",
       "    </tr>\n",
       "    <tr>\n",
       "      <th>1</th>\n",
       "      <td>180</td>\n",
       "      <td>62.500000</td>\n",
       "      <td>(175, 180]</td>\n",
       "    </tr>\n",
       "    <tr>\n",
       "      <th>2</th>\n",
       "      <td>189</td>\n",
       "      <td>71.653543</td>\n",
       "      <td>(185, 190]</td>\n",
       "    </tr>\n",
       "    <tr>\n",
       "      <th>3</th>\n",
       "      <td>187</td>\n",
       "      <td>59.595960</td>\n",
       "      <td>(185, 190]</td>\n",
       "    </tr>\n",
       "    <tr>\n",
       "      <th>4</th>\n",
       "      <td>186</td>\n",
       "      <td>54.054054</td>\n",
       "      <td>(185, 190]</td>\n",
       "    </tr>\n",
       "  </tbody>\n",
       "</table>\n",
       "</div>"
      ],
      "text/plain": [
       "   height  success_ratio height_range\n",
       "0     187      50.000000   (185, 190]\n",
       "1     180      62.500000   (175, 180]\n",
       "2     189      71.653543   (185, 190]\n",
       "3     187      59.595960   (185, 190]\n",
       "4     186      54.054054   (185, 190]"
      ]
     },
     "execution_count": 53,
     "metadata": {},
     "output_type": "execute_result"
    }
   ],
   "source": [
    "airduels_height['height_range'] = pd.cut(airduels_height[\"height\"], np.arange(165, 210, 5))\n",
    "airduels_height.head()"
   ]
  },
  {
   "cell_type": "markdown",
   "metadata": {},
   "source": [
    "## Result\n",
    "Based on the scatter plot it can be seen that from heigth range 170 to 185 the success rate is from 20% to 60% whereas for range 185 to 195 the success rate 45% to 90% which clearly refelcts that height and success rate is directly proportoinal."
   ]
  },
  {
   "cell_type": "code",
   "execution_count": 54,
   "metadata": {},
   "outputs": [
    {
     "data": {
      "text/plain": [
       "Text(0.5, 0, 'Height')"
      ]
     },
     "execution_count": 54,
     "metadata": {},
     "output_type": "execute_result"
    },
    {
     "data": {
      "image/png": "[encoded data removed]",
      "text/plain": [
       "<Figure size 1080x504 with 1 Axes>"
      ]
     },
     "metadata": {
      "needs_background": "light"
     },
     "output_type": "display_data"
    }
   ],
   "source": [
    "plt.figure(figsize=(15,7))\n",
    "ranges = pd.unique(airduels_height['height_range']).sort_values()\n",
    "for i,r in enumerate(ranges):\n",
    "    temp_df = airduels_height.loc[airduels_height['height_range'] == r]\n",
    "    plt.scatter(x = temp_df['height'], y = temp_df['success_ratio'])\n",
    "plt.ylabel('Success Rate', fontsize = 16)\n",
    "plt.xlabel('Height', fontsize = 16)"
   ]
  },
  {
   "cell_type": "markdown",
   "metadata": {},
   "source": [
    "## RQ6\n",
    "We will observe that which are the top 10 nationlities playing in Premier league"
   ]
  },
  {
   "cell_type": "markdown",
   "metadata": {},
   "source": [
    "we considered the player iD of premier league only"
   ]
  },
  {
   "cell_type": "code",
   "execution_count": 55,
   "metadata": {},
   "outputs": [
    {
     "data": {
      "text/html": [
       "<div>\n",
       "<style scoped>\n",
       "    .dataframe tbody tr th:only-of-type {\n",
       "        vertical-align: middle;\n",
       "    }\n",
       "\n",
       "    .dataframe tbody tr th {\n",
       "        vertical-align: top;\n",
       "    }\n",
       "\n",
       "    .dataframe thead th {\n",
       "        text-align: right;\n",
       "    }\n",
       "</style>\n",
       "<table border=\"1\" class=\"dataframe\">\n",
       "  <thead>\n",
       "    <tr style=\"text-align: right;\">\n",
       "      <th></th>\n",
       "      <th>playerId</th>\n",
       "    </tr>\n",
       "  </thead>\n",
       "  <tbody>\n",
       "    <tr>\n",
       "      <th>0</th>\n",
       "      <td>25413</td>\n",
       "    </tr>\n",
       "    <tr>\n",
       "      <th>1</th>\n",
       "      <td>370224</td>\n",
       "    </tr>\n",
       "    <tr>\n",
       "      <th>2</th>\n",
       "      <td>3319</td>\n",
       "    </tr>\n",
       "    <tr>\n",
       "      <th>3</th>\n",
       "      <td>120339</td>\n",
       "    </tr>\n",
       "    <tr>\n",
       "      <th>4</th>\n",
       "      <td>167145</td>\n",
       "    </tr>\n",
       "  </tbody>\n",
       "</table>\n",
       "</div>"
      ],
      "text/plain": [
       "   playerId\n",
       "0     25413\n",
       "1    370224\n",
       "2      3319\n",
       "3    120339\n",
       "4    167145"
      ]
     },
     "execution_count": 55,
     "metadata": {},
     "output_type": "execute_result"
    }
   ],
   "source": [
    "players_pl = pd.DataFrame(pd.unique(events_df['playerId']), columns=['playerId'])\n",
    "players_pl.head()"
   ]
  },
  {
   "cell_type": "markdown",
   "metadata": {},
   "source": [
    "extracted and cleaned Nationality from Passport area.\n",
    "3 of unformatted nationalities were changed as Unidentifed"
   ]
  },
  {
   "cell_type": "code",
   "execution_count": 56,
   "metadata": {},
   "outputs": [],
   "source": [
    "players_nat = players_df[['passportArea', 'wyId']].copy()\n",
    "nationality = [str(s).split()[1].replace(\"'\", '').strip(',') if str(s).split()[1].replace(\"'\", '').strip(',').find(\"\\\\\") == -1 else 'unIdentified' for s in players_nat['passportArea']]\n",
    "players_nat['nationality'] = nationality"
   ]
  },
  {
   "cell_type": "markdown",
   "metadata": {},
   "source": [
    "Joining the Player and Nationality"
   ]
  },
  {
   "cell_type": "code",
   "execution_count": 57,
   "metadata": {},
   "outputs": [],
   "source": [
    "players_pl_nat = pd.merge(left=players_pl, right=players_nat, left_on='playerId', right_on='wyId', how = 'inner')"
   ]
  },
  {
   "cell_type": "markdown",
   "metadata": {},
   "source": [
    "## Plotting"
   ]
  },
  {
   "cell_type": "code",
   "execution_count": 58,
   "metadata": {},
   "outputs": [
    {
     "data": {
      "text/plain": [
       "<matplotlib.axes._subplots.AxesSubplot at 0x213803f80f0>"
      ]
     },
     "execution_count": 58,
     "metadata": {},
     "output_type": "execute_result"
    },
    {
     "data": {
      "image/png": "[encoded data removed]",
      "text/plain": [
       "<Figure size 432x288 with 1 Axes>"
      ]
     },
     "metadata": {
      "needs_background": "light"
     },
     "output_type": "display_data"
    }
   ],
   "source": [
    "players_pl_nat.groupby('nationality').count()[['playerId']].sort_values(by = 'playerId', ascending = False).iloc[0:10,:].plot(kind='bar', legend=False,title='Top 10 nationalities playing in Premier League')"
   ]
  },
  {
   "cell_type": "markdown",
   "metadata": {},
   "source": [
    "## CRQ1"
   ]
  },
  {
   "cell_type": "markdown",
   "metadata": {},
   "source": [
    "# Importing Dataset"
   ]
  },
  {
   "cell_type": "code",
   "execution_count": 59,
   "metadata": {},
   "outputs": [
    {
     "data": {
      "text/html": [
       "<div>\n",
       "<style scoped>\n",
       "    .dataframe tbody tr th:only-of-type {\n",
       "        vertical-align: middle;\n",
       "    }\n",
       "\n",
       "    .dataframe tbody tr th {\n",
       "        vertical-align: top;\n",
       "    }\n",
       "\n",
       "    .dataframe thead th {\n",
       "        text-align: right;\n",
       "    }\n",
       "</style>\n",
       "<table border=\"1\" class=\"dataframe\">\n",
       "  <thead>\n",
       "    <tr style=\"text-align: right;\">\n",
       "      <th></th>\n",
       "      <th>eventId</th>\n",
       "      <th>eventName</th>\n",
       "      <th>eventSec</th>\n",
       "      <th>id</th>\n",
       "      <th>matchId</th>\n",
       "      <th>matchPeriod</th>\n",
       "      <th>playerId</th>\n",
       "      <th>positions</th>\n",
       "      <th>subEventId</th>\n",
       "      <th>subEventName</th>\n",
       "      <th>tags</th>\n",
       "      <th>teamId</th>\n",
       "    </tr>\n",
       "  </thead>\n",
       "  <tbody>\n",
       "    <tr>\n",
       "      <th>0</th>\n",
       "      <td>8</td>\n",
       "      <td>Pass</td>\n",
       "      <td>2.758649</td>\n",
       "      <td>177959171</td>\n",
       "      <td>2499719</td>\n",
       "      <td>1H</td>\n",
       "      <td>25413</td>\n",
       "      <td>[{'y': 49, 'x': 49}, {'y': 78, 'x': 31}]</td>\n",
       "      <td>85</td>\n",
       "      <td>Simple pass</td>\n",
       "      <td>[{'id': 1801}]</td>\n",
       "      <td>1609</td>\n",
       "    </tr>\n",
       "    <tr>\n",
       "      <th>1</th>\n",
       "      <td>8</td>\n",
       "      <td>Pass</td>\n",
       "      <td>4.946850</td>\n",
       "      <td>177959172</td>\n",
       "      <td>2499719</td>\n",
       "      <td>1H</td>\n",
       "      <td>370224</td>\n",
       "      <td>[{'y': 78, 'x': 31}, {'y': 75, 'x': 51}]</td>\n",
       "      <td>83</td>\n",
       "      <td>High pass</td>\n",
       "      <td>[{'id': 1801}]</td>\n",
       "      <td>1609</td>\n",
       "    </tr>\n",
       "    <tr>\n",
       "      <th>2</th>\n",
       "      <td>8</td>\n",
       "      <td>Pass</td>\n",
       "      <td>6.542188</td>\n",
       "      <td>177959173</td>\n",
       "      <td>2499719</td>\n",
       "      <td>1H</td>\n",
       "      <td>3319</td>\n",
       "      <td>[{'y': 75, 'x': 51}, {'y': 71, 'x': 35}]</td>\n",
       "      <td>82</td>\n",
       "      <td>Head pass</td>\n",
       "      <td>[{'id': 1801}]</td>\n",
       "      <td>1609</td>\n",
       "    </tr>\n",
       "    <tr>\n",
       "      <th>3</th>\n",
       "      <td>8</td>\n",
       "      <td>Pass</td>\n",
       "      <td>8.143395</td>\n",
       "      <td>177959174</td>\n",
       "      <td>2499719</td>\n",
       "      <td>1H</td>\n",
       "      <td>120339</td>\n",
       "      <td>[{'y': 71, 'x': 35}, {'y': 95, 'x': 41}]</td>\n",
       "      <td>82</td>\n",
       "      <td>Head pass</td>\n",
       "      <td>[{'id': 1801}]</td>\n",
       "      <td>1609</td>\n",
       "    </tr>\n",
       "    <tr>\n",
       "      <th>4</th>\n",
       "      <td>8</td>\n",
       "      <td>Pass</td>\n",
       "      <td>10.302366</td>\n",
       "      <td>177959175</td>\n",
       "      <td>2499719</td>\n",
       "      <td>1H</td>\n",
       "      <td>167145</td>\n",
       "      <td>[{'y': 95, 'x': 41}, {'y': 88, 'x': 72}]</td>\n",
       "      <td>85</td>\n",
       "      <td>Simple pass</td>\n",
       "      <td>[{'id': 1801}]</td>\n",
       "      <td>1609</td>\n",
       "    </tr>\n",
       "  </tbody>\n",
       "</table>\n",
       "</div>"
      ],
      "text/plain": [
       "   eventId eventName   eventSec         id  matchId matchPeriod  playerId  \\\n",
       "0        8      Pass   2.758649  177959171  2499719          1H     25413   \n",
       "1        8      Pass   4.946850  177959172  2499719          1H    370224   \n",
       "2        8      Pass   6.542188  177959173  2499719          1H      3319   \n",
       "3        8      Pass   8.143395  177959174  2499719          1H    120339   \n",
       "4        8      Pass  10.302366  177959175  2499719          1H    167145   \n",
       "\n",
       "                                  positions subEventId subEventName  \\\n",
       "0  [{'y': 49, 'x': 49}, {'y': 78, 'x': 31}]         85  Simple pass   \n",
       "1  [{'y': 78, 'x': 31}, {'y': 75, 'x': 51}]         83    High pass   \n",
       "2  [{'y': 75, 'x': 51}, {'y': 71, 'x': 35}]         82    Head pass   \n",
       "3  [{'y': 71, 'x': 35}, {'y': 95, 'x': 41}]         82    Head pass   \n",
       "4  [{'y': 95, 'x': 41}, {'y': 88, 'x': 72}]         85  Simple pass   \n",
       "\n",
       "             tags  teamId  \n",
       "0  [{'id': 1801}]    1609  \n",
       "1  [{'id': 1801}]    1609  \n",
       "2  [{'id': 1801}]    1609  \n",
       "3  [{'id': 1801}]    1609  \n",
       "4  [{'id': 1801}]    1609  "
      ]
     },
     "execution_count": 59,
     "metadata": {},
     "output_type": "execute_result"
    }
   ],
   "source": [
    "events_df.head()"
   ]
  },
  {
   "cell_type": "markdown",
   "metadata": {},
   "source": [
    "## Relevent Columns and in a new defined Dataset for Goals"
   ]
  },
  {
   "cell_type": "code",
   "execution_count": 60,
   "metadata": {},
   "outputs": [],
   "source": [
    "goals_df = events_df[['playerId', 'eventSec','teamId','tags','eventName', 'matchPeriod']]"
   ]
  },
  {
   "cell_type": "code",
   "execution_count": 61,
   "metadata": {},
   "outputs": [
    {
     "data": {
      "text/html": [
       "<div>\n",
       "<style scoped>\n",
       "    .dataframe tbody tr th:only-of-type {\n",
       "        vertical-align: middle;\n",
       "    }\n",
       "\n",
       "    .dataframe tbody tr th {\n",
       "        vertical-align: top;\n",
       "    }\n",
       "\n",
       "    .dataframe thead th {\n",
       "        text-align: right;\n",
       "    }\n",
       "</style>\n",
       "<table border=\"1\" class=\"dataframe\">\n",
       "  <thead>\n",
       "    <tr style=\"text-align: right;\">\n",
       "      <th></th>\n",
       "      <th>playerId</th>\n",
       "      <th>eventSec</th>\n",
       "      <th>teamId</th>\n",
       "      <th>tags</th>\n",
       "      <th>eventName</th>\n",
       "      <th>matchPeriod</th>\n",
       "    </tr>\n",
       "  </thead>\n",
       "  <tbody>\n",
       "    <tr>\n",
       "      <th>0</th>\n",
       "      <td>25413</td>\n",
       "      <td>2.758649</td>\n",
       "      <td>1609</td>\n",
       "      <td>[{'id': 1801}]</td>\n",
       "      <td>Pass</td>\n",
       "      <td>1H</td>\n",
       "    </tr>\n",
       "    <tr>\n",
       "      <th>1</th>\n",
       "      <td>370224</td>\n",
       "      <td>4.946850</td>\n",
       "      <td>1609</td>\n",
       "      <td>[{'id': 1801}]</td>\n",
       "      <td>Pass</td>\n",
       "      <td>1H</td>\n",
       "    </tr>\n",
       "    <tr>\n",
       "      <th>2</th>\n",
       "      <td>3319</td>\n",
       "      <td>6.542188</td>\n",
       "      <td>1609</td>\n",
       "      <td>[{'id': 1801}]</td>\n",
       "      <td>Pass</td>\n",
       "      <td>1H</td>\n",
       "    </tr>\n",
       "    <tr>\n",
       "      <th>3</th>\n",
       "      <td>120339</td>\n",
       "      <td>8.143395</td>\n",
       "      <td>1609</td>\n",
       "      <td>[{'id': 1801}]</td>\n",
       "      <td>Pass</td>\n",
       "      <td>1H</td>\n",
       "    </tr>\n",
       "    <tr>\n",
       "      <th>4</th>\n",
       "      <td>167145</td>\n",
       "      <td>10.302366</td>\n",
       "      <td>1609</td>\n",
       "      <td>[{'id': 1801}]</td>\n",
       "      <td>Pass</td>\n",
       "      <td>1H</td>\n",
       "    </tr>\n",
       "  </tbody>\n",
       "</table>\n",
       "</div>"
      ],
      "text/plain": [
       "   playerId   eventSec  teamId            tags eventName matchPeriod\n",
       "0     25413   2.758649    1609  [{'id': 1801}]      Pass          1H\n",
       "1    370224   4.946850    1609  [{'id': 1801}]      Pass          1H\n",
       "2      3319   6.542188    1609  [{'id': 1801}]      Pass          1H\n",
       "3    120339   8.143395    1609  [{'id': 1801}]      Pass          1H\n",
       "4    167145  10.302366    1609  [{'id': 1801}]      Pass          1H"
      ]
     },
     "execution_count": 61,
     "metadata": {},
     "output_type": "execute_result"
    }
   ],
   "source": [
    "goals_df.head()"
   ]
  },
  {
   "cell_type": "markdown",
   "metadata": {},
   "source": [
    "## Identifying Successive Goals\n",
    "tag 101 is defined as successive goals"
   ]
  },
  {
   "cell_type": "code",
   "execution_count": 62,
   "metadata": {},
   "outputs": [],
   "source": [
    "tags101 = [str(t).find(' 101') != -1 for t in goals_df['tags']] # "
   ]
  },
  {
   "cell_type": "code",
   "execution_count": 63,
   "metadata": {},
   "outputs": [],
   "source": [
    "goals_df = goals_df.loc[tags101]"
   ]
  },
  {
   "cell_type": "code",
   "execution_count": 64,
   "metadata": {},
   "outputs": [
    {
     "data": {
      "text/html": [
       "<div>\n",
       "<style scoped>\n",
       "    .dataframe tbody tr th:only-of-type {\n",
       "        vertical-align: middle;\n",
       "    }\n",
       "\n",
       "    .dataframe tbody tr th {\n",
       "        vertical-align: top;\n",
       "    }\n",
       "\n",
       "    .dataframe thead th {\n",
       "        text-align: right;\n",
       "    }\n",
       "</style>\n",
       "<table border=\"1\" class=\"dataframe\">\n",
       "  <thead>\n",
       "    <tr style=\"text-align: right;\">\n",
       "      <th></th>\n",
       "      <th>playerId</th>\n",
       "      <th>eventSec</th>\n",
       "      <th>teamId</th>\n",
       "      <th>tags</th>\n",
       "      <th>eventName</th>\n",
       "      <th>matchPeriod</th>\n",
       "    </tr>\n",
       "  </thead>\n",
       "  <tbody>\n",
       "    <tr>\n",
       "      <th>46</th>\n",
       "      <td>25413</td>\n",
       "      <td>94.595788</td>\n",
       "      <td>1609</td>\n",
       "      <td>[{'id': 101}, {'id': 402}, {'id': 201}, {'id':...</td>\n",
       "      <td>Shot</td>\n",
       "      <td>1H</td>\n",
       "    </tr>\n",
       "    <tr>\n",
       "      <th>47</th>\n",
       "      <td>8480</td>\n",
       "      <td>96.970614</td>\n",
       "      <td>1631</td>\n",
       "      <td>[{'id': 101}, {'id': 1205}, {'id': 1802}]</td>\n",
       "      <td>Save attempt</td>\n",
       "      <td>1H</td>\n",
       "    </tr>\n",
       "    <tr>\n",
       "      <th>91</th>\n",
       "      <td>14763</td>\n",
       "      <td>254.745027</td>\n",
       "      <td>1631</td>\n",
       "      <td>[{'id': 101}, {'id': 403}, {'id': 201}, {'id':...</td>\n",
       "      <td>Shot</td>\n",
       "      <td>1H</td>\n",
       "    </tr>\n",
       "    <tr>\n",
       "      <th>92</th>\n",
       "      <td>7882</td>\n",
       "      <td>256.547834</td>\n",
       "      <td>1609</td>\n",
       "      <td>[{'id': 101}, {'id': 1207}, {'id': 1802}]</td>\n",
       "      <td>Save attempt</td>\n",
       "      <td>1H</td>\n",
       "    </tr>\n",
       "    <tr>\n",
       "      <th>554</th>\n",
       "      <td>12829</td>\n",
       "      <td>1710.855093</td>\n",
       "      <td>1631</td>\n",
       "      <td>[{'id': 101}, {'id': 402}, {'id': 201}, {'id':...</td>\n",
       "      <td>Shot</td>\n",
       "      <td>1H</td>\n",
       "    </tr>\n",
       "  </tbody>\n",
       "</table>\n",
       "</div>"
      ],
      "text/plain": [
       "     playerId     eventSec  teamId  \\\n",
       "46      25413    94.595788    1609   \n",
       "47       8480    96.970614    1631   \n",
       "91      14763   254.745027    1631   \n",
       "92       7882   256.547834    1609   \n",
       "554     12829  1710.855093    1631   \n",
       "\n",
       "                                                  tags     eventName  \\\n",
       "46   [{'id': 101}, {'id': 402}, {'id': 201}, {'id':...          Shot   \n",
       "47           [{'id': 101}, {'id': 1205}, {'id': 1802}]  Save attempt   \n",
       "91   [{'id': 101}, {'id': 403}, {'id': 201}, {'id':...          Shot   \n",
       "92           [{'id': 101}, {'id': 1207}, {'id': 1802}]  Save attempt   \n",
       "554  [{'id': 101}, {'id': 402}, {'id': 201}, {'id':...          Shot   \n",
       "\n",
       "    matchPeriod  \n",
       "46           1H  \n",
       "47           1H  \n",
       "91           1H  \n",
       "92           1H  \n",
       "554          1H  "
      ]
     },
     "execution_count": 64,
     "metadata": {},
     "output_type": "execute_result"
    }
   ],
   "source": [
    "goals_df.head()"
   ]
  },
  {
   "cell_type": "code",
   "execution_count": 65,
   "metadata": {},
   "outputs": [],
   "source": [
    "goals_df = goals_df.loc[goals_df['eventName'] != 'Save attempt']# removing save attempts"
   ]
  },
  {
   "cell_type": "markdown",
   "metadata": {},
   "source": [
    "## changing Seconds into Minute of Goal"
   ]
  },
  {
   "cell_type": "code",
   "execution_count": 66,
   "metadata": {},
   "outputs": [],
   "source": [
    "goals_df['eventMin'] = goals_df['eventSec']//60 + 1"
   ]
  },
  {
   "cell_type": "code",
   "execution_count": 67,
   "metadata": {},
   "outputs": [
    {
     "data": {
      "text/html": [
       "<div>\n",
       "<style scoped>\n",
       "    .dataframe tbody tr th:only-of-type {\n",
       "        vertical-align: middle;\n",
       "    }\n",
       "\n",
       "    .dataframe tbody tr th {\n",
       "        vertical-align: top;\n",
       "    }\n",
       "\n",
       "    .dataframe thead th {\n",
       "        text-align: right;\n",
       "    }\n",
       "</style>\n",
       "<table border=\"1\" class=\"dataframe\">\n",
       "  <thead>\n",
       "    <tr style=\"text-align: right;\">\n",
       "      <th></th>\n",
       "      <th>playerId</th>\n",
       "      <th>eventSec</th>\n",
       "      <th>teamId</th>\n",
       "      <th>tags</th>\n",
       "      <th>eventName</th>\n",
       "      <th>matchPeriod</th>\n",
       "      <th>eventMin</th>\n",
       "    </tr>\n",
       "  </thead>\n",
       "  <tbody>\n",
       "    <tr>\n",
       "      <th>46</th>\n",
       "      <td>25413</td>\n",
       "      <td>94.595788</td>\n",
       "      <td>1609</td>\n",
       "      <td>[{'id': 101}, {'id': 402}, {'id': 201}, {'id':...</td>\n",
       "      <td>Shot</td>\n",
       "      <td>1H</td>\n",
       "      <td>2.0</td>\n",
       "    </tr>\n",
       "    <tr>\n",
       "      <th>91</th>\n",
       "      <td>14763</td>\n",
       "      <td>254.745027</td>\n",
       "      <td>1631</td>\n",
       "      <td>[{'id': 101}, {'id': 403}, {'id': 201}, {'id':...</td>\n",
       "      <td>Shot</td>\n",
       "      <td>1H</td>\n",
       "      <td>5.0</td>\n",
       "    </tr>\n",
       "    <tr>\n",
       "      <th>554</th>\n",
       "      <td>12829</td>\n",
       "      <td>1710.855093</td>\n",
       "      <td>1631</td>\n",
       "      <td>[{'id': 101}, {'id': 402}, {'id': 201}, {'id':...</td>\n",
       "      <td>Shot</td>\n",
       "      <td>1H</td>\n",
       "      <td>29.0</td>\n",
       "    </tr>\n",
       "    <tr>\n",
       "      <th>898</th>\n",
       "      <td>7945</td>\n",
       "      <td>2815.900791</td>\n",
       "      <td>1609</td>\n",
       "      <td>[{'id': 101}, {'id': 402}, {'id': 201}, {'id':...</td>\n",
       "      <td>Shot</td>\n",
       "      <td>1H</td>\n",
       "      <td>47.0</td>\n",
       "    </tr>\n",
       "    <tr>\n",
       "      <th>1107</th>\n",
       "      <td>12829</td>\n",
       "      <td>634.312236</td>\n",
       "      <td>1631</td>\n",
       "      <td>[{'id': 101}, {'id': 403}, {'id': 201}, {'id':...</td>\n",
       "      <td>Shot</td>\n",
       "      <td>2H</td>\n",
       "      <td>11.0</td>\n",
       "    </tr>\n",
       "  </tbody>\n",
       "</table>\n",
       "</div>"
      ],
      "text/plain": [
       "      playerId     eventSec  teamId  \\\n",
       "46       25413    94.595788    1609   \n",
       "91       14763   254.745027    1631   \n",
       "554      12829  1710.855093    1631   \n",
       "898       7945  2815.900791    1609   \n",
       "1107     12829   634.312236    1631   \n",
       "\n",
       "                                                   tags eventName matchPeriod  \\\n",
       "46    [{'id': 101}, {'id': 402}, {'id': 201}, {'id':...      Shot          1H   \n",
       "91    [{'id': 101}, {'id': 403}, {'id': 201}, {'id':...      Shot          1H   \n",
       "554   [{'id': 101}, {'id': 402}, {'id': 201}, {'id':...      Shot          1H   \n",
       "898   [{'id': 101}, {'id': 402}, {'id': 201}, {'id':...      Shot          1H   \n",
       "1107  [{'id': 101}, {'id': 403}, {'id': 201}, {'id':...      Shot          2H   \n",
       "\n",
       "      eventMin  \n",
       "46         2.0  \n",
       "91         5.0  \n",
       "554       29.0  \n",
       "898       47.0  \n",
       "1107      11.0  "
      ]
     },
     "execution_count": 67,
     "metadata": {},
     "output_type": "execute_result"
    }
   ],
   "source": [
    "goals_df.head()"
   ]
  },
  {
   "cell_type": "markdown",
   "metadata": {},
   "source": [
    "## Setting up time Ranges as per the Question"
   ]
  },
  {
   "cell_type": "code",
   "execution_count": 68,
   "metadata": {},
   "outputs": [],
   "source": [
    "time_slots = [t for t in pd.cut(goals_df['eventMin'], np.arange(0, 60, 9))]"
   ]
  },
  {
   "cell_type": "code",
   "execution_count": 69,
   "metadata": {},
   "outputs": [],
   "source": [
    "goals_df['time_slot'] = time_slots"
   ]
  },
  {
   "cell_type": "code",
   "execution_count": 70,
   "metadata": {},
   "outputs": [
    {
     "data": {
      "text/html": [
       "<div>\n",
       "<style scoped>\n",
       "    .dataframe tbody tr th:only-of-type {\n",
       "        vertical-align: middle;\n",
       "    }\n",
       "\n",
       "    .dataframe tbody tr th {\n",
       "        vertical-align: top;\n",
       "    }\n",
       "\n",
       "    .dataframe thead th {\n",
       "        text-align: right;\n",
       "    }\n",
       "</style>\n",
       "<table border=\"1\" class=\"dataframe\">\n",
       "  <thead>\n",
       "    <tr style=\"text-align: right;\">\n",
       "      <th></th>\n",
       "      <th>playerId</th>\n",
       "      <th>eventSec</th>\n",
       "      <th>teamId</th>\n",
       "      <th>tags</th>\n",
       "      <th>eventName</th>\n",
       "      <th>matchPeriod</th>\n",
       "      <th>eventMin</th>\n",
       "      <th>time_slot</th>\n",
       "    </tr>\n",
       "  </thead>\n",
       "  <tbody>\n",
       "    <tr>\n",
       "      <th>46</th>\n",
       "      <td>25413</td>\n",
       "      <td>94.595788</td>\n",
       "      <td>1609</td>\n",
       "      <td>[{'id': 101}, {'id': 402}, {'id': 201}, {'id':...</td>\n",
       "      <td>Shot</td>\n",
       "      <td>1H</td>\n",
       "      <td>2.0</td>\n",
       "      <td>(0, 9]</td>\n",
       "    </tr>\n",
       "    <tr>\n",
       "      <th>91</th>\n",
       "      <td>14763</td>\n",
       "      <td>254.745027</td>\n",
       "      <td>1631</td>\n",
       "      <td>[{'id': 101}, {'id': 403}, {'id': 201}, {'id':...</td>\n",
       "      <td>Shot</td>\n",
       "      <td>1H</td>\n",
       "      <td>5.0</td>\n",
       "      <td>(0, 9]</td>\n",
       "    </tr>\n",
       "    <tr>\n",
       "      <th>554</th>\n",
       "      <td>12829</td>\n",
       "      <td>1710.855093</td>\n",
       "      <td>1631</td>\n",
       "      <td>[{'id': 101}, {'id': 402}, {'id': 201}, {'id':...</td>\n",
       "      <td>Shot</td>\n",
       "      <td>1H</td>\n",
       "      <td>29.0</td>\n",
       "      <td>(27, 36]</td>\n",
       "    </tr>\n",
       "    <tr>\n",
       "      <th>898</th>\n",
       "      <td>7945</td>\n",
       "      <td>2815.900791</td>\n",
       "      <td>1609</td>\n",
       "      <td>[{'id': 101}, {'id': 402}, {'id': 201}, {'id':...</td>\n",
       "      <td>Shot</td>\n",
       "      <td>1H</td>\n",
       "      <td>47.0</td>\n",
       "      <td>(45, 54]</td>\n",
       "    </tr>\n",
       "    <tr>\n",
       "      <th>1107</th>\n",
       "      <td>12829</td>\n",
       "      <td>634.312236</td>\n",
       "      <td>1631</td>\n",
       "      <td>[{'id': 101}, {'id': 403}, {'id': 201}, {'id':...</td>\n",
       "      <td>Shot</td>\n",
       "      <td>2H</td>\n",
       "      <td>11.0</td>\n",
       "      <td>(9, 18]</td>\n",
       "    </tr>\n",
       "  </tbody>\n",
       "</table>\n",
       "</div>"
      ],
      "text/plain": [
       "      playerId     eventSec  teamId  \\\n",
       "46       25413    94.595788    1609   \n",
       "91       14763   254.745027    1631   \n",
       "554      12829  1710.855093    1631   \n",
       "898       7945  2815.900791    1609   \n",
       "1107     12829   634.312236    1631   \n",
       "\n",
       "                                                   tags eventName matchPeriod  \\\n",
       "46    [{'id': 101}, {'id': 402}, {'id': 201}, {'id':...      Shot          1H   \n",
       "91    [{'id': 101}, {'id': 403}, {'id': 201}, {'id':...      Shot          1H   \n",
       "554   [{'id': 101}, {'id': 402}, {'id': 201}, {'id':...      Shot          1H   \n",
       "898   [{'id': 101}, {'id': 402}, {'id': 201}, {'id':...      Shot          1H   \n",
       "1107  [{'id': 101}, {'id': 403}, {'id': 201}, {'id':...      Shot          2H   \n",
       "\n",
       "      eventMin time_slot  \n",
       "46         2.0    (0, 9]  \n",
       "91         5.0    (0, 9]  \n",
       "554       29.0  (27, 36]  \n",
       "898       47.0  (45, 54]  \n",
       "1107      11.0   (9, 18]  "
      ]
     },
     "execution_count": 70,
     "metadata": {},
     "output_type": "execute_result"
    }
   ],
   "source": [
    "goals_df.head()"
   ]
  },
  {
   "cell_type": "markdown",
   "metadata": {},
   "source": [
    "## Summerizing the Goals in range for each player , segregating by Match Halves"
   ]
  },
  {
   "cell_type": "code",
   "execution_count": 71,
   "metadata": {},
   "outputs": [],
   "source": [
    "res = goals_df.groupby(['matchPeriod', 'time_slot']).count()[['playerId']]\n",
    "res.columns = ['Goals']"
   ]
  },
  {
   "cell_type": "code",
   "execution_count": 72,
   "metadata": {},
   "outputs": [
    {
     "data": {
      "text/html": [
       "<div>\n",
       "<style scoped>\n",
       "    .dataframe tbody tr th:only-of-type {\n",
       "        vertical-align: middle;\n",
       "    }\n",
       "\n",
       "    .dataframe tbody tr th {\n",
       "        vertical-align: top;\n",
       "    }\n",
       "\n",
       "    .dataframe thead th {\n",
       "        text-align: right;\n",
       "    }\n",
       "</style>\n",
       "<table border=\"1\" class=\"dataframe\">\n",
       "  <thead>\n",
       "    <tr style=\"text-align: right;\">\n",
       "      <th></th>\n",
       "      <th></th>\n",
       "      <th>Goals</th>\n",
       "    </tr>\n",
       "    <tr>\n",
       "      <th>matchPeriod</th>\n",
       "      <th>time_slot</th>\n",
       "      <th></th>\n",
       "    </tr>\n",
       "  </thead>\n",
       "  <tbody>\n",
       "    <tr>\n",
       "      <th rowspan=\"6\" valign=\"top\">1H</th>\n",
       "      <th>(0, 9]</th>\n",
       "      <td>70</td>\n",
       "    </tr>\n",
       "    <tr>\n",
       "      <th>(9, 18]</th>\n",
       "      <td>75</td>\n",
       "    </tr>\n",
       "    <tr>\n",
       "      <th>(18, 27]</th>\n",
       "      <td>85</td>\n",
       "    </tr>\n",
       "    <tr>\n",
       "      <th>(27, 36]</th>\n",
       "      <td>72</td>\n",
       "    </tr>\n",
       "    <tr>\n",
       "      <th>(36, 45]</th>\n",
       "      <td>87</td>\n",
       "    </tr>\n",
       "    <tr>\n",
       "      <th>(45, 54]</th>\n",
       "      <td>24</td>\n",
       "    </tr>\n",
       "    <tr>\n",
       "      <th rowspan=\"6\" valign=\"top\">2H</th>\n",
       "      <th>(0, 9]</th>\n",
       "      <td>104</td>\n",
       "    </tr>\n",
       "    <tr>\n",
       "      <th>(9, 18]</th>\n",
       "      <td>101</td>\n",
       "    </tr>\n",
       "    <tr>\n",
       "      <th>(18, 27]</th>\n",
       "      <td>101</td>\n",
       "    </tr>\n",
       "    <tr>\n",
       "      <th>(27, 36]</th>\n",
       "      <td>115</td>\n",
       "    </tr>\n",
       "    <tr>\n",
       "      <th>(36, 45]</th>\n",
       "      <td>105</td>\n",
       "    </tr>\n",
       "    <tr>\n",
       "      <th>(45, 54]</th>\n",
       "      <td>49</td>\n",
       "    </tr>\n",
       "  </tbody>\n",
       "</table>\n",
       "</div>"
      ],
      "text/plain": [
       "                       Goals\n",
       "matchPeriod time_slot       \n",
       "1H          (0, 9]        70\n",
       "            (9, 18]       75\n",
       "            (18, 27]      85\n",
       "            (27, 36]      72\n",
       "            (36, 45]      87\n",
       "            (45, 54]      24\n",
       "2H          (0, 9]       104\n",
       "            (9, 18]      101\n",
       "            (18, 27]     101\n",
       "            (27, 36]     115\n",
       "            (36, 45]     105\n",
       "            (45, 54]      49"
      ]
     },
     "execution_count": 72,
     "metadata": {},
     "output_type": "execute_result"
    }
   ],
   "source": [
    "res.sort_index()"
   ]
  },
  {
   "cell_type": "markdown",
   "metadata": {},
   "source": [
    "## Result (i) : Barplot with the absolute frequency of goals in all the time slots."
   ]
  },
  {
   "cell_type": "code",
   "execution_count": 73,
   "metadata": {},
   "outputs": [
    {
     "data": {
      "image/png": "[encoded data removed]",
      "text/plain": [
       "<Figure size 432x288 with 1 Axes>"
      ]
     },
     "metadata": {
      "needs_background": "light"
     },
     "output_type": "display_data"
    }
   ],
   "source": [
    "res_plot = res.plot(kind='bar', legend=False)"
   ]
  },
  {
   "cell_type": "markdown",
   "metadata": {},
   "source": [
    "## merging and filtering the Dataset with time duration 81 to 90 Mins, or 2H (36 to 45) Mins"
   ]
  },
  {
   "cell_type": "code",
   "execution_count": 74,
   "metadata": {},
   "outputs": [],
   "source": [
    "res1 = goals_df.groupby(['teamId', 'time_slot', 'matchPeriod']).count()[['playerId']].reset_index()\n",
    "res1.columns = ['teamId','time_slot','matchPeriod','scores']\n",
    "res1 = res1.loc[[str(t) == '(36, 45]' for t in res1['time_slot']]]\n",
    "res1 = res1.loc[[str(t).find('2H') != -1 for t in res1['matchPeriod']]]"
   ]
  },
  {
   "cell_type": "code",
   "execution_count": 75,
   "metadata": {},
   "outputs": [],
   "source": [
    "res1 = pd.merge(left = res1, right=teams_df, left_on='teamId', right_on='wyId')[['time_slot','matchPeriod','scores','officialName']]"
   ]
  },
  {
   "cell_type": "markdown",
   "metadata": {},
   "source": [
    "## Result (ii) : Find the top 10 teams that score the most in the interval \"81-90\""
   ]
  },
  {
   "cell_type": "code",
   "execution_count": 76,
   "metadata": {},
   "outputs": [
    {
     "data": {
      "text/html": [
       "<div>\n",
       "<style scoped>\n",
       "    .dataframe tbody tr th:only-of-type {\n",
       "        vertical-align: middle;\n",
       "    }\n",
       "\n",
       "    .dataframe tbody tr th {\n",
       "        vertical-align: top;\n",
       "    }\n",
       "\n",
       "    .dataframe thead th {\n",
       "        text-align: right;\n",
       "    }\n",
       "</style>\n",
       "<table border=\"1\" class=\"dataframe\">\n",
       "  <thead>\n",
       "    <tr style=\"text-align: right;\">\n",
       "      <th></th>\n",
       "      <th>time_slot</th>\n",
       "      <th>matchPeriod</th>\n",
       "      <th>scores</th>\n",
       "      <th>officialName</th>\n",
       "    </tr>\n",
       "  </thead>\n",
       "  <tbody>\n",
       "    <tr>\n",
       "      <th>8</th>\n",
       "      <td>(36, 45]</td>\n",
       "      <td>2H</td>\n",
       "      <td>13</td>\n",
       "      <td>Manchester City FC</td>\n",
       "    </tr>\n",
       "    <tr>\n",
       "      <th>0</th>\n",
       "      <td>(36, 45]</td>\n",
       "      <td>2H</td>\n",
       "      <td>11</td>\n",
       "      <td>Arsenal FC</td>\n",
       "    </tr>\n",
       "    <tr>\n",
       "      <th>2</th>\n",
       "      <td>(36, 45]</td>\n",
       "      <td>2H</td>\n",
       "      <td>9</td>\n",
       "      <td>Manchester United FC</td>\n",
       "    </tr>\n",
       "    <tr>\n",
       "      <th>1</th>\n",
       "      <td>(36, 45]</td>\n",
       "      <td>2H</td>\n",
       "      <td>9</td>\n",
       "      <td>Chelsea FC</td>\n",
       "    </tr>\n",
       "    <tr>\n",
       "      <th>3</th>\n",
       "      <td>(36, 45]</td>\n",
       "      <td>2H</td>\n",
       "      <td>7</td>\n",
       "      <td>Liverpool FC</td>\n",
       "    </tr>\n",
       "    <tr>\n",
       "      <th>10</th>\n",
       "      <td>(36, 45]</td>\n",
       "      <td>2H</td>\n",
       "      <td>7</td>\n",
       "      <td>Crystal Palace FC</td>\n",
       "    </tr>\n",
       "    <tr>\n",
       "      <th>14</th>\n",
       "      <td>(36, 45]</td>\n",
       "      <td>2H</td>\n",
       "      <td>7</td>\n",
       "      <td>Watford FC</td>\n",
       "    </tr>\n",
       "    <tr>\n",
       "      <th>12</th>\n",
       "      <td>(36, 45]</td>\n",
       "      <td>2H</td>\n",
       "      <td>6</td>\n",
       "      <td>West Ham United FC</td>\n",
       "    </tr>\n",
       "    <tr>\n",
       "      <th>17</th>\n",
       "      <td>(36, 45]</td>\n",
       "      <td>2H</td>\n",
       "      <td>5</td>\n",
       "      <td>AFC Bournemouth</td>\n",
       "    </tr>\n",
       "    <tr>\n",
       "      <th>7</th>\n",
       "      <td>(36, 45]</td>\n",
       "      <td>2H</td>\n",
       "      <td>5</td>\n",
       "      <td>Tottenham Hotspur FC</td>\n",
       "    </tr>\n",
       "  </tbody>\n",
       "</table>\n",
       "</div>"
      ],
      "text/plain": [
       "   time_slot matchPeriod  scores          officialName\n",
       "8   (36, 45]          2H      13    Manchester City FC\n",
       "0   (36, 45]          2H      11            Arsenal FC\n",
       "2   (36, 45]          2H       9  Manchester United FC\n",
       "1   (36, 45]          2H       9            Chelsea FC\n",
       "3   (36, 45]          2H       7          Liverpool FC\n",
       "10  (36, 45]          2H       7     Crystal Palace FC\n",
       "14  (36, 45]          2H       7            Watford FC\n",
       "12  (36, 45]          2H       6    West Ham United FC\n",
       "17  (36, 45]          2H       5       AFC Bournemouth\n",
       "7   (36, 45]          2H       5  Tottenham Hotspur FC"
      ]
     },
     "execution_count": 76,
     "metadata": {},
     "output_type": "execute_result"
    }
   ],
   "source": [
    "res1.sort_values('scores', ascending=False).head(10)"
   ]
  },
  {
   "cell_type": "markdown",
   "metadata": {},
   "source": [
    "## summerizing the count of goal provided the condition of atleast one goal in 8 different Interval"
   ]
  },
  {
   "cell_type": "code",
   "execution_count": 77,
   "metadata": {},
   "outputs": [],
   "source": [
    "res2 = goals_df.groupby(['time_slot','playerId']).count().reset_index()[['time_slot','playerId','tags']]\n",
    "res2.columns = ['time_slot','playerId','scores']"
   ]
  },
  {
   "cell_type": "code",
   "execution_count": 78,
   "metadata": {},
   "outputs": [
    {
     "data": {
      "text/html": [
       "<div>\n",
       "<style scoped>\n",
       "    .dataframe tbody tr th:only-of-type {\n",
       "        vertical-align: middle;\n",
       "    }\n",
       "\n",
       "    .dataframe tbody tr th {\n",
       "        vertical-align: top;\n",
       "    }\n",
       "\n",
       "    .dataframe thead th {\n",
       "        text-align: right;\n",
       "    }\n",
       "</style>\n",
       "<table border=\"1\" class=\"dataframe\">\n",
       "  <thead>\n",
       "    <tr style=\"text-align: right;\">\n",
       "      <th></th>\n",
       "      <th>time_slot</th>\n",
       "      <th>playerId</th>\n",
       "      <th>scores</th>\n",
       "    </tr>\n",
       "  </thead>\n",
       "  <tbody>\n",
       "    <tr>\n",
       "      <th>0</th>\n",
       "      <td>(0, 9]</td>\n",
       "      <td>54</td>\n",
       "      <td>3</td>\n",
       "    </tr>\n",
       "    <tr>\n",
       "      <th>1</th>\n",
       "      <td>(0, 9]</td>\n",
       "      <td>160</td>\n",
       "      <td>1</td>\n",
       "    </tr>\n",
       "    <tr>\n",
       "      <th>2</th>\n",
       "      <td>(0, 9]</td>\n",
       "      <td>173</td>\n",
       "      <td>1</td>\n",
       "    </tr>\n",
       "    <tr>\n",
       "      <th>3</th>\n",
       "      <td>(0, 9]</td>\n",
       "      <td>383</td>\n",
       "      <td>1</td>\n",
       "    </tr>\n",
       "    <tr>\n",
       "      <th>4</th>\n",
       "      <td>(0, 9]</td>\n",
       "      <td>454</td>\n",
       "      <td>1</td>\n",
       "    </tr>\n",
       "  </tbody>\n",
       "</table>\n",
       "</div>"
      ],
      "text/plain": [
       "  time_slot  playerId  scores\n",
       "0    (0, 9]        54       3\n",
       "1    (0, 9]       160       1\n",
       "2    (0, 9]       173       1\n",
       "3    (0, 9]       383       1\n",
       "4    (0, 9]       454       1"
      ]
     },
     "execution_count": 78,
     "metadata": {},
     "output_type": "execute_result"
    }
   ],
   "source": [
    "res2.head()"
   ]
  },
  {
   "cell_type": "code",
   "execution_count": 79,
   "metadata": {},
   "outputs": [],
   "source": [
    "res2 = res2.groupby('playerId').count().reset_index()[['playerId','time_slot']]\n",
    "res2.columns = ['playerId', 'nslot_covered']"
   ]
  },
  {
   "cell_type": "markdown",
   "metadata": {},
   "source": [
    "## Result (iii) : Show if there are players that were able to score at least one goal in 8 different intervals\n",
    "so we observed that thee is no player who goal in all intervals"
   ]
  },
  {
   "cell_type": "code",
   "execution_count": 80,
   "metadata": {},
   "outputs": [
    {
     "data": {
      "text/html": [
       "<div>\n",
       "<style scoped>\n",
       "    .dataframe tbody tr th:only-of-type {\n",
       "        vertical-align: middle;\n",
       "    }\n",
       "\n",
       "    .dataframe tbody tr th {\n",
       "        vertical-align: top;\n",
       "    }\n",
       "\n",
       "    .dataframe thead th {\n",
       "        text-align: right;\n",
       "    }\n",
       "</style>\n",
       "<table border=\"1\" class=\"dataframe\">\n",
       "  <thead>\n",
       "    <tr style=\"text-align: right;\">\n",
       "      <th></th>\n",
       "      <th>playerId</th>\n",
       "      <th>nslot_covered</th>\n",
       "    </tr>\n",
       "  </thead>\n",
       "  <tbody>\n",
       "    <tr>\n",
       "      <th>173</th>\n",
       "      <td>26150</td>\n",
       "      <td>6</td>\n",
       "    </tr>\n",
       "    <tr>\n",
       "      <th>141</th>\n",
       "      <td>15808</td>\n",
       "      <td>6</td>\n",
       "    </tr>\n",
       "    <tr>\n",
       "      <th>210</th>\n",
       "      <td>120353</td>\n",
       "      <td>6</td>\n",
       "    </tr>\n",
       "    <tr>\n",
       "      <th>129</th>\n",
       "      <td>12829</td>\n",
       "      <td>6</td>\n",
       "    </tr>\n",
       "    <tr>\n",
       "      <th>130</th>\n",
       "      <td>13484</td>\n",
       "      <td>6</td>\n",
       "    </tr>\n",
       "  </tbody>\n",
       "</table>\n",
       "</div>"
      ],
      "text/plain": [
       "     playerId  nslot_covered\n",
       "173     26150              6\n",
       "141     15808              6\n",
       "210    120353              6\n",
       "129     12829              6\n",
       "130     13484              6"
      ]
     },
     "execution_count": 80,
     "metadata": {},
     "output_type": "execute_result"
    }
   ],
   "source": [
    "res2.sort_values(by = 'nslot_covered', ascending=False).head()"
   ]
  },
  {
   "cell_type": "markdown",
   "metadata": {},
   "source": [
    "## CRQ2"
   ]
  },
  {
   "cell_type": "code",
   "execution_count": 96,
   "metadata": {},
   "outputs": [
    {
     "data": {
      "text/html": [
       "<div>\n",
       "<style scoped>\n",
       "    .dataframe tbody tr th:only-of-type {\n",
       "        vertical-align: middle;\n",
       "    }\n",
       "\n",
       "    .dataframe tbody tr th {\n",
       "        vertical-align: top;\n",
       "    }\n",
       "\n",
       "    .dataframe thead th {\n",
       "        text-align: right;\n",
       "    }\n",
       "</style>\n",
       "<table border=\"1\" class=\"dataframe\">\n",
       "  <thead>\n",
       "    <tr style=\"text-align: right;\">\n",
       "      <th></th>\n",
       "      <th>eventId</th>\n",
       "      <th>eventName</th>\n",
       "      <th>eventSec</th>\n",
       "      <th>id</th>\n",
       "      <th>matchId</th>\n",
       "      <th>matchPeriod</th>\n",
       "      <th>playerId</th>\n",
       "      <th>positions</th>\n",
       "      <th>subEventId</th>\n",
       "      <th>subEventName</th>\n",
       "      <th>tags</th>\n",
       "      <th>teamId</th>\n",
       "    </tr>\n",
       "  </thead>\n",
       "  <tbody>\n",
       "    <tr>\n",
       "      <th>0</th>\n",
       "      <td>8</td>\n",
       "      <td>Pass</td>\n",
       "      <td>2.758649</td>\n",
       "      <td>177959171</td>\n",
       "      <td>2499719</td>\n",
       "      <td>1H</td>\n",
       "      <td>25413</td>\n",
       "      <td>[{'y': 49, 'x': 49}, {'y': 78, 'x': 31}]</td>\n",
       "      <td>85</td>\n",
       "      <td>Simple pass</td>\n",
       "      <td>[{'id': 1801}]</td>\n",
       "      <td>1609</td>\n",
       "    </tr>\n",
       "    <tr>\n",
       "      <th>1</th>\n",
       "      <td>8</td>\n",
       "      <td>Pass</td>\n",
       "      <td>4.946850</td>\n",
       "      <td>177959172</td>\n",
       "      <td>2499719</td>\n",
       "      <td>1H</td>\n",
       "      <td>370224</td>\n",
       "      <td>[{'y': 78, 'x': 31}, {'y': 75, 'x': 51}]</td>\n",
       "      <td>83</td>\n",
       "      <td>High pass</td>\n",
       "      <td>[{'id': 1801}]</td>\n",
       "      <td>1609</td>\n",
       "    </tr>\n",
       "    <tr>\n",
       "      <th>2</th>\n",
       "      <td>8</td>\n",
       "      <td>Pass</td>\n",
       "      <td>6.542188</td>\n",
       "      <td>177959173</td>\n",
       "      <td>2499719</td>\n",
       "      <td>1H</td>\n",
       "      <td>3319</td>\n",
       "      <td>[{'y': 75, 'x': 51}, {'y': 71, 'x': 35}]</td>\n",
       "      <td>82</td>\n",
       "      <td>Head pass</td>\n",
       "      <td>[{'id': 1801}]</td>\n",
       "      <td>1609</td>\n",
       "    </tr>\n",
       "    <tr>\n",
       "      <th>3</th>\n",
       "      <td>8</td>\n",
       "      <td>Pass</td>\n",
       "      <td>8.143395</td>\n",
       "      <td>177959174</td>\n",
       "      <td>2499719</td>\n",
       "      <td>1H</td>\n",
       "      <td>120339</td>\n",
       "      <td>[{'y': 71, 'x': 35}, {'y': 95, 'x': 41}]</td>\n",
       "      <td>82</td>\n",
       "      <td>Head pass</td>\n",
       "      <td>[{'id': 1801}]</td>\n",
       "      <td>1609</td>\n",
       "    </tr>\n",
       "    <tr>\n",
       "      <th>4</th>\n",
       "      <td>8</td>\n",
       "      <td>Pass</td>\n",
       "      <td>10.302366</td>\n",
       "      <td>177959175</td>\n",
       "      <td>2499719</td>\n",
       "      <td>1H</td>\n",
       "      <td>167145</td>\n",
       "      <td>[{'y': 95, 'x': 41}, {'y': 88, 'x': 72}]</td>\n",
       "      <td>85</td>\n",
       "      <td>Simple pass</td>\n",
       "      <td>[{'id': 1801}]</td>\n",
       "      <td>1609</td>\n",
       "    </tr>\n",
       "  </tbody>\n",
       "</table>\n",
       "</div>"
      ],
      "text/plain": [
       "   eventId eventName   eventSec         id  matchId matchPeriod  playerId  \\\n",
       "0        8      Pass   2.758649  177959171  2499719          1H     25413   \n",
       "1        8      Pass   4.946850  177959172  2499719          1H    370224   \n",
       "2        8      Pass   6.542188  177959173  2499719          1H      3319   \n",
       "3        8      Pass   8.143395  177959174  2499719          1H    120339   \n",
       "4        8      Pass  10.302366  177959175  2499719          1H    167145   \n",
       "\n",
       "                                  positions subEventId subEventName  \\\n",
       "0  [{'y': 49, 'x': 49}, {'y': 78, 'x': 31}]         85  Simple pass   \n",
       "1  [{'y': 78, 'x': 31}, {'y': 75, 'x': 51}]         83    High pass   \n",
       "2  [{'y': 75, 'x': 51}, {'y': 71, 'x': 35}]         82    Head pass   \n",
       "3  [{'y': 71, 'x': 35}, {'y': 95, 'x': 41}]         82    Head pass   \n",
       "4  [{'y': 95, 'x': 41}, {'y': 88, 'x': 72}]         85  Simple pass   \n",
       "\n",
       "             tags  teamId  \n",
       "0  [{'id': 1801}]    1609  \n",
       "1  [{'id': 1801}]    1609  \n",
       "2  [{'id': 1801}]    1609  \n",
       "3  [{'id': 1801}]    1609  \n",
       "4  [{'id': 1801}]    1609  "
      ]
     },
     "execution_count": 96,
     "metadata": {},
     "output_type": "execute_result"
    }
   ],
   "source": [
    "events_df.head() # take a look at data"
   ]
  },
  {
   "cell_type": "code",
   "execution_count": 97,
   "metadata": {},
   "outputs": [
    {
     "data": {
      "text/plain": [
       "array(['Pass', 'Duel', 'Foul', 'Free Kick', 'Shot', 'Save attempt',\n",
       "       'Others on the ball', 'Interruption', 'Goalkeeper leaving line',\n",
       "       'Offside'], dtype=object)"
      ]
     },
     "execution_count": 97,
     "metadata": {},
     "output_type": "execute_result"
    }
   ],
   "source": [
    "pd.unique(events_df['eventName']) # identifying the events"
   ]
  },
  {
   "cell_type": "markdown",
   "metadata": {},
   "source": [
    "## Importing Match and Event Data of Spain"
   ]
  },
  {
   "cell_type": "code",
   "execution_count": 95,
   "metadata": {},
   "outputs": [],
   "source": [
    "with zipfile.ZipFile(\"Soccer Data\\matches.zip\") as Z:\n",
    "    with Z.open('matches_Spain.json') as f:\n",
    "            matches_df = pd.read_json(f)\n",
    "with zipfile.ZipFile(\"Soccer Data\\events.zip\") as Z:\n",
    "    with Z.open('events_Spain.json') as f:\n",
    "            events_spain_df = pd.read_json(f)"
   ]
  },
  {
   "cell_type": "code",
   "execution_count": 86,
   "metadata": {},
   "outputs": [],
   "source": [
    "barcelona_madrid_id = 2565907 #Barcelona - Real Madrid\n",
    "CR7_id = 3359  # CR7 (Critiano Ronaldo)\n",
    "LM_id = 3322   # Messi"
   ]
  },
  {
   "cell_type": "markdown",
   "metadata": {},
   "source": [
    "Extract the start and end coordination of the given events and scale it to a pitch of size 90x130, The scale of the given data is 100x100."
   ]
  },
  {
   "cell_type": "code",
   "execution_count": 83,
   "metadata": {},
   "outputs": [],
   "source": [
    "def event_coordinate(coordinate):\n",
    "    [[_,y_start],[_,x_start],[_,y_end],[_,x_end]] = [i.split(': ') for i in str(coordinate).replace('[','').replace(']','').replace('{','').replace('}','').split(',')]\n",
    "    return int(x_start)/100*130, int(y_start)/100*90, int(x_end)/100*130, int(y_end)/100*90"
   ]
  },
  {
   "cell_type": "markdown",
   "metadata": {},
   "source": [
    "## Filtering the data with (passes shots duel and free kcick) for Ronaldo and Messi"
   ]
  },
  {
   "cell_type": "code",
   "execution_count": 87,
   "metadata": {},
   "outputs": [],
   "source": [
    "barcelona_madrid_df = events_spain_df[['eventName','matchId','positions','playerId']].loc[\n",
    "    events_spain_df['eventName'].isin(['Pass', 'Duel','Free Kick','Shot']) & \n",
    "    events_spain_df['matchId'].isin([barcelona_madrid_id]) &\n",
    "    events_spain_df['playerId'].isin([CR7_id])]\n",
    "xy_CR7 = barcelona_madrid_df['positions'].apply(event_coordinate)\n",
    "xy_CR7 = xy_CR7.loc[[i[2] != 0 and i[3] != 0 for i in xy_CR7]]"
   ]
  },
  {
   "cell_type": "code",
   "execution_count": 88,
   "metadata": {},
   "outputs": [],
   "source": [
    "barcelona_madrid_df = events_spain_df[['eventName','matchId','positions','playerId']].loc[\n",
    "    events_spain_df['eventName'].isin(['Pass', 'Duel','Free Kick','Shot']) & \n",
    "    events_spain_df['matchId'].isin([barcelona_madrid_id]) &\n",
    "    events_spain_df['playerId'].isin([LM_id])]\n",
    "xy_LM = barcelona_madrid_df['positions'].apply(event_coordinate)\n",
    "xy_LM = xy_CR7.loc[[i[2] != 0 and i[3] != 0 for i in xy_LM]]"
   ]
  },
  {
   "cell_type": "markdown",
   "metadata": {},
   "source": [
    "## Plotting the clear pitch"
   ]
  },
  {
   "cell_type": "code",
   "execution_count": 89,
   "metadata": {},
   "outputs": [],
   "source": [
    "from matplotlib.patches import Arc\n",
    "import seaborn as sns\n",
    "#Create figure\n",
    "def plot_pitch():\n",
    "    fig=plt.figure()\n",
    "    fig.set_size_inches(7, 5)\n",
    "    ax=fig.add_subplot(1,1,1)\n",
    "\n",
    "    #Pitch Outline & Centre Line\n",
    "    plt.plot([0,0],[0,90], color=\"black\")\n",
    "    plt.plot([0,130],[90,90], color=\"black\")\n",
    "    plt.plot([130,130],[90,0], color=\"black\")\n",
    "    plt.plot([130,0],[0,0], color=\"black\")\n",
    "    plt.plot([65,65],[0,90], color=\"black\")\n",
    "\n",
    "    #Left Penalty Area\n",
    "    plt.plot([16.5,16.5],[65,25],color=\"black\")\n",
    "    plt.plot([0,16.5],[65,65],color=\"black\")\n",
    "    plt.plot([16.5,0],[25,25],color=\"black\")\n",
    "\n",
    "    #Right Penalty Area\n",
    "    plt.plot([130,113.5],[65,65],color=\"black\")\n",
    "    plt.plot([113.5,113.5],[65,25],color=\"black\")\n",
    "    plt.plot([113.5,130],[25,25],color=\"black\")\n",
    "\n",
    "    #Left 6-yard Box\n",
    "    plt.plot([0,5.5],[54,54],color=\"black\")\n",
    "    plt.plot([5.5,5.5],[54,36],color=\"black\")\n",
    "    plt.plot([5.5,0.5],[36,36],color=\"black\")\n",
    "\n",
    "    #Right 6-yard Box\n",
    "    plt.plot([130,124.5],[54,54],color=\"black\")\n",
    "    plt.plot([124.5,124.5],[54,36],color=\"black\")\n",
    "    plt.plot([124.5,130],[36,36],color=\"black\")\n",
    "\n",
    "    #Prepare Circles\n",
    "    centreCircle = plt.Circle((65,45),9.15,color=\"black\",fill=False)\n",
    "    centreSpot = plt.Circle((65,45),0.8,color=\"black\")\n",
    "    leftPenSpot = plt.Circle((11,45),0.8,color=\"black\")\n",
    "    rightPenSpot = plt.Circle((119,45),0.8,color=\"black\")\n",
    "\n",
    "    #Draw Circles\n",
    "    ax.add_patch(centreCircle)\n",
    "    ax.add_patch(centreSpot)\n",
    "    ax.add_patch(leftPenSpot)\n",
    "    ax.add_patch(rightPenSpot)\n",
    "\n",
    "    #Prepare Arcs\n",
    "    leftArc = Arc((11,45),height=18.3,width=18.3,angle=0,theta1=310,theta2=50,color=\"black\")\n",
    "    rightArc = Arc((119,45),height=18.3,width=18.3,angle=0,theta1=130,theta2=230,color=\"black\")\n",
    "\n",
    "    #Draw Arcs\n",
    "    ax.add_patch(leftArc)\n",
    "    ax.add_patch(rightArc)\n",
    "\n",
    "    #Tidy Axes\n",
    "    plt.axis('off')"
   ]
  },
  {
   "cell_type": "markdown",
   "metadata": {},
   "source": [
    "## CR7 heatmap\n",
    "Ronaldo is a good CAM player that well equipped with good dribbling and finishing skills. At times he even play as CF/Striker to support attack or as contingency plans."
   ]
  },
  {
   "cell_type": "code",
   "execution_count": 92,
   "metadata": {},
   "outputs": [
    {
     "data": {
      "image/png": "[encoded data removed]",
      "text/plain": [
       "<Figure size 504x360 with 1 Axes>"
      ]
     },
     "metadata": {
      "needs_background": "light"
     },
     "output_type": "display_data"
    }
   ],
   "source": [
    "plot_pitch()\n",
    "x_coord = [i[0] for i in xy_CR7]\n",
    "y_coord = [i[1] for i in xy_CR7]\n",
    "sns.kdeplot(x_coord, y_coord, shade = \"True\", color = \"green\", n_levels = 30, shade_lowest = False)\n",
    "plt.title('CR7', fontsize = 16)\n",
    "plt.show()"
   ]
  },
  {
   "cell_type": "markdown",
   "metadata": {},
   "source": [
    "## Messi heatmap\n",
    "We can observe that messi is more of CM (center-midfielder) player and more support striker and forwards and inclined to left side."
   ]
  },
  {
   "cell_type": "code",
   "execution_count": 94,
   "metadata": {},
   "outputs": [
    {
     "data": {
      "image/png": "[encoded data removed]",
      "text/plain": [
       "<Figure size 504x360 with 1 Axes>"
      ]
     },
     "metadata": {
      "needs_background": "light"
     },
     "output_type": "display_data"
    }
   ],
   "source": [
    "plot_pitch()\n",
    "x_coord = [i[0] for i in xy_LM]\n",
    "y_coord = [i[1] for i in xy_LM]\n",
    "sns.kdeplot(x_coord, y_coord, shade = \"True\", color = \"green\", n_levels = 30, shade_lowest = False)\n",
    "plt.title('Messi', fontsize = 16)\n",
    "plt.show()"
   ]
  },
  {
   "cell_type": "markdown",
   "metadata": {},
   "source": [
    "## Import Match and event for Italy"
   ]
  },
  {
   "cell_type": "code",
   "execution_count": 98,
   "metadata": {},
   "outputs": [],
   "source": [
    "with zipfile.ZipFile(\"Soccer Data\\matches.zip\") as Z:\n",
    "    with Z.open('matches_Italy.json') as f:\n",
    "            matches_df = pd.read_json(f)\n",
    "with zipfile.ZipFile(\"Soccer Data\\events.zip\") as Z:\n",
    "    with Z.open('events_Italy.json') as f:\n",
    "            events_italy_df = pd.read_json(f)"
   ]
  },
  {
   "cell_type": "code",
   "execution_count": 99,
   "metadata": {},
   "outputs": [],
   "source": [
    "juventus_napoli_id = 2576295 #juventus - napoli\n",
    "Jorg_id = 21315  # Jorginho\n",
    "Pjan_id = 20443 # Miralem Pjanic"
   ]
  },
  {
   "cell_type": "code",
   "execution_count": 100,
   "metadata": {},
   "outputs": [],
   "source": [
    "juventus_napoli_df = events_italy_df[['eventName','matchId','positions','playerId']].loc[\n",
    "    events_italy_df['eventName'].isin(['Pass', 'Duel','Free Kick','Shot']) & \n",
    "    events_italy_df['matchId'].isin([juventus_napoli_id]) &\n",
    "    events_italy_df['playerId'].isin([Jorg_id])]\n",
    "xy_Jorg = juventus_napoli_df['positions'].apply(event_coordinate)\n",
    "xy_Jorg = xy_Jorg.loc[[i[2] != 0 and i[3] != 0 for i in xy_Jorg]]"
   ]
  },
  {
   "cell_type": "markdown",
   "metadata": {},
   "source": [
    "## Jorginho\n",
    "Jorginho's intensive role is right wing, however he is supporting right and center strikers and forwards "
   ]
  },
  {
   "cell_type": "code",
   "execution_count": 105,
   "metadata": {},
   "outputs": [
    {
     "data": {
      "text/plain": [
       "Text(0.5, 1.0, 'Jorginho')"
      ]
     },
     "execution_count": 105,
     "metadata": {},
     "output_type": "execute_result"
    },
    {
     "data": {
      "image/png": "[encoded data removed]",
      "text/plain": [
       "<Figure size 504x360 with 1 Axes>"
      ]
     },
     "metadata": {
      "needs_background": "light"
     },
     "output_type": "display_data"
    }
   ],
   "source": [
    "plot_pitch()\n",
    "x_coord = [i[0] for i in xy_Jorg]\n",
    "y_coord = [i[1] for i in xy_Jorg]\n",
    "sns.kdeplot(x_coord, y_coord, shade = \"True\", color = \"green\", n_levels = 30, shade_lowest = False)\n",
    "for xy in xy_Jorg:\n",
    "    plt.annotate(xy = [xy[2],xy[3]], arrowprops=dict(arrowstyle=\"->\",connectionstyle=\"arc3\", color = \"blue\"),s ='',\n",
    "                 xytext = [xy[0],xy[1]])\n",
    "plt.title('Jorginho', fontsize=16)"
   ]
  },
  {
   "cell_type": "markdown",
   "metadata": {},
   "source": [
    "## Pjanic\n",
    "Like Jorginho, Pjanic role is right wing, but he is more active on center one-third of the pitch in comparison to Jorginho. It should be mentioned that generally Jorjinho support other players more than Pjanic. "
   ]
  },
  {
   "cell_type": "code",
   "execution_count": 106,
   "metadata": {},
   "outputs": [],
   "source": [
    "juventus_napoli_df = events_italy_df[['eventName','matchId','positions','playerId']].loc[\n",
    "    events_italy_df['eventName'].isin(['Pass', 'Duel','Free Kick','Shot']) & \n",
    "    events_italy_df['matchId'].isin([juventus_napoli_id]) &\n",
    "    events_italy_df['playerId'].isin([Pjan_id])]\n",
    "xy_Pjan = juventus_napoli_df['positions'].apply(event_coordinate)\n",
    "xy_Pjan = xy_Jorg.loc[[i[2] != 0 and i[3] != 0 for i in xy_Pjan]]"
   ]
  },
  {
   "cell_type": "code",
   "execution_count": 107,
   "metadata": {},
   "outputs": [
    {
     "data": {
      "text/plain": [
       "Text(0.5, 1.0, 'Pjanic')"
      ]
     },
     "execution_count": 107,
     "metadata": {},
     "output_type": "execute_result"
    },
    {
     "data": {
      "image/png": "[encoded data removed]",
      "text/plain": [
       "<Figure size 504x360 with 1 Axes>"
      ]
     },
     "metadata": {
      "needs_background": "light"
     },
     "output_type": "display_data"
    }
   ],
   "source": [
    "plot_pitch()\n",
    "#plt.title('asdasd')\n",
    "x_coord = [i[0] for i in xy_Pjan]\n",
    "y_coord = [i[1] for i in xy_Pjan]\n",
    "sns.kdeplot(x_coord, y_coord, shade = \"True\", color = \"green\", n_levels = 30, shade_lowest = False)\n",
    "for xy in xy_Pjan:\n",
    "    plt.annotate(xy = [xy[2],xy[3]], arrowprops=dict(arrowstyle=\"->\",connectionstyle=\"arc3\", color = \"blue\"),s ='',\n",
    "                 xytext = [xy[0],xy[1]])\n",
    "plt.title('Pjanic', fontsize=16)"
   ]
  },
  {
   "cell_type": "code",
   "execution_count": 115,
   "metadata": {},
   "outputs": [],
   "source": []
  },
  {
   "cell_type": "code",
   "execution_count": null,
   "metadata": {},
   "outputs": [],
   "source": []
  }
 ],
 "metadata": {
  "kernelspec": {
   "display_name": "Python 3",
   "language": "python",
   "name": "python3"
  },
  "language_info": {
   "codemirror_mode": {
    "name": "ipython",
    "version": 3
   },
   "file_extension": ".py",
   "mimetype": "text/x-python",
   "name": "python",
   "nbconvert_exporter": "python",
   "pygments_lexer": "ipython3",
   "version": "3.7.3"
  },
  "varInspector": {
   "cols": {
    "lenName": 16,
    "lenType": 16,
    "lenVar": 40
   },
   "kernels_config": {
    "python": {
     "delete_cmd_postfix": "",
     "delete_cmd_prefix": "del ",
     "library": "var_list.py",
     "varRefreshCmd": "print(var_dic_list())"
    },
    "r": {
     "delete_cmd_postfix": ") ",
     "delete_cmd_prefix": "rm(",
     "library": "var_list.r",
     "varRefreshCmd": "cat(var_dic_list()) "
    }
   },
   "types_to_exclude": [
    "module",
    "function",
    "builtin_function_or_method",
    "instance",
    "_Feature"
   ],
   "window_display": false
  }
 },
 "nbformat": 4,
 "nbformat_minor": 2
}
