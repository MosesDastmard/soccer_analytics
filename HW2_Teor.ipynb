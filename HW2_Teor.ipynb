{
 "cells": [
  {
   "cell_type": "code",
   "execution_count": 1,
   "metadata": {},
   "outputs": [],
   "source": [
    "# The code in HW02 description on Github seems written in R, so it is the Python version\n",
    "def swapList(l, n):\n",
    "    for i in range(int(n/2)):\n",
    "        tmp = a[l + i]\n",
    "        a[l + i] = a[(l + int(n/2) + i)]\n",
    "        a[(l + int(n/2) + i)] = tmp\n",
    "\n",
    "def splitSwap(l, n):\n",
    "    if (n <= 1):\n",
    "        return\n",
    "    else:\n",
    "        splitSwap(l, int(n/2))\n",
    "        splitSwap(int(l + n /2), int(n/2))\n",
    "        swapList(l, n)"
   ]
  },
  {
   "cell_type": "code",
   "execution_count": 9,
   "metadata": {},
   "outputs": [],
   "source": [
    "global a\n",
    "import numpy as np\n",
    "import time\n",
    "# to check the running time arrays of size in range 10000 to 500000 is randomly made\n",
    "results = list()\n",
    "for i in range(1,50):\n",
    "    a = list(np.random.randint(0, high=10, size=i*10000))\n",
    "    start_time = time.time()\n",
    "    splitSwap(0,len(a))\n",
    "    results.append([i*10000, time.time() - start_time])\n",
    "    "
   ]
  },
  {
   "cell_type": "code",
   "execution_count": 10,
   "metadata": {},
   "outputs": [
    {
     "name": "stdout",
     "output_type": "stream",
     "text": [
      "[[100000, 0.11664652824401855], [200000, 0.2323760986328125], [300000, 0.325148344039917], [400000, 0.4986588954925537], [500000, 0.607377290725708], [600000, 0.6981394290924072], [700000, 0.9624283313751221], [800000, 1.0521876811981201], [900000, 1.1558647155761719], [1000000, 1.3384122848510742], [1100000, 1.380300760269165], [1200000, 1.8200933933258057], [1300000, 2.0382487773895264], [1400000, 2.0744478702545166], [1500000, 2.1335151195526123], [1600000, 2.239893674850464], [1700000, 2.37235951423645], [1800000, 2.4472992420196533], [1900000, 2.6227033138275146], [2000000, 2.9267258644104004], [2100000, 2.972630739212036], [2200000, 3.0399115085601807], [2300000, 3.052839756011963], [2400000, 3.2024030685424805], [2500000, 3.2582833766937256], [2600000, 3.3929283618927], [2700000, 4.125967025756836], [2800000, 4.3047332763671875], [2900000, 4.3304221630096436], [3000000, 4.4371726512908936], [3100000, 4.669509649276733], [3200000, 4.725402355194092], [3300000, 5.017545223236084], [3400000, 5.140291929244995], [3500000, 5.041520833969116], [3600000, 5.107344627380371], [3700000, 5.266920328140259], [3800000, 5.373460531234741], [3900000, 5.5592474937438965], [4000000, 5.8782384395599365], [4100000, 6.1336328983306885], [4200000, 6.045872688293457], [4300000, 6.061792850494385], [4400000, 8.562073230743408], [4500000, 7.644689559936523], [4600000, 6.724027872085571], [4700000, 6.488647699356079], [4800000, 6.590381860733032], [4900000, 6.927480936050415]]\n"
     ]
    }
   ],
   "source": [
    "import pandas as pd\n",
    "results_df = pd.DataFrame(results)"
   ]
  },
  {
   "cell_type": "code",
   "execution_count": 11,
   "metadata": {},
   "outputs": [],
   "source": [
    "results_df.columns = ['array_size','runing_time']"
   ]
  },
  {
   "cell_type": "code",
   "execution_count": 12,
   "metadata": {},
   "outputs": [
    {
     "data": {
      "image/png": "[encoded data removed]",
      "text/plain": [
       "<Figure size 432x288 with 1 Axes>"
      ]
     },
     "metadata": {
      "needs_background": "light"
     },
     "output_type": "display_data"
    }
   ],
   "source": [
    "import matplotlib.pyplot as plt\n",
    "plt.scatter(x = results_df['array_size'], y = results_df['runing_time'])\n",
    "plt.show()"
   ]
  },
  {
   "cell_type": "markdown",
   "metadata": {},
   "source": [
    "## Master Theorem\n",
    "Based on master theorem [https://en.wikipedia.org/wiki/Master_theorem_(analysis_of_algorithms)] the problem in each node divided to two subproblem of the size n/2 till n reaches 1, in each node\n",
    "the order of the swapList function is O(n) so the running time is T(n) = 2*T(n/2)+O(n) as\n",
    "\n",
    "\\begin{align}\n",
    "f(n)=\\theta(n^{log^a_b})\n",
    "\\end{align}\n",
    "\n",
    "we are in case 2 of the master theorem that says the\n",
    "\n",
    "\\begin{align}\n",
    "T(n)=\\theta(n^{log^a_b}log(n))\n",
    "\\end{align}\n",
    "\n",
    "substitute a = 2 and b = 2 we will have \n",
    "\n",
    "\\begin{align}\n",
    "T(n)=\\theta(nlog(n))\n",
    "\\end{align}\n",
    "\n",
    "Also the running time can be calculated by analysing the binary tree of the recursive function, the f(n) will be of order n O(n) for each level of the tree while it can be demonstrate that depth of the tree (max level) will be log(n) so the whole running time will be of the order nlog(n) \n",
    "\n",
    "\n",
    "\n"
   ]
  },
  {
   "cell_type": "code",
   "execution_count": null,
   "metadata": {},
   "outputs": [],
   "source": []
  }
 ],
 "metadata": {
  "kernelspec": {
   "display_name": "Python 3",
   "language": "python",
   "name": "python3"
  },
  "language_info": {
   "codemirror_mode": {
    "name": "ipython",
    "version": 3
   },
   "file_extension": ".py",
   "mimetype": "text/x-python",
   "name": "python",
   "nbconvert_exporter": "python",
   "pygments_lexer": "ipython3",
   "version": "3.7.3"
  },
  "varInspector": {
   "cols": {
    "lenName": 16,
    "lenType": 16,
    "lenVar": 40
   },
   "kernels_config": {
    "python": {
     "delete_cmd_postfix": "",
     "delete_cmd_prefix": "del ",
     "library": "var_list.py",
     "varRefreshCmd": "print(var_dic_list())"
    },
    "r": {
     "delete_cmd_postfix": ") ",
     "delete_cmd_prefix": "rm(",
     "library": "var_list.r",
     "varRefreshCmd": "cat(var_dic_list()) "
    }
   },
   "types_to_exclude": [
    "module",
    "function",
    "builtin_function_or_method",
    "instance",
    "_Feature"
   ],
   "window_display": false
  }
 },
 "nbformat": 4,
 "nbformat_minor": 2
}
